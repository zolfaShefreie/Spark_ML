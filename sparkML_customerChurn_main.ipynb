{
  "cells": [
    {
      "cell_type": "markdown",
      "metadata": {
        "id": "view-in-github",
        "colab_type": "text"
      },
      "source": [
        "<a href=\"https://colab.research.google.com/github/zolfaShefreie/Spark_ML/blob/main/sparkML_customerChurn_main.ipynb\" target=\"_parent\"><img src=\"https://colab.research.google.com/assets/colab-badge.svg\" alt=\"Open In Colab\"/></a>"
      ]
    },
    {
      "cell_type": "markdown",
      "metadata": {
        "id": "StVP6FLRxeF7"
      },
      "source": [
        "#download dataset"
      ]
    },
    {
      "cell_type": "code",
      "execution_count": 1,
      "metadata": {
        "id": "JeT_M5FPxhpK"
      },
      "outputs": [],
      "source": [
        "import requests"
      ]
    },
    {
      "cell_type": "code",
      "execution_count": 2,
      "metadata": {
        "id": "D3z58BXExtSC"
      },
      "outputs": [],
      "source": [
        "customer_url = 'https://raw.githubusercontent.com/zolfaShefreie/Spark_ML/main/data.csv'\n",
        "customer_file_path = \"data.csv\""
      ]
    },
    {
      "cell_type": "code",
      "execution_count": 3,
      "metadata": {
        "id": "zcQN5FNCx9h0"
      },
      "outputs": [],
      "source": [
        "def download_file(url: str, file_path):\n",
        "  \"\"\"\n",
        "  download file and save on file path\n",
        "  \"\"\"\n",
        "  file_content = requests.get(url).text\n",
        "  file = open(file_path, 'w')\n",
        "  file.write(file_content)\n",
        "  file.close()"
      ]
    },
    {
      "cell_type": "code",
      "execution_count": 4,
      "metadata": {
        "id": "5z3fG7YDyAYr"
      },
      "outputs": [],
      "source": [
        "download_file(customer_url, customer_file_path)"
      ]
    },
    {
      "cell_type": "markdown",
      "metadata": {
        "id": "F2Qk25mEyHRn"
      },
      "source": [
        "#pyspark setup"
      ]
    },
    {
      "cell_type": "code",
      "execution_count": 5,
      "metadata": {
        "colab": {
          "base_uri": "https://localhost:8080/"
        },
        "id": "a-Dnf1LvyLtW",
        "outputId": "c375a35f-e2f4-46a0-8f1f-7718187ece25"
      },
      "outputs": [
        {
          "output_type": "stream",
          "name": "stdout",
          "text": [
            "Looking in indexes: https://pypi.org/simple, https://us-python.pkg.dev/colab-wheels/public/simple/\n",
            "Collecting pyspark\n",
            "  Downloading pyspark-3.2.1.tar.gz (281.4 MB)\n",
            "\u001b[K     |████████████████████████████████| 281.4 MB 34 kB/s \n",
            "\u001b[?25hCollecting py4j==0.10.9.3\n",
            "  Downloading py4j-0.10.9.3-py2.py3-none-any.whl (198 kB)\n",
            "\u001b[K     |████████████████████████████████| 198 kB 56.4 MB/s \n",
            "\u001b[?25hBuilding wheels for collected packages: pyspark\n",
            "  Building wheel for pyspark (setup.py) ... \u001b[?25l\u001b[?25hdone\n",
            "  Created wheel for pyspark: filename=pyspark-3.2.1-py2.py3-none-any.whl size=281853642 sha256=f2256080bf7692e86d6f91cd6136fe50416b7fce3ba9da5550ea9ad3940b82bc\n",
            "  Stored in directory: /root/.cache/pip/wheels/9f/f5/07/7cd8017084dce4e93e84e92efd1e1d5334db05f2e83bcef74f\n",
            "Successfully built pyspark\n",
            "Installing collected packages: py4j, pyspark\n",
            "Successfully installed py4j-0.10.9.3 pyspark-3.2.1\n"
          ]
        }
      ],
      "source": [
        "!pip install pyspark"
      ]
    },
    {
      "cell_type": "code",
      "execution_count": 6,
      "metadata": {
        "id": "pPdVNz1jyZtR"
      },
      "outputs": [],
      "source": [
        "import pyspark\n",
        "from pyspark.sql import SparkSession"
      ]
    },
    {
      "cell_type": "code",
      "execution_count": 7,
      "metadata": {
        "id": "faIplgpjycNJ"
      },
      "outputs": [],
      "source": [
        "spark = SparkSession.builder.config(\"spark.driver.memory\", \"8g\").appName('spark_ml').getOrCreate()\n",
        "sc = spark.sparkContext"
      ]
    },
    {
      "cell_type": "markdown",
      "metadata": {
        "id": "GvnBtGfD01PO"
      },
      "source": [
        "#imports"
      ]
    },
    {
      "cell_type": "code",
      "execution_count": 8,
      "metadata": {
        "id": "5tNOOW4qrDQk"
      },
      "outputs": [],
      "source": [
        "import matplotlib.pyplot as plt\n",
        "import seaborn as sns\n",
        "import numpy as np\n",
        "from functools import reduce"
      ]
    },
    {
      "cell_type": "code",
      "execution_count": 9,
      "metadata": {
        "id": "eTDBjdnW03GQ"
      },
      "outputs": [],
      "source": [
        "from pyspark.sql.functions import col,isnan, when, count, lit, coalesce\n",
        "from pyspark.ml.feature import MinMaxScaler\n",
        "from pyspark.ml.feature import OneHotEncoder, StringIndexer, VectorAssembler\n",
        "from pyspark.ml import Pipeline\n",
        "from pyspark.sql.functions import udf\n",
        "from pyspark.sql.types import DoubleType\n",
        "from pyspark.ml.classification import LogisticRegression\n",
        "from pyspark.ml.evaluation import BinaryClassificationEvaluator\n",
        "from pyspark.ml.stat import Correlation"
      ]
    },
    {
      "cell_type": "markdown",
      "metadata": {
        "id": "Cla6SkjIymIl"
      },
      "source": [
        "#load data"
      ]
    },
    {
      "cell_type": "code",
      "execution_count": 10,
      "metadata": {
        "id": "6YivWD58yo4j"
      },
      "outputs": [],
      "source": [
        "df = spark.read.csv(customer_file_path, inferSchema=True, header=True)"
      ]
    },
    {
      "cell_type": "code",
      "execution_count": 11,
      "metadata": {
        "colab": {
          "base_uri": "https://localhost:8080/"
        },
        "id": "nmiAsiBgznEl",
        "outputId": "e22a2479-0ee8-45dd-90d7-9fb56b5f5f16"
      },
      "outputs": [
        {
          "output_type": "stream",
          "name": "stdout",
          "text": [
            "root\n",
            " |-- customerID: string (nullable = true)\n",
            " |-- gender: string (nullable = true)\n",
            " |-- SeniorCitizen: double (nullable = true)\n",
            " |-- Partner: string (nullable = true)\n",
            " |-- Dependents: string (nullable = true)\n",
            " |-- tenure: double (nullable = true)\n",
            " |-- PhoneService: string (nullable = true)\n",
            " |-- MultipleLines: string (nullable = true)\n",
            " |-- InternetService: string (nullable = true)\n",
            " |-- OnlineSecurity: string (nullable = true)\n",
            " |-- OnlineBackup: string (nullable = true)\n",
            " |-- DeviceProtection: string (nullable = true)\n",
            " |-- TechSupport: string (nullable = true)\n",
            " |-- StreamingTV: string (nullable = true)\n",
            " |-- StreamingMovies: string (nullable = true)\n",
            " |-- Contract: string (nullable = true)\n",
            " |-- PaperlessBilling: string (nullable = true)\n",
            " |-- PaymentMethod: string (nullable = true)\n",
            " |-- MonthlyCharges: double (nullable = true)\n",
            " |-- TotalCharges: double (nullable = true)\n",
            " |-- Label: string (nullable = true)\n",
            "\n"
          ]
        }
      ],
      "source": [
        "df.printSchema()"
      ]
    },
    {
      "cell_type": "markdown",
      "metadata": {
        "id": "3bxc16VBPAjN"
      },
      "source": [
        "#Analyse data"
      ]
    },
    {
      "cell_type": "markdown",
      "metadata": {
        "id": "TK4T50e7qp6V"
      },
      "source": [
        "##basics"
      ]
    },
    {
      "cell_type": "markdown",
      "metadata": {
        "id": "zNk1JAGE3-Jx"
      },
      "source": [
        "تعداد‌ها به تعداد سطر‌های کل دیتافریم نمی‌خوره"
      ]
    },
    {
      "cell_type": "code",
      "execution_count": 12,
      "metadata": {
        "colab": {
          "base_uri": "https://localhost:8080/"
        },
        "id": "Fog33jpT0siJ",
        "outputId": "3149119f-efa6-4f31-cb58-f126ed2dfd6a"
      },
      "outputs": [
        {
          "output_type": "stream",
          "name": "stdout",
          "text": [
            "+-------+----------+------+-------------------+-------+----------+-----------------+------------+-------------+---------------+--------------+------------+----------------+-----------+-----------+---------------+--------------+----------------+--------------------+------------------+------------------+------+\n",
            "|summary|customerID|gender|      SeniorCitizen|Partner|Dependents|           tenure|PhoneService|MultipleLines|InternetService|OnlineSecurity|OnlineBackup|DeviceProtection|TechSupport|StreamingTV|StreamingMovies|      Contract|PaperlessBilling|       PaymentMethod|    MonthlyCharges|      TotalCharges| Label|\n",
            "+-------+----------+------+-------------------+-------+----------+-----------------+------------+-------------+---------------+--------------+------------+----------------+-----------+-----------+---------------+--------------+----------------+--------------------+------------------+------------------+------+\n",
            "|  count|    229737|229755|             229724| 229765|    229748|           229765|      229721|       229727|         229760|        229760|      229747|          229736|     229726|     229741|         229771|        229760|          229733|              229744|            229747|            229739|229782|\n",
            "|   mean|      null|  null|0.21505371663387368|   null|      null|49.43501838835332|        null|         null|           null|          null|        null|            null|       null|       null|           null|          null|            null|                null|126.33354646633663|3700.3237047256403|  null|\n",
            "| stddev|      null|  null| 0.8971977539088777|   null|      null|36.63299614293801|        null|         null|           null|          null|        null|            null|       null|       null|           null|          null|            null|                null| 856.9228133633615|2326.0362634043245|  null|\n",
            "|    min|0002-ORFBO|Female|                0.0|     No|        No|           -598.0|          No|           No|            DSL|            No|          No|              No|         No|         No|             No|Month-to-month|              No|Bank transfer (au...|             18.25|              18.8|    No|\n",
            "|    25%|      null|  null|                0.0|   null|      null|             37.0|        null|         null|           null|          null|        null|            null|       null|       null|           null|          null|            null|                null|              45.2|           1502.25|  null|\n",
            "|    50%|      null|  null|                0.0|   null|      null|             56.0|        null|         null|           null|          null|        null|            null|       null|       null|           null|          null|            null|                null|             78.95|            3533.6|  null|\n",
            "|    75%|      null|  null|                0.0|   null|      null|             68.0|        null|         null|           null|          null|        null|            null|       null|       null|           null|          null|            null|                null|              97.0|            5676.0|  null|\n",
            "|    max|9995-HOTOH|  Male|               17.0|    Yes|       Yes|             72.0|         Yes|          Yes|             No|           Yes|         Yes|             Yes|        Yes|        Yes|            Yes|      Two year|             Yes|        Mailed check|           14990.0|            8684.8|   Yes|\n",
            "+-------+----------+------+-------------------+-------+----------+-----------------+------------+-------------+---------------+--------------+------------+----------------+-----------+-----------+---------------+--------------+----------------+--------------------+------------------+------------------+------+\n",
            "\n"
          ]
        }
      ],
      "source": [
        "df.summary().show()"
      ]
    },
    {
      "cell_type": "code",
      "execution_count": 13,
      "metadata": {
        "colab": {
          "base_uri": "https://localhost:8080/"
        },
        "id": "4K-B7v123fRZ",
        "outputId": "c22120a1-96da-4637-8b86-c42f0d53cde4"
      },
      "outputs": [
        {
          "output_type": "execute_result",
          "data": {
            "text/plain": [
              "229990"
            ]
          },
          "metadata": {},
          "execution_count": 13
        }
      ],
      "source": [
        "df.count()"
      ]
    },
    {
      "cell_type": "markdown",
      "metadata": {
        "id": "-3ySSyFe4LMT"
      },
      "source": [
        "شمردن نال‌ها"
      ]
    },
    {
      "cell_type": "code",
      "execution_count": 14,
      "metadata": {
        "colab": {
          "base_uri": "https://localhost:8080/"
        },
        "id": "Yg9k5wU82TUp",
        "outputId": "570c5858-b1b1-4ea0-8249-e71dd7ded781"
      },
      "outputs": [
        {
          "output_type": "stream",
          "name": "stdout",
          "text": [
            "+----------+------+-------------+-------+----------+------+------------+-------------+---------------+--------------+------------+----------------+-----------+-----------+---------------+--------+----------------+-------------+--------------+------------+-----+\n",
            "|customerID|gender|SeniorCitizen|Partner|Dependents|tenure|PhoneService|MultipleLines|InternetService|OnlineSecurity|OnlineBackup|DeviceProtection|TechSupport|StreamingTV|StreamingMovies|Contract|PaperlessBilling|PaymentMethod|MonthlyCharges|TotalCharges|Label|\n",
            "+----------+------+-------------+-------+----------+------+------------+-------------+---------------+--------------+------------+----------------+-----------+-----------+---------------+--------+----------------+-------------+--------------+------------+-----+\n",
            "|       253|   235|          266|    225|       242|   225|         269|          263|            230|           230|         243|             254|        264|        249|            219|     230|             257|          246|           243|         251|  208|\n",
            "+----------+------+-------------+-------+----------+------+------------+-------------+---------------+--------------+------------+----------------+-----------+-----------+---------------+--------+----------------+-------------+--------------+------------+-----+\n",
            "\n"
          ]
        }
      ],
      "source": [
        "df.select([count(when(isnan(c) | col(c).isNull(), c)).alias(c) for c in df.columns]).show()"
      ]
    },
    {
      "cell_type": "markdown",
      "metadata": {
        "id": "rwzU8kgi4_lQ"
      },
      "source": [
        "طبق نتایج زیر نشون میده بعضی از سطرها در مجموعه داده بار‌ها تکرار شده‌اند. <br/>\n",
        "زمانی این موضوع مفید است که از یک دسته از داده که برچسب یکسانی دارند دارای اطلاعات خیلی کمی هستند که باعث میشه مدل نتواند آن برچسب را به‌درستی آموزش بیند.<br/>"
      ]
    },
    {
      "cell_type": "code",
      "execution_count": 15,
      "metadata": {
        "colab": {
          "base_uri": "https://localhost:8080/"
        },
        "id": "kBhoNNrP4-Nl",
        "outputId": "a263d3af-657e-4f5e-e18c-53d7c17d2e58"
      },
      "outputs": [
        {
          "output_type": "stream",
          "name": "stdout",
          "text": [
            "+----------+------+-------------+-------+----------+------+------------+----------------+---------------+-------------------+-------------------+-------------------+-------------------+-------------------+-------------------+--------------+----------------+--------------------+--------------+------------+-----+-----+\n",
            "|customerID|gender|SeniorCitizen|Partner|Dependents|tenure|PhoneService|   MultipleLines|InternetService|     OnlineSecurity|       OnlineBackup|   DeviceProtection|        TechSupport|        StreamingTV|    StreamingMovies|      Contract|PaperlessBilling|       PaymentMethod|MonthlyCharges|TotalCharges|Label|count|\n",
            "+----------+------+-------------+-------+----------+------+------------+----------------+---------------+-------------------+-------------------+-------------------+-------------------+-------------------+-------------------+--------------+----------------+--------------------+--------------+------------+-----+-----+\n",
            "|9356-AXGMP|  Male|          0.0|    Yes|        No|  38.0|         Yes|             Yes|    Fiber optic|                Yes|                 No|                Yes|                Yes|                Yes|                Yes|      One year|             Yes|    Electronic check|         110.7|      4428.6|   No|   38|\n",
            "|2277-BKJKN|Female|          1.0|    Yes|        No|  71.0|         Yes|              No|    Fiber optic|                 No|                Yes|                Yes|                 No|                Yes|                Yes|      Two year|             Yes|    Electronic check|          99.2|     7213.75|   No|   71|\n",
            "|9916-AYHTC|  Male|          0.0|     No|        No|  48.0|         Yes|              No|             No|No internet service|No internet service|No internet service|No internet service|No internet service|No internet service|      Two year|              No|Credit card (auto...|         19.85|       916.0|   No|   48|\n",
            "|0123-CRBRT|Female|          0.0|    Yes|       Yes|  61.0|         Yes|             Yes|            DSL|                Yes|                Yes|                Yes|                Yes|                Yes|                Yes|      Two year|              No|        Mailed check|          88.1|     5526.75|   No|   61|\n",
            "|4554-YGZIH|  Male|          1.0|    Yes|        No|  49.0|         Yes|             Yes|    Fiber optic|                 No|                Yes|                 No|                 No|                 No|                Yes|Month-to-month|              No|Credit card (auto...|         90.05|     4547.25|  Yes|   49|\n",
            "|6655-LHBYW|  Male|          0.0|     No|        No|  50.0|         Yes|             Yes|    Fiber optic|                Yes|                Yes|                Yes|                Yes|                Yes|                Yes|      One year|              No|Credit card (auto...|        114.35|      5791.1|   No|   50|\n",
            "|0254-FNMCI|Female|          0.0|     No|        No|  72.0|         Yes|              No|    Fiber optic|                Yes|                Yes|                Yes|                Yes|                Yes|                Yes|      Two year|             Yes|    Electronic check|         109.9|      7624.2|   No|   72|\n",
            "|0379-DJQHR|  Male|          0.0|    Yes|       Yes|  67.0|         Yes|              No|            DSL|                Yes|                Yes|                Yes|                 No|                Yes|                Yes|      Two year|              No|Credit card (auto...|         81.35|      5398.6|   No|   67|\n",
            "|8859-DZTGQ|  Male|          0.0|     No|        No|  33.0|         Yes|              No|             No|No internet service|No internet service|No internet service|No internet service|No internet service|No internet service|      Two year|              No|        Mailed check|         20.35|      689.75|   No|   33|\n",
            "|2101-RANCD|Female|          0.0|     No|        No|  55.0|         Yes|             Yes|    Fiber optic|                 No|                 No|                 No|                 No|                 No|                 No|Month-to-month|             Yes|    Electronic check|          73.1|      4144.9|   No|   55|\n",
            "|6896-SRVYQ|  Male|          1.0|     No|        No|  44.0|         Yes|              No|    Fiber optic|                 No|                 No|                Yes|                 No|                 No|                 No|Month-to-month|              No|    Electronic check|         73.85|      3122.4|   No|   44|\n",
            "|0238-WHBIQ|  Male|          0.0|    Yes|       Yes|  72.0|         Yes|             Yes|            DSL|                Yes|                Yes|                Yes|                Yes|                Yes|                Yes|      Two year|              No|Credit card (auto...|          89.7|      6339.3|   No|   72|\n",
            "|3407-JMJQQ|Female|          0.0|    Yes|       Yes|  71.0|         Yes|             Yes|    Fiber optic|                Yes|                Yes|                Yes|                 No|                Yes|                Yes|      Two year|             Yes|Bank transfer (au...|         109.0|      7661.8|   No|   71|\n",
            "|2632-TACXW|Female|          0.0|    Yes|        No|  62.0|         Yes|             Yes|             No|No internet service|No internet service|No internet service|No internet service|No internet service|No internet service|      Two year|              No|Bank transfer (au...|         23.65|     1416.75|   No|   62|\n",
            "|5202-IVJNU|Female|          0.0|     No|       Yes|  39.0|          No|No phone service|            DSL|                 No|                 No|                Yes|                 No|                 No|                 No|Month-to-month|              No|Credit card (auto...|          30.1|      1131.3|  Yes|   39|\n",
            "|4334-HOWRP|  Male|          1.0|    Yes|        No|  72.0|          No|No phone service|            DSL|                Yes|                Yes|                Yes|                Yes|                Yes|                Yes|      Two year|             Yes|Credit card (auto...|         64.95|      4546.0|   No|   72|\n",
            "|1934-SJVJK|  Male|          0.0|     No|        No|   1.0|         Yes|              No|             No|No internet service|No internet service|No internet service|No internet service|No internet service|No internet service|Month-to-month|              No|        Mailed check|         20.15|       20.15|  Yes|    1|\n",
            "|4877-TSOFF|Female|          0.0|    Yes|       Yes|  55.0|         Yes|             Yes|            DSL|                Yes|                Yes|                 No|                Yes|                 No|                Yes|      One year|             Yes|Bank transfer (au...|         75.75|     4264.25|   No|   55|\n",
            "|4647-MUZON|Female|          0.0|    Yes|        No|  18.0|         Yes|              No|    Fiber optic|                 No|                 No|                Yes|                 No|                Yes|                Yes|Month-to-month|             Yes|Credit card (auto...|         95.95|      1745.5|   No|   18|\n",
            "|5394-SVGJV|  Male|          0.0|     No|        No|  37.0|         Yes|             Yes|    Fiber optic|                 No|                 No|                 No|                Yes|                Yes|                Yes|Month-to-month|              No|Bank transfer (au...|          98.8|     3475.55|  Yes|   37|\n",
            "+----------+------+-------------+-------+----------+------+------------+----------------+---------------+-------------------+-------------------+-------------------+-------------------+-------------------+-------------------+--------------+----------------+--------------------+--------------+------------+-----+-----+\n",
            "only showing top 20 rows\n",
            "\n"
          ]
        }
      ],
      "source": [
        "df.select(df.columns).groupBy(df.columns).count().show()"
      ]
    },
    {
      "cell_type": "code",
      "execution_count": 16,
      "metadata": {
        "colab": {
          "base_uri": "https://localhost:8080/"
        },
        "id": "xul-ZqWM5GlB",
        "outputId": "a8ffe519-8f3d-4b90-9e8b-dda3d28cef91"
      },
      "outputs": [
        {
          "output_type": "stream",
          "name": "stdout",
          "text": [
            "+----------+\n",
            "|sum(count)|\n",
            "+----------+\n",
            "|    228579|\n",
            "+----------+\n",
            "\n"
          ]
        }
      ],
      "source": [
        "df.select(df.columns).groupBy(df.columns).count().filter(col('count')>1).agg({'count': 'sum'}).show()"
      ]
    },
    {
      "cell_type": "code",
      "execution_count": 17,
      "metadata": {
        "colab": {
          "base_uri": "https://localhost:8080/"
        },
        "id": "EyMzHpJw5lme",
        "outputId": "6838dfb5-4aa9-46a5-ae94-2fb6c4e6a656"
      },
      "outputs": [
        {
          "output_type": "execute_result",
          "data": {
            "text/plain": [
              "7838"
            ]
          },
          "metadata": {},
          "execution_count": 17
        }
      ],
      "source": [
        "df.dropDuplicates().count()"
      ]
    },
    {
      "cell_type": "markdown",
      "metadata": {
        "id": "CR9ROe0b54Fu"
      },
      "source": [
        "بررسی اینکه به‌صورت متوازن این تکرار داده‌ها وجود داره و صدمه ای به نصبت میزند یا نه<br/>\n",
        "طبق نتایج زیر این تکرار باعث شده این نسبت و توازن بین برچسب‌ها از بین رود بنابراین با اینکه این مورد "
      ]
    },
    {
      "cell_type": "code",
      "execution_count": 18,
      "metadata": {
        "colab": {
          "base_uri": "https://localhost:8080/"
        },
        "id": "YABVrGH-5enK",
        "outputId": "740a054f-c1e3-4dc5-f466-e30e2a68ee3e"
      },
      "outputs": [
        {
          "output_type": "stream",
          "name": "stdout",
          "text": [
            "+-----+------+\n",
            "|Label| count|\n",
            "+-----+------+\n",
            "| null|   208|\n",
            "|   No|195878|\n",
            "|  Yes| 33904|\n",
            "+-----+------+\n",
            "\n"
          ]
        }
      ],
      "source": [
        "df.select('Label').groupBy('Label').count().show()"
      ]
    },
    {
      "cell_type": "code",
      "execution_count": 19,
      "metadata": {
        "colab": {
          "base_uri": "https://localhost:8080/"
        },
        "id": "b4E_iMo85yVk",
        "outputId": "540ad8b8-4c95-4c9d-e73c-406c328e884e"
      },
      "outputs": [
        {
          "output_type": "stream",
          "name": "stdout",
          "text": [
            "+-----+-----+\n",
            "|Label|count|\n",
            "+-----+-----+\n",
            "| null|  208|\n",
            "|   No| 5681|\n",
            "|  Yes| 1949|\n",
            "+-----+-----+\n",
            "\n"
          ]
        }
      ],
      "source": [
        "df.dropDuplicates().select('Label').groupBy('Label').count().show()"
      ]
    },
    {
      "cell_type": "code",
      "execution_count": 20,
      "metadata": {
        "colab": {
          "base_uri": "https://localhost:8080/"
        },
        "id": "-d3eK6h96U1B",
        "outputId": "aa0757b2-963c-472e-d430-950b904ddf91"
      },
      "outputs": [
        {
          "output_type": "execute_result",
          "data": {
            "text/plain": [
              "(34.47949304699877, 17.395587480759364, 5.777430391694195, 2.914828116983068)"
            ]
          },
          "metadata": {},
          "execution_count": 20
        }
      ],
      "source": [
        "195878/5681, 33904/1949, 195878/33904, 5681/1949"
      ]
    },
    {
      "cell_type": "markdown",
      "metadata": {
        "id": "Nm73NZpR8ARt"
      },
      "source": [
        "سلول پایینی برای پیش پردازش داده به حساب میاد ولی به‌دلیل اینکه این نسبت تکرار ممکن است اثر بالایی بر روی پردازش اولیه داشته باشد به‌خصوص مواردی که در آن‌ها مد مهم است، در این قسمت انجام می‌شود."
      ]
    },
    {
      "cell_type": "code",
      "execution_count": 21,
      "metadata": {
        "id": "W-CnQDRj78kw"
      },
      "outputs": [],
      "source": [
        "df = df.dropDuplicates()"
      ]
    },
    {
      "cell_type": "markdown",
      "metadata": {
        "id": "qlhscyEl9LF1"
      },
      "source": [
        "بررسی کد‌های اولیه با تغییر انجام شده"
      ]
    },
    {
      "cell_type": "code",
      "execution_count": 22,
      "metadata": {
        "colab": {
          "base_uri": "https://localhost:8080/"
        },
        "id": "MeLb5lX-8-XJ",
        "outputId": "2be3d3f2-b5ce-4ae5-eaef-af3648c6c042"
      },
      "outputs": [
        {
          "output_type": "stream",
          "name": "stdout",
          "text": [
            "+-------+----------+------+-------------------+-------+----------+------------------+------------+-------------+---------------+--------------+------------+----------------+-----------+-----------+---------------+--------------+----------------+--------------------+-----------------+-----------------+-----+\n",
            "|summary|customerID|gender|      SeniorCitizen|Partner|Dependents|            tenure|PhoneService|MultipleLines|InternetService|OnlineSecurity|OnlineBackup|DeviceProtection|TechSupport|StreamingTV|StreamingMovies|      Contract|PaperlessBilling|       PaymentMethod|   MonthlyCharges|     TotalCharges|Label|\n",
            "+-------+----------+------+-------------------+-------+----------+------------------+------------+-------------+---------------+--------------+------------+----------------+-----------+-----------+---------------+--------------+----------------+--------------------+-----------------+-----------------+-----+\n",
            "|  count|      7585|  7603|               7572|   7613|      7596|              7613|        7569|         7575|           7608|          7608|        7595|            7584|       7574|       7589|           7619|          7608|            7581|                7592|             7595|             7587| 7630|\n",
            "|   mean|      null|  null|0.17974115161119916|   null|      null| 32.49822671745698|        null|         null|           null|          null|        null|            null|       null|       null|           null|          null|            null|                null|89.05355497037544|2293.819309344937| null|\n",
            "| stddev|      null|  null| 0.6129380701862593|   null|      null|36.633323952550214|        null|         null|           null|          null|        null|            null|       null|       null|           null|          null|            null|                null|546.4335871622093|2213.845210893208| null|\n",
            "|    min|0002-ORFBO|Female|                0.0|     No|        No|            -598.0|          No|           No|            DSL|            No|          No|              No|         No|         No|             No|Month-to-month|              No|Bank transfer (au...|            18.25|             18.8|   No|\n",
            "|    25%|      null|  null|                0.0|   null|      null|              10.0|        null|         null|           null|          null|        null|            null|       null|       null|           null|          null|            null|                null|             33.6|            449.3| null|\n",
            "|    50%|      null|  null|                0.0|   null|      null|              31.0|        null|         null|           null|          null|        null|            null|       null|       null|           null|          null|            null|                null|             69.9|           1453.1| null|\n",
            "|    75%|      null|  null|                0.0|   null|      null|              57.0|        null|         null|           null|          null|        null|            null|       null|       null|           null|          null|            null|                null|            89.55|          3726.15| null|\n",
            "|    max|9995-HOTOH|  Male|               17.0|    Yes|       Yes|              72.0|         Yes|          Yes|             No|           Yes|         Yes|             Yes|        Yes|        Yes|            Yes|      Two year|             Yes|        Mailed check|          14990.0|           8684.8|  Yes|\n",
            "+-------+----------+------+-------------------+-------+----------+------------------+------------+-------------+---------------+--------------+------------+----------------+-----------+-----------+---------------+--------------+----------------+--------------------+-----------------+-----------------+-----+\n",
            "\n"
          ]
        }
      ],
      "source": [
        "df.summary().show()"
      ]
    },
    {
      "cell_type": "code",
      "execution_count": 23,
      "metadata": {
        "colab": {
          "base_uri": "https://localhost:8080/"
        },
        "id": "dXA5q0eY9BtR",
        "outputId": "5410e725-96a2-41f2-dc90-d725fa0ac612"
      },
      "outputs": [
        {
          "output_type": "stream",
          "name": "stdout",
          "text": [
            "+----------+------+-------------+-------+----------+------+------------+-------------+---------------+--------------+------------+----------------+-----------+-----------+---------------+--------+----------------+-------------+--------------+------------+-----+\n",
            "|customerID|gender|SeniorCitizen|Partner|Dependents|tenure|PhoneService|MultipleLines|InternetService|OnlineSecurity|OnlineBackup|DeviceProtection|TechSupport|StreamingTV|StreamingMovies|Contract|PaperlessBilling|PaymentMethod|MonthlyCharges|TotalCharges|Label|\n",
            "+----------+------+-------------+-------+----------+------+------------+-------------+---------------+--------------+------------+----------------+-----------+-----------+---------------+--------+----------------+-------------+--------------+------------+-----+\n",
            "|       253|   235|          266|    225|       242|   225|         269|          263|            230|           230|         243|             254|        264|        249|            219|     230|             257|          246|           243|         251|  208|\n",
            "+----------+------+-------------+-------+----------+------+------------+-------------+---------------+--------------+------------+----------------+-----------+-----------+---------------+--------+----------------+-------------+--------------+------------+-----+\n",
            "\n"
          ]
        }
      ],
      "source": [
        "df.select([count(when(isnan(c) | col(c).isNull(), c)).alias(c) for c in df.columns]).show()"
      ]
    },
    {
      "cell_type": "markdown",
      "metadata": {
        "id": "EI0trteB9PTm"
      },
      "source": [
        "پلات تمام وابستگی‌ها"
      ]
    },
    {
      "cell_type": "code",
      "execution_count": 24,
      "metadata": {
        "id": "M7d4BjcbYq_1"
      },
      "outputs": [],
      "source": [
        "categorical_cols = {'gender', 'Partner', 'Dependents', 'PhoneService', \n",
        "                    'MultipleLines', 'InternetService', 'OnlineSecurity', \n",
        "                    'OnlineBackup', 'DeviceProtection', 'TechSupport', \n",
        "                    'StreamingTV', 'StreamingMovies', 'PaperlessBilling', \n",
        "                    'PaymentMethod', 'Label', \"Contract\", \"customerID\"}"
      ]
    },
    {
      "cell_type": "code",
      "execution_count": 25,
      "metadata": {
        "id": "f7ViiqPBYwEe"
      },
      "outputs": [],
      "source": [
        "stages = list()\n",
        "for column in categorical_cols:\n",
        "    string_indexer = StringIndexer(inputCol=column, outputCol=column+\"Index\")\n",
        "    # one_hot = OneHotEncoder(inputCols=[string_indexer.getOutputCol()], outputCols=[col+'CVect'])\n",
        "    stages.append(string_indexer)\n",
        "\n",
        "pipeline = Pipeline(stages=stages)\n",
        "normalized_model = pipeline.fit(df.na.drop())\n",
        "df2 = normalized_model.transform(df.na.drop())"
      ]
    },
    {
      "cell_type": "code",
      "execution_count": 26,
      "metadata": {
        "colab": {
          "base_uri": "https://localhost:8080/"
        },
        "id": "h6n5eRfirR17",
        "outputId": "6dc24341-9e7f-4f99-9053-6a97d198cf08"
      },
      "outputs": [
        {
          "output_type": "stream",
          "name": "stdout",
          "text": [
            "+----------+------+-------------+-------+----------+------+------------+----------------+---------------+-------------------+-------------------+-------------------+-------------------+-------------------+-------------------+--------------+----------------+--------------------+--------------+------------+-----+------------------+----------------+------------+---------------------+---------------------+--------------------+----------+-------------+----------------+---------------+-----------+--------------------+------------------+---------------+-----------------+-----------------+-------------------+\n",
            "|customerID|gender|SeniorCitizen|Partner|Dependents|tenure|PhoneService|   MultipleLines|InternetService|     OnlineSecurity|       OnlineBackup|   DeviceProtection|        TechSupport|        StreamingTV|    StreamingMovies|      Contract|PaperlessBilling|       PaymentMethod|MonthlyCharges|TotalCharges|Label|MultipleLinesIndex|TechSupportIndex|PartnerIndex|PaperlessBillingIndex|DeviceProtectionIndex|StreamingMoviesIndex|LabelIndex|ContractIndex|StreamingTVIndex|customerIDIndex|genderIndex|InternetServiceIndex|PaymentMethodIndex|DependentsIndex|OnlineBackupIndex|PhoneServiceIndex|OnlineSecurityIndex|\n",
            "+----------+------+-------------+-------+----------+------+------------+----------------+---------------+-------------------+-------------------+-------------------+-------------------+-------------------+-------------------+--------------+----------------+--------------------+--------------+------------+-----+------------------+----------------+------------+---------------------+---------------------+--------------------+----------+-------------+----------------+---------------+-----------+--------------------+------------------+---------------+-----------------+-----------------+-------------------+\n",
            "|3655-SNQYZ|Female|          0.0|    Yes|       Yes|  69.0|         Yes|             Yes|    Fiber optic|                Yes|                Yes|                Yes|                Yes|                Yes|                Yes|      Two year|              No|Credit card (auto...|        113.25|     7895.15|   No|               1.0|             1.0|         1.0|                  1.0|                  1.0|                 1.0|       0.0|          1.0|             1.0|         2551.0|        1.0|                 0.0|               3.0|            1.0|              1.0|              0.0|                1.0|\n",
            "|7114-AEOZE|Female|          0.0|     No|        No|  60.0|         Yes|              No|             No|No internet service|No internet service|No internet service|No internet service|No internet service|No internet service|      Two year|              No|Bank transfer (au...|         19.85|      1128.1|   No|               0.0|             2.0|         0.0|                  1.0|                  2.0|                 2.0|       0.0|          1.0|             2.0|         5057.0|        1.0|                 2.0|               2.0|            0.0|              2.0|              0.0|                2.0|\n",
            "|8621-MNIHH|Female|          1.0|    Yes|        No|  34.0|         Yes|             Yes|    Fiber optic|                 No|                Yes|                Yes|                 No|                 No|                Yes|Month-to-month|             Yes|    Electronic check|         94.25|     3217.55|  Yes|               1.0|             0.0|         1.0|                  0.0|                  1.0|                 1.0|       1.0|          0.0|             0.0|         6076.0|        1.0|                 0.0|               0.0|            0.0|              1.0|              0.0|                0.0|\n",
            "|4580-TMHJU|Female|          0.0|    Yes|       Yes|  43.0|         Yes|              No|            DSL|                 No|                 No|                 No|                 No|                Yes|                 No|Month-to-month|              No|    Electronic check|         56.15|      2499.3|  Yes|               0.0|             0.0|         1.0|                  1.0|                  0.0|                 0.0|       1.0|          0.0|             1.0|         3189.0|        1.0|                 1.0|               0.0|            1.0|              0.0|              0.0|                0.0|\n",
            "|5553-AOINX|Female|          1.0|    Yes|       Yes|  66.0|         Yes|             Yes|    Fiber optic|                 No|                Yes|                Yes|                 No|                Yes|                Yes|      One year|             Yes|    Electronic check|         104.9|     6891.45|   No|               1.0|             0.0|         1.0|                  0.0|                  1.0|                 1.0|       0.0|          2.0|             1.0|         3940.0|        1.0|                 0.0|               0.0|            1.0|              1.0|              0.0|                0.0|\n",
            "|5902-WBLSE|Female|          0.0|    Yes|       Yes|  70.0|         Yes|              No|             No|No internet service|No internet service|No internet service|No internet service|No internet service|No internet service|      Two year|             Yes|Credit card (auto...|         20.15|      1411.2|   No|               0.0|             2.0|         1.0|                  0.0|                  2.0|                 2.0|       0.0|          1.0|             2.0|         4169.0|        1.0|                 2.0|               3.0|            1.0|              2.0|              0.0|                2.0|\n",
            "|2388-LAESQ|Female|          1.0|    Yes|        No|  72.0|         Yes|             Yes|    Fiber optic|                Yes|                Yes|                Yes|                Yes|                Yes|                Yes|      Two year|             Yes|Bank transfer (au...|        114.85|     8317.95|   No|               1.0|             1.0|         1.0|                  0.0|                  1.0|                 1.0|       0.0|          1.0|             1.0|         1645.0|        1.0|                 0.0|               2.0|            0.0|              1.0|              0.0|                1.0|\n",
            "|2506-CLAKW|Female|          0.0|     No|        No|   6.0|         Yes|              No|    Fiber optic|                Yes|                Yes|                Yes|                Yes|                 No|                Yes|Month-to-month|             Yes|Bank transfer (au...|         98.15|      567.45|  Yes|               0.0|             1.0|         0.0|                  0.0|                  1.0|                 1.0|       1.0|          0.0|             0.0|         1718.0|        1.0|                 0.0|               2.0|            0.0|              1.0|              0.0|                1.0|\n",
            "|4976-LNFVV|  Male|          1.0|    Yes|        No|  19.0|          No|No phone service|            DSL|                 No|                Yes|                Yes|                 No|                 No|                 No|Month-to-month|             Yes|Credit card (auto...|          34.3|      577.15|   No|               2.0|             0.0|         1.0|                  0.0|                  1.0|                 0.0|       0.0|          0.0|             0.0|         3504.0|        0.0|                 1.0|               3.0|            0.0|              1.0|              1.0|                0.0|\n",
            "|3642-GKTCT|Female|          0.0|     No|        No|  61.0|         Yes|             Yes|    Fiber optic|                Yes|                Yes|                Yes|                Yes|                Yes|                Yes|      One year|             Yes|        Mailed check|         115.1|     6993.65|   No|               1.0|             1.0|         0.0|                  0.0|                  1.0|                 1.0|       0.0|          2.0|             1.0|         2541.0|        1.0|                 0.0|               1.0|            0.0|              1.0|              0.0|                1.0|\n",
            "|2223-KAGMX|Female|          0.0|     No|        No|  15.0|         Yes|              No|             No|No internet service|No internet service|No internet service|No internet service|No internet service|No internet service|Month-to-month|              No|Bank transfer (au...|          19.4|       289.3|  Yes|               0.0|             2.0|         0.0|                  1.0|                  2.0|                 2.0|       1.0|          0.0|             2.0|         1513.0|        1.0|                 2.0|               2.0|            0.0|              2.0|              0.0|                2.0|\n",
            "|9003-CPATH|  Male|          0.0|     No|        No|  42.0|         Yes|             Yes|    Fiber optic|                 No|                 No|                Yes|                 No|                 No|                 No|Month-to-month|              No|    Electronic check|          79.9|      3313.4|   No|               1.0|             0.0|         0.0|                  1.0|                  1.0|                 0.0|       0.0|          0.0|             0.0|         6357.0|        0.0|                 0.0|               0.0|            0.0|              0.0|              0.0|                0.0|\n",
            "|7634-WSWDB|Female|          0.0|     No|       Yes|   8.0|          No|No phone service|            DSL|                Yes|                 No|                 No|                 No|                 No|                Yes|Month-to-month|             Yes|    Electronic check|          38.5|       330.8|   No|               2.0|             0.0|         0.0|                  0.0|                  0.0|                 1.0|       0.0|          0.0|             0.0|         5418.0|        1.0|                 1.0|               0.0|            1.0|              0.0|              1.0|                1.0|\n",
            "|6997-UVGOX|  Male|          0.0|    Yes|       Yes|  71.0|         Yes|              No|            DSL|                Yes|                Yes|                Yes|                Yes|                Yes|                Yes|      Two year|              No|Bank transfer (au...|         85.45|      6029.9|   No|               0.0|             1.0|         1.0|                  1.0|                  1.0|                 1.0|       0.0|          1.0|             1.0|         4972.0|        0.0|                 1.0|               2.0|            1.0|              1.0|              0.0|                1.0|\n",
            "|3692-JHONH|Female|          1.0|    Yes|        No|  52.0|         Yes|             Yes|    Fiber optic|                 No|                Yes|                Yes|                 No|                Yes|                Yes|      One year|             Yes|    Electronic check|         106.5|     5621.85|   No|               1.0|             0.0|         1.0|                  0.0|                  1.0|                 1.0|       0.0|          2.0|             1.0|         2577.0|        1.0|                 0.0|               0.0|            0.0|              1.0|              0.0|                0.0|\n",
            "|5202-IVJNU|Female|          0.0|     No|       Yes|  39.0|          No|No phone service|            DSL|                 No|                 No|                Yes|                 No|                 No|                 No|Month-to-month|              No|Credit card (auto...|          30.1|      1131.3|  Yes|               2.0|             0.0|         0.0|                  1.0|                  1.0|                 0.0|       1.0|          0.0|             0.0|         3689.0|        1.0|                 1.0|               3.0|            1.0|              0.0|              1.0|                0.0|\n",
            "|7879-CGSFV|  Male|          0.0|     No|        No|  55.0|         Yes|              No|    Fiber optic|                Yes|                Yes|                 No|                 No|                Yes|                Yes|      One year|             Yes|        Mailed check|         100.9|     5552.05|   No|               0.0|             0.0|         0.0|                  0.0|                  0.0|                 1.0|       0.0|          2.0|             1.0|         5593.0|        0.0|                 0.0|               1.0|            0.0|              1.0|              0.0|                1.0|\n",
            "|0582-AVCLN|Female|          0.0|     No|        No|  38.0|         Yes|              No|             No|No internet service|No internet service|No internet service|No internet service|No internet service|No internet service|      Two year|              No|        Mailed check|          20.3|      743.05|   No|               0.0|             2.0|         0.0|                  1.0|                  2.0|                 2.0|       0.0|          1.0|             2.0|          395.0|        1.0|                 2.0|               1.0|            0.0|              2.0|              0.0|                2.0|\n",
            "|2229-VWQJH|Female|          0.0|     No|        No|  24.0|         Yes|              No|            DSL|                 No|                 No|                Yes|                 No|                 No|                 No|Month-to-month|             Yes|Credit card (auto...|          49.3|     1233.25|   No|               0.0|             0.0|         0.0|                  0.0|                  1.0|                 0.0|       0.0|          0.0|             0.0|         1519.0|        1.0|                 1.0|               3.0|            0.0|              0.0|              0.0|                0.0|\n",
            "|5524-KHNJP|  Male|          0.0|    Yes|       Yes|  33.0|         Yes|              No|            DSL|                Yes|                 No|                Yes|                 No|                Yes|                Yes|      One year|              No|Credit card (auto...|         74.75|      2453.3|   No|               0.0|             0.0|         1.0|                  1.0|                  1.0|                 1.0|       0.0|          2.0|             1.0|         3921.0|        0.0|                 1.0|               3.0|            1.0|              0.0|              0.0|                1.0|\n",
            "+----------+------+-------------+-------+----------+------+------------+----------------+---------------+-------------------+-------------------+-------------------+-------------------+-------------------+-------------------+--------------+----------------+--------------------+--------------+------------+-----+------------------+----------------+------------+---------------------+---------------------+--------------------+----------+-------------+----------------+---------------+-----------+--------------------+------------------+---------------+-----------------+-----------------+-------------------+\n",
            "only showing top 20 rows\n",
            "\n"
          ]
        }
      ],
      "source": [
        "df2.show()"
      ]
    },
    {
      "cell_type": "code",
      "execution_count": 27,
      "metadata": {
        "colab": {
          "base_uri": "https://localhost:8080/"
        },
        "id": "Sp5PBN1mYRXC",
        "outputId": "3a2cb122-d9c4-4712-950c-525e77a3aa8a"
      },
      "outputs": [
        {
          "output_type": "stream",
          "name": "stderr",
          "text": [
            "/usr/local/lib/python3.7/dist-packages/pyspark/sql/context.py:127: FutureWarning: Deprecated in 3.0.0. Use SparkSession.builder.getOrCreate() instead.\n",
            "  FutureWarning\n"
          ]
        }
      ],
      "source": [
        "vector_col = \"corr_features\"\n",
        "columns = [column+\"Index\" for column in categorical_cols] + ['tenure', 'SeniorCitizen', 'MonthlyCharges', 'TotalCharges']\n",
        "assembler = VectorAssembler(inputCols=columns, outputCol=vector_col)\n",
        "df_vector = assembler.transform(df2).select(vector_col)\n",
        "matrix = Correlation.corr(df_vector, vector_col)"
      ]
    },
    {
      "cell_type": "markdown",
      "metadata": {
        "id": "FKojUbOPBICY"
      },
      "source": [
        "طبق نتایج:<br/>\n",
        "\n",
        "\n",
        "*   مواردی که مربوط به داشتن اینترنت است یه رابطه‌ی مستقیمی باهم دارند که بهتر است در نظر گرفته شود\n",
        "*   رابطه‌ی بین چند خط داشتن و سرویس موبایل نیز رابطه‌ی مستقی دارند\n",
        "*   و برچسب رابطه‌ی مستقمی با بیشتر از داده‌ها ندارد در نگاه اول که بهتر است این وظیفه برعهده‌ی مدل گذاشته شود.\n",
        "\n"
      ]
    },
    {
      "cell_type": "code",
      "execution_count": 28,
      "metadata": {
        "colab": {
          "base_uri": "https://localhost:8080/",
          "height": 0
        },
        "id": "fLoWPBe-eyT4",
        "outputId": "6246cec0-018e-4c21-be1c-afb0c70d8214"
      },
      "outputs": [
        {
          "output_type": "execute_result",
          "data": {
            "text/plain": [
              "<matplotlib.axes._subplots.AxesSubplot at 0x7fc318377810>"
            ]
          },
          "metadata": {},
          "execution_count": 28
        },
        {
          "output_type": "display_data",
          "data": {
            "text/plain": [
              "<Figure size 432x288 with 2 Axes>"
            ],
            "image/png": "[encoded data removed]"
          },
          "metadata": {
            "needs_background": "light"
          }
        }
      ],
      "source": [
        "corr = matrix.collect()[0][matrix.columns[0]].toArray()\n",
        "sns.heatmap(corr, \n",
        "            xticklabels=columns,\n",
        "            yticklabels=columns)"
      ]
    },
    {
      "cell_type": "markdown",
      "metadata": {
        "id": "ekcxzzTsQDLy"
      },
      "source": [
        "##relation between seniorCitizen and phone and internet service"
      ]
    },
    {
      "cell_type": "markdown",
      "metadata": {
        "id": "lYa9Ly58R3CV"
      },
      "source": [
        "طبق نام ستون این ستون برای نشان دادن اینکه این فرد سالخورده است یا نه اما مقادیر ۱۴ و ۱۷ برای آن اشتباه است"
      ]
    },
    {
      "cell_type": "code",
      "execution_count": 29,
      "metadata": {
        "colab": {
          "base_uri": "https://localhost:8080/"
        },
        "id": "yMvtReOsQub1",
        "outputId": "ebcd26bb-790e-4219-e56d-c69f15c66b4b"
      },
      "outputs": [
        {
          "output_type": "stream",
          "name": "stdout",
          "text": [
            "+-------------+-----+\n",
            "|SeniorCitizen|count|\n",
            "+-------------+-----+\n",
            "|          0.0| 6331|\n",
            "|         null|  266|\n",
            "|          1.0| 1232|\n",
            "|         14.0|    8|\n",
            "|         17.0|    1|\n",
            "+-------------+-----+\n",
            "\n"
          ]
        }
      ],
      "source": [
        "df.select('SeniorCitizen').groupBy('SeniorCitizen').count().show()"
      ]
    },
    {
      "cell_type": "markdown",
      "metadata": {
        "id": "tuop8aBnT8zl"
      },
      "source": [
        "حدس: بیشتر افراد سالخورده سرویس موبایل و یا سرویس اینترنت ندارند. طبق نتایج پایین حدس رد شد."
      ]
    },
    {
      "cell_type": "code",
      "execution_count": 30,
      "metadata": {
        "colab": {
          "base_uri": "https://localhost:8080/"
        },
        "id": "mWDUSOZTPCyL",
        "outputId": "89eabbfe-f363-453c-9220-89729dfb3abb"
      },
      "outputs": [
        {
          "output_type": "stream",
          "name": "stdout",
          "text": [
            "+-------------+------------+-----+\n",
            "|SeniorCitizen|PhoneService|count|\n",
            "+-------------+------------+-----+\n",
            "|          0.0|        null|  142|\n",
            "|          1.0|        null|   42|\n",
            "|          1.0|         Yes| 1061|\n",
            "|          0.0|          No|  635|\n",
            "|          1.0|          No|  129|\n",
            "|          0.0|         Yes| 5554|\n",
            "+-------------+------------+-----+\n",
            "\n"
          ]
        }
      ],
      "source": [
        "df.select(['SeniorCitizen', 'PhoneService']).\\\n",
        "filter((df.SeniorCitizen == 1) | (df.SeniorCitizen == 0)).\\\n",
        "groupBy(['SeniorCitizen', 'PhoneService']).count().show()"
      ]
    },
    {
      "cell_type": "code",
      "execution_count": 31,
      "metadata": {
        "colab": {
          "base_uri": "https://localhost:8080/"
        },
        "id": "YFoFv304UkFK",
        "outputId": "dae78c6e-c083-4d52-c11e-dcaedb294e24"
      },
      "outputs": [
        {
          "output_type": "stream",
          "name": "stdout",
          "text": [
            "+-------------+---------------+-----+\n",
            "|SeniorCitizen|InternetService|count|\n",
            "+-------------+---------------+-----+\n",
            "|          0.0|           null|  127|\n",
            "|          0.0|    Fiber optic| 2364|\n",
            "|          1.0|           null|   26|\n",
            "|          1.0|    Fiber optic|  862|\n",
            "|          0.0|             No| 1589|\n",
            "|          1.0|            DSL|  292|\n",
            "|          1.0|             No|   52|\n",
            "|          0.0|            DSL| 2251|\n",
            "+-------------+---------------+-----+\n",
            "\n"
          ]
        }
      ],
      "source": [
        "df.select(['SeniorCitizen', 'InternetService']).\\\n",
        "filter((df.SeniorCitizen == 1) | (df.SeniorCitizen == 0)).\\\n",
        "groupBy(['SeniorCitizen', 'InternetService']).count().show()"
      ]
    },
    {
      "cell_type": "markdown",
      "metadata": {
        "id": "hDoMXZIOV5LP"
      },
      "source": [
        "کسانی که سرویس موبایل ندارند سرویس اینترنت فیبر ندارند (تمامی دی اس ال هستند) بااینکه مقادیری نال می‌باشد ولی می‌توان نتیجه گرفت کسانی که سرویس موبایل ندارند حتما سرویس اینترنت دارند و کسانی که سرویس اینترنت ندارند حتما سرویس موبایل دارند."
      ]
    },
    {
      "cell_type": "code",
      "execution_count": 32,
      "metadata": {
        "colab": {
          "base_uri": "https://localhost:8080/"
        },
        "id": "hJZAmBU3VUBZ",
        "outputId": "6563ef2a-bcb4-4a13-c90d-3b251551882c"
      },
      "outputs": [
        {
          "output_type": "stream",
          "name": "stdout",
          "text": [
            "+------------+---------------+-----+\n",
            "|PhoneService|InternetService|count|\n",
            "+------------+---------------+-----+\n",
            "|          No|            DSL|  768|\n",
            "|        null|           null|   73|\n",
            "|         Yes|             No| 1642|\n",
            "|        null|    Fiber optic|   78|\n",
            "|         Yes|            DSL| 1780|\n",
            "|        null|             No|   58|\n",
            "|          No|           null|   44|\n",
            "|         Yes|           null|  113|\n",
            "|         Yes|    Fiber optic| 3222|\n",
            "|        null|            DSL|   60|\n",
            "+------------+---------------+-----+\n",
            "\n"
          ]
        }
      ],
      "source": [
        "df.select(['PhoneService', 'InternetService']).\\\n",
        "groupBy(['PhoneService', 'InternetService']).count().show()"
      ]
    },
    {
      "cell_type": "markdown",
      "source": [
        "بیشتر افراد از نظر برچسب در حالت رها نکردن شرکت قرار دارند چه افراد سالخورده چه دیگر افراد"
      ],
      "metadata": {
        "id": "0kYtHolTyBlY"
      }
    },
    {
      "cell_type": "code",
      "source": [
        "df.select(['SeniorCitizen', 'Label']).groupBy(['SeniorCitizen', 'Label']).count().show()"
      ],
      "metadata": {
        "colab": {
          "base_uri": "https://localhost:8080/"
        },
        "id": "RKBJq4HJxtkQ",
        "outputId": "5550a231-c377-41a1-8dc5-7375bdb2bcb0"
      },
      "execution_count": 33,
      "outputs": [
        {
          "output_type": "stream",
          "name": "stdout",
          "text": [
            "+-------------+-----+-----+\n",
            "|SeniorCitizen|Label|count|\n",
            "+-------------+-----+-----+\n",
            "|          0.0| null|  123|\n",
            "|         17.0|   No|    1|\n",
            "|         null| null|   71|\n",
            "|          1.0| null|   14|\n",
            "|         14.0|  Yes|    2|\n",
            "|          1.0|  Yes|  510|\n",
            "|          0.0|   No| 4797|\n",
            "|          1.0|   No|  708|\n",
            "|         null|   No|  169|\n",
            "|         null|  Yes|   26|\n",
            "|          0.0|  Yes| 1411|\n",
            "|         14.0|   No|    6|\n",
            "+-------------+-----+-----+\n",
            "\n"
          ]
        }
      ]
    },
    {
      "cell_type": "markdown",
      "source": [
        "مثل نتایج قبلی بیشتر افراد در دسته‌ها رها نکردند شرکت رو و بیشتر افراد چه رها کرده چه رها نکرده سرویس موبایل داشتند"
      ],
      "metadata": {
        "id": "KR1B6c4wydch"
      }
    },
    {
      "cell_type": "code",
      "source": [
        "df.select(['PhoneService', 'Label']).groupBy(['PhoneService', 'Label']).count().show()"
      ],
      "metadata": {
        "colab": {
          "base_uri": "https://localhost:8080/"
        },
        "id": "EV1wnmdeyRmi",
        "outputId": "d04c4b53-3ea8-4fb3-9f43-fc41fc5c3a31"
      },
      "execution_count": 34,
      "outputs": [
        {
          "output_type": "stream",
          "name": "stdout",
          "text": [
            "+------------+-----+-----+\n",
            "|PhoneService|Label|count|\n",
            "+------------+-----+-----+\n",
            "|         Yes|  Yes| 1737|\n",
            "|        null| null|   74|\n",
            "|          No|   No|  593|\n",
            "|         Yes|   No| 4920|\n",
            "|        null|   No|  168|\n",
            "|          No| null|   34|\n",
            "|        null|  Yes|   27|\n",
            "|         Yes| null|  100|\n",
            "|          No|  Yes|  185|\n",
            "+------------+-----+-----+\n",
            "\n"
          ]
        }
      ]
    },
    {
      "cell_type": "markdown",
      "source": [
        "بیشتر افرادی که رها نکردند دی اس ال داشتند و بیشتر افرادی که رها کردند فیبر داشتند"
      ],
      "metadata": {
        "id": "Lhu7u6V2zFta"
      }
    },
    {
      "cell_type": "code",
      "source": [
        "df.select(['InternetService', 'Label']).groupBy(['InternetService', 'Label']).count().show()"
      ],
      "metadata": {
        "colab": {
          "base_uri": "https://localhost:8080/"
        },
        "id": "OoYY8T4zySkE",
        "outputId": "fb2fe8c9-d474-49a9-95cc-b56978c97117"
      },
      "execution_count": 35,
      "outputs": [
        {
          "output_type": "stream",
          "name": "stdout",
          "text": [
            "+---------------+-----+-----+\n",
            "|InternetService|Label|count|\n",
            "+---------------+-----+-----+\n",
            "|            DSL|  Yes|  477|\n",
            "|    Fiber optic|  Yes| 1345|\n",
            "|           null| null|   66|\n",
            "|             No|   No| 1538|\n",
            "|    Fiber optic| null|   44|\n",
            "|             No| null|   49|\n",
            "|           null|   No|  150|\n",
            "|           null|  Yes|   14|\n",
            "|    Fiber optic|   No| 1911|\n",
            "|             No|  Yes|  113|\n",
            "|            DSL| null|   49|\n",
            "|            DSL|   No| 2082|\n",
            "+---------------+-----+-----+\n",
            "\n"
          ]
        }
      ]
    },
    {
      "cell_type": "markdown",
      "metadata": {
        "id": "F3MgW4W4XOKz"
      },
      "source": [
        "##relation between PhoneService and MultipleLines"
      ]
    },
    {
      "cell_type": "markdown",
      "metadata": {
        "id": "WIl3FaGBXs0K"
      },
      "source": [
        "اگر شخصی سرویس موبایل نداشته باشد باید در این دو ستون یکسان ثبت شود بنابراین نال‌ها به راحتی پر می‌شوند و حالت نقض هم وجود ندارد"
      ]
    },
    {
      "cell_type": "markdown",
      "metadata": {
        "id": "_K2LpcpeX74c"
      },
      "source": [
        "بیشتر افرادی که سرویس موبایل دارند چند خطه نیستند ولی این نسبت خیلی زیاد نیست"
      ]
    },
    {
      "cell_type": "code",
      "execution_count": 36,
      "metadata": {
        "colab": {
          "base_uri": "https://localhost:8080/"
        },
        "id": "rboBljTiXY2J",
        "outputId": "46c47571-c1cf-40a6-f22a-635ea42304c1"
      },
      "outputs": [
        {
          "output_type": "stream",
          "name": "stdout",
          "text": [
            "+----------------+------------+-----+\n",
            "|   MultipleLines|PhoneService|count|\n",
            "+----------------+------------+-----+\n",
            "|No phone service|        null|   44|\n",
            "|No phone service|          No|  768|\n",
            "|             Yes|         Yes| 3089|\n",
            "|            null|        null|   79|\n",
            "|              No|        null|   80|\n",
            "|            null|          No|   44|\n",
            "|             Yes|        null|   66|\n",
            "|            null|         Yes|  140|\n",
            "|              No|         Yes| 3528|\n",
            "+----------------+------------+-----+\n",
            "\n"
          ]
        }
      ],
      "source": [
        "df.select(['MultipleLines', 'PhoneService']).groupBy(['MultipleLines', 'PhoneService']).count().show()"
      ]
    },
    {
      "cell_type": "markdown",
      "source": [
        "بیشتر افرادی که رها کردند چند خطه بودند و بیشتر افرادی که رها نکردند چند خطه نبودند"
      ],
      "metadata": {
        "id": "oxJxAJulz8DK"
      }
    },
    {
      "cell_type": "code",
      "source": [
        "df.select(['MultipleLines', 'Label']).groupBy(['MultipleLines', 'Label']).count().show()"
      ],
      "metadata": {
        "colab": {
          "base_uri": "https://localhost:8080/"
        },
        "id": "9ANh3rGTznNp",
        "outputId": "83e0e412-1977-44a5-98d1-0581f3347317"
      },
      "execution_count": 37,
      "outputs": [
        {
          "output_type": "stream",
          "name": "stdout",
          "text": [
            "+----------------+-----+-----+\n",
            "|   MultipleLines|Label|count|\n",
            "+----------------+-----+-----+\n",
            "|No phone service| null|   32|\n",
            "|No phone service|   No|  596|\n",
            "|             Yes|  Yes|  892|\n",
            "|            null| null|   73|\n",
            "|              No|   No| 2702|\n",
            "|             Yes|   No| 2216|\n",
            "|No phone service|  Yes|  184|\n",
            "|              No| null|   56|\n",
            "|            null|   No|  167|\n",
            "|             Yes| null|   47|\n",
            "|            null|  Yes|   23|\n",
            "|              No|  Yes|  850|\n",
            "+----------------+-----+-----+\n",
            "\n"
          ]
        }
      ]
    },
    {
      "cell_type": "markdown",
      "metadata": {
        "id": "nMmUaFCgZIkq"
      },
      "source": [
        "## relation between InternetService and columns that looks need internet service"
      ]
    },
    {
      "cell_type": "code",
      "execution_count": 38,
      "metadata": {
        "colab": {
          "base_uri": "https://localhost:8080/"
        },
        "id": "6gZCamHabhtP",
        "outputId": "ba494f9c-864e-44e3-f8db-4d4e5115eb13"
      },
      "outputs": [
        {
          "output_type": "stream",
          "name": "stdout",
          "text": [
            "+---------------+-----------+\n",
            "|InternetService|total_count|\n",
            "+---------------+-----------+\n",
            "|           null|        230|\n",
            "|    Fiber optic|       3300|\n",
            "|             No|       1700|\n",
            "|            DSL|       2608|\n",
            "+---------------+-----------+\n",
            "\n"
          ]
        }
      ],
      "source": [
        "internet_count=df.select('InternetService').groupBy('InternetService').count().withColumn('total_count', col('count')).drop('count')\n",
        "internet_count.show()"
      ]
    },
    {
      "cell_type": "markdown",
      "metadata": {
        "id": "pVf5OOlLabgE"
      },
      "source": [
        "طبق نتایج زیر برخی از نال ها مربوط به نداشتن سرویس اینترنت می‌توانند پر شوند.<br/>\n",
        "بیشتر افراد امنیت ندارند. "
      ]
    },
    {
      "cell_type": "code",
      "execution_count": 39,
      "metadata": {
        "colab": {
          "base_uri": "https://localhost:8080/"
        },
        "id": "6QVIhlmHZyTL",
        "outputId": "463f8abb-84b5-47c4-8f5f-38eded089db4"
      },
      "outputs": [
        {
          "output_type": "stream",
          "name": "stdout",
          "text": [
            "+---------------+-------------------+-----+\n",
            "|InternetService|     OnlineSecurity|count|\n",
            "+---------------+-------------------+-----+\n",
            "|            DSL|                Yes| 1242|\n",
            "|    Fiber optic|                Yes|  872|\n",
            "|           null|               null|   65|\n",
            "|    Fiber optic|               null|   61|\n",
            "|             No|No internet service| 1652|\n",
            "|           null|                 No|   72|\n",
            "|             No|               null|   48|\n",
            "|           null|                Yes|   42|\n",
            "|    Fiber optic|                 No| 2367|\n",
            "|            DSL|               null|   56|\n",
            "|            DSL|                 No| 1310|\n",
            "|           null|No internet service|   51|\n",
            "+---------------+-------------------+-----+\n",
            "\n"
          ]
        }
      ],
      "source": [
        "df.select(['InternetService', 'OnlineSecurity']).groupBy(['InternetService', 'OnlineSecurity']).count().show()"
      ]
    },
    {
      "cell_type": "code",
      "execution_count": 40,
      "metadata": {
        "colab": {
          "base_uri": "https://localhost:8080/"
        },
        "id": "ReHkje-Pb714",
        "outputId": "e2d6dcf4-ee73-48bb-f00e-79c09053b4fe"
      },
      "outputs": [
        {
          "output_type": "stream",
          "name": "stdout",
          "text": [
            "+---------------+-------------------+-----+-----------+------------------+\n",
            "|InternetService|     OnlineSecurity|count|total_count|           percent|\n",
            "+---------------+-------------------+-----+-----------+------------------+\n",
            "|    Fiber optic|                 No| 2367|       3300| 71.72727272727273|\n",
            "|    Fiber optic|               null|   61|       3300|1.8484848484848484|\n",
            "|    Fiber optic|                Yes|  872|       3300|26.424242424242426|\n",
            "|             No|               null|   48|       1700| 2.823529411764706|\n",
            "|             No|No internet service| 1652|       1700| 97.17647058823529|\n",
            "|            DSL|                 No| 1310|       2608| 50.23006134969325|\n",
            "|            DSL|               null|   56|       2608| 2.147239263803681|\n",
            "|            DSL|                Yes| 1242|       2608|47.622699386503065|\n",
            "+---------------+-------------------+-----+-----------+------------------+\n",
            "\n"
          ]
        }
      ],
      "source": [
        "df.select(['InternetService', 'OnlineSecurity']).\\\n",
        "groupBy(['InternetService', 'OnlineSecurity']).count().\\\n",
        "join(internet_count, ['InternetService']).\\\n",
        "withColumn('percent', col('count')*100/col('total_count')).\\\n",
        "show()"
      ]
    },
    {
      "cell_type": "markdown",
      "source": [
        "بیشتر افراد از نظر برچسب امنیت نداشتند و رها نکردند پس بهتر است با مد پر شود"
      ],
      "metadata": {
        "id": "u4KVZqR00q7l"
      }
    },
    {
      "cell_type": "code",
      "source": [
        "df.select(['OnlineSecurity', 'Label']).groupBy(['OnlineSecurity', 'Label']).count().show()"
      ],
      "metadata": {
        "colab": {
          "base_uri": "https://localhost:8080/"
        },
        "id": "aMUbBjzE0SC7",
        "outputId": "f51fab2e-d604-4ef9-98a2-d5d160bdde9b"
      },
      "execution_count": 41,
      "outputs": [
        {
          "output_type": "stream",
          "name": "stdout",
          "text": [
            "+-------------------+-----+-----+\n",
            "|     OnlineSecurity|Label|count|\n",
            "+-------------------+-----+-----+\n",
            "|No internet service|   No| 1542|\n",
            "|                Yes|  Yes|  310|\n",
            "|               null| null|   65|\n",
            "|                 No|   No| 2185|\n",
            "|                Yes|   No| 1811|\n",
            "|               null|   No|  143|\n",
            "|                 No| null|   60|\n",
            "|                Yes| null|   35|\n",
            "|               null|  Yes|   22|\n",
            "|                 No|  Yes| 1504|\n",
            "|No internet service|  Yes|  113|\n",
            "|No internet service| null|   48|\n",
            "+-------------------+-----+-----+\n",
            "\n"
          ]
        }
      ]
    },
    {
      "cell_type": "markdown",
      "metadata": {
        "id": "VPIQccR6bWUV"
      },
      "source": [
        "نال‌های مربوط به نداشتن سرویس اینترنتی راحت پر می‌شوند. بیشتر افراد بک‌آپ ندارند. با نسبت ۶۰ به ۴۰ که برای هر دو نوع صدق می‌کند "
      ]
    },
    {
      "cell_type": "code",
      "execution_count": 42,
      "metadata": {
        "colab": {
          "base_uri": "https://localhost:8080/"
        },
        "id": "nmcw3wPla13o",
        "outputId": "6029c599-3d4e-41c6-ebb3-e037806db5bc"
      },
      "outputs": [
        {
          "output_type": "stream",
          "name": "stdout",
          "text": [
            "+---------------+-------------------+-----+\n",
            "|InternetService|       OnlineBackup|count|\n",
            "+---------------+-------------------+-----+\n",
            "|            DSL|                Yes| 1160|\n",
            "|    Fiber optic|                Yes| 1386|\n",
            "|           null|               null|   78|\n",
            "|    Fiber optic|               null|   61|\n",
            "|             No|No internet service| 1651|\n",
            "|             No|               null|   49|\n",
            "|           null|                 No|   63|\n",
            "|           null|                Yes|   41|\n",
            "|    Fiber optic|                 No| 1853|\n",
            "|            DSL|               null|   55|\n",
            "|            DSL|                 No| 1393|\n",
            "|           null|No internet service|   48|\n",
            "+---------------+-------------------+-----+\n",
            "\n"
          ]
        }
      ],
      "source": [
        "df.select(['InternetService', 'OnlineBackup']).groupBy(['InternetService', 'OnlineBackup']).count().show()"
      ]
    },
    {
      "cell_type": "code",
      "execution_count": 43,
      "metadata": {
        "colab": {
          "base_uri": "https://localhost:8080/"
        },
        "id": "AxicpEuZfIov",
        "outputId": "05427d19-5125-46b4-bbb0-5ad3a6fc8dd0"
      },
      "outputs": [
        {
          "output_type": "stream",
          "name": "stdout",
          "text": [
            "+---------------+-------------------+-----+-----------+------------------+\n",
            "|InternetService|       OnlineBackup|count|total_count|           percent|\n",
            "+---------------+-------------------+-----+-----------+------------------+\n",
            "|    Fiber optic|                 No| 1853|       3300| 56.15151515151515|\n",
            "|    Fiber optic|               null|   61|       3300|1.8484848484848484|\n",
            "|    Fiber optic|                Yes| 1386|       3300|              42.0|\n",
            "|             No|               null|   49|       1700|2.8823529411764706|\n",
            "|             No|No internet service| 1651|       1700| 97.11764705882354|\n",
            "|            DSL|                 No| 1393|       2608| 53.41257668711656|\n",
            "|            DSL|               null|   55|       2608|2.1088957055214723|\n",
            "|            DSL|                Yes| 1160|       2608| 44.47852760736196|\n",
            "+---------------+-------------------+-----+-----------+------------------+\n",
            "\n"
          ]
        }
      ],
      "source": [
        "df.select(['InternetService', 'OnlineBackup']).\\\n",
        "groupBy(['InternetService', 'OnlineBackup']).count().\\\n",
        "join(internet_count, ['InternetService']).\\\n",
        "withColumn('percent', col('count')*100/col('total_count')).\\\n",
        "show()"
      ]
    },
    {
      "cell_type": "markdown",
      "metadata": {
        "id": "SscTjOazf7M-"
      },
      "source": [
        "بیشتر افراد بک آپ ندارند پس بهتر از مقادیر نال با استفاده از مد پر شود اگر با ستون‌های دیگر رابطه ای نداشته باشد (به جز دسته‌ی ذکر شده)"
      ]
    },
    {
      "cell_type": "code",
      "execution_count": 44,
      "metadata": {
        "colab": {
          "base_uri": "https://localhost:8080/"
        },
        "id": "Wt_pYQlUfdUo",
        "outputId": "1e5ae1b1-167f-4ffb-a1e1-ce2a04417093"
      },
      "outputs": [
        {
          "output_type": "stream",
          "name": "stdout",
          "text": [
            "+-------------------+-----+------------------+\n",
            "|       OnlineBackup|count|           percent|\n",
            "+-------------------+-----+------------------+\n",
            "|               null|  243|  3.10028068384792|\n",
            "|                 No| 3309| 42.21740239857107|\n",
            "|                Yes| 2587| 33.00586884409288|\n",
            "|No internet service| 1699|21.676448073488135|\n",
            "+-------------------+-----+------------------+\n",
            "\n"
          ]
        }
      ],
      "source": [
        "df.select('OnlineBackup').groupBy('OnlineBackup').count().withColumn('percent', col('count')*100/df.count()).show()"
      ]
    },
    {
      "cell_type": "markdown",
      "source": [
        "بیشتر افرادی که رها کردند بک آپ نداشتند اما بیشتر افرادی که رها نکردند بک آپ داشتند"
      ],
      "metadata": {
        "id": "N_JADo3K1PvZ"
      }
    },
    {
      "cell_type": "code",
      "source": [
        "df.select(['OnlineBackup', 'Label']).groupBy(['OnlineBackup', 'Label']).count().show()"
      ],
      "metadata": {
        "colab": {
          "base_uri": "https://localhost:8080/"
        },
        "id": "lV41NXTJ0-Jj",
        "outputId": "81bb81a1-caa0-4309-c87d-88d7d948b050"
      },
      "execution_count": 45,
      "outputs": [
        {
          "output_type": "stream",
          "name": "stdout",
          "text": [
            "+-------------------+-----+-----+\n",
            "|       OnlineBackup|Label|count|\n",
            "+-------------------+-----+-----+\n",
            "|No internet service|   No| 1527|\n",
            "|                Yes|  Yes|  534|\n",
            "|               null| null|   57|\n",
            "|                 No|   No| 1975|\n",
            "|                Yes|   No| 2021|\n",
            "|               null|   No|  158|\n",
            "|                 No| null|   60|\n",
            "|               null|  Yes|   28|\n",
            "|                Yes| null|   32|\n",
            "|                 No|  Yes| 1274|\n",
            "|No internet service|  Yes|  113|\n",
            "|No internet service| null|   59|\n",
            "+-------------------+-----+-----+\n",
            "\n"
          ]
        }
      ]
    },
    {
      "cell_type": "markdown",
      "metadata": {
        "id": "kZUMH1IwguNZ"
      },
      "source": [
        "نتایج مانند مورد قبلی"
      ]
    },
    {
      "cell_type": "code",
      "execution_count": 46,
      "metadata": {
        "colab": {
          "base_uri": "https://localhost:8080/"
        },
        "id": "i157-t17buSY",
        "outputId": "d80d7f9d-e0ab-4a0c-f4e5-ae5981e78ccc"
      },
      "outputs": [
        {
          "output_type": "stream",
          "name": "stdout",
          "text": [
            "+---------------+-------------------+-----+\n",
            "|InternetService|   DeviceProtection|count|\n",
            "+---------------+-------------------+-----+\n",
            "|            DSL|                Yes| 1079|\n",
            "|    Fiber optic|                Yes| 1415|\n",
            "|           null|               null|   76|\n",
            "|    Fiber optic|               null|   68|\n",
            "|             No|No internet service| 1649|\n",
            "|             No|               null|   51|\n",
            "|           null|                 No|   75|\n",
            "|           null|                Yes|   35|\n",
            "|    Fiber optic|                 No| 1817|\n",
            "|            DSL|               null|   59|\n",
            "|            DSL|                 No| 1470|\n",
            "|           null|No internet service|   44|\n",
            "+---------------+-------------------+-----+\n",
            "\n"
          ]
        }
      ],
      "source": [
        "df.select(['InternetService', 'DeviceProtection']).groupBy(['InternetService', 'DeviceProtection']).count().show()"
      ]
    },
    {
      "cell_type": "code",
      "execution_count": 47,
      "metadata": {
        "colab": {
          "base_uri": "https://localhost:8080/"
        },
        "id": "hl3Y4A2egn_h",
        "outputId": "9c5b3038-480b-47ec-90b7-ddaa6054f38d"
      },
      "outputs": [
        {
          "output_type": "stream",
          "name": "stdout",
          "text": [
            "+-------------------+-----+-----------------+\n",
            "|   DeviceProtection|count|          percent|\n",
            "+-------------------+-----+-----------------+\n",
            "|               null|  254|3.240622607808114|\n",
            "|                 No| 3362|42.89359530492472|\n",
            "|                Yes| 2529|32.26588415412095|\n",
            "|No internet service| 1693|21.59989793314621|\n",
            "+-------------------+-----+-----------------+\n",
            "\n"
          ]
        }
      ],
      "source": [
        "df.select('DeviceProtection').groupBy('DeviceProtection').count().withColumn('percent', col('count')*100/df.count()).show()"
      ]
    },
    {
      "cell_type": "markdown",
      "source": [
        "در هر دسته از برچسب بیشتر پروتکشن نداشتند"
      ],
      "metadata": {
        "id": "BoONrGPK2Enh"
      }
    },
    {
      "cell_type": "code",
      "source": [
        "df.select(['DeviceProtection', 'Label']).groupBy(['DeviceProtection', 'Label']).count().show()"
      ],
      "metadata": {
        "colab": {
          "base_uri": "https://localhost:8080/"
        },
        "id": "0_-zmA9511GB",
        "outputId": "959150a2-3d10-47fa-860d-7d2b6d4b3dec"
      },
      "execution_count": 48,
      "outputs": [
        {
          "output_type": "stream",
          "name": "stdout",
          "text": [
            "+-------------------+-----+-----+\n",
            "|   DeviceProtection|Label|count|\n",
            "+-------------------+-----+-----+\n",
            "|No internet service|   No| 1534|\n",
            "|                Yes|  Yes|  575|\n",
            "|               null| null|   72|\n",
            "|                 No|   No| 2057|\n",
            "|                Yes|   No| 1929|\n",
            "|               null|   No|  161|\n",
            "|                 No| null|   65|\n",
            "|               null|  Yes|   21|\n",
            "|                Yes| null|   25|\n",
            "|                 No|  Yes| 1240|\n",
            "|No internet service|  Yes|  113|\n",
            "|No internet service| null|   46|\n",
            "+-------------------+-----+-----+\n",
            "\n"
          ]
        }
      ]
    },
    {
      "cell_type": "markdown",
      "metadata": {
        "id": "R9P_qqESg9gO"
      },
      "source": [
        "بیشتر افراد سرویس تک ندارند.  بیشتر افرادی که تک دارند دی اس ال دارند و بیشتر افرادی که تک ندارند فیبر دارند<br />\n"
      ]
    },
    {
      "cell_type": "code",
      "execution_count": 49,
      "metadata": {
        "colab": {
          "base_uri": "https://localhost:8080/"
        },
        "id": "DTafgpyygx0D",
        "outputId": "9f90b46a-3016-48cd-de91-5a931f9b5440"
      },
      "outputs": [
        {
          "output_type": "stream",
          "name": "stdout",
          "text": [
            "+---------------+-------------------+-----+\n",
            "|InternetService|        TechSupport|count|\n",
            "+---------------+-------------------+-----+\n",
            "|            DSL|                Yes| 1235|\n",
            "|    Fiber optic|                Yes|  900|\n",
            "|           null|               null|   91|\n",
            "|    Fiber optic|               null|   52|\n",
            "|             No|No internet service| 1643|\n",
            "|             No|               null|   57|\n",
            "|           null|                 No|   65|\n",
            "|           null|                Yes|   36|\n",
            "|    Fiber optic|                 No| 2348|\n",
            "|            DSL|               null|   64|\n",
            "|            DSL|                 No| 1309|\n",
            "|           null|No internet service|   38|\n",
            "+---------------+-------------------+-----+\n",
            "\n"
          ]
        }
      ],
      "source": [
        "df.select(['InternetService', 'TechSupport']).groupBy(['InternetService', 'TechSupport']).count().show()"
      ]
    },
    {
      "cell_type": "markdown",
      "metadata": {
        "id": "PqY1uNVjhRfk"
      },
      "source": [
        "از تک برای پر کردن اینترنت سرویس می‌توان استفاده کرد"
      ]
    },
    {
      "cell_type": "code",
      "execution_count": 50,
      "metadata": {
        "colab": {
          "base_uri": "https://localhost:8080/"
        },
        "id": "yATrZ5UGhJwB",
        "outputId": "7c990262-0307-44b9-d519-f70674a4ee5d"
      },
      "outputs": [
        {
          "output_type": "stream",
          "name": "stdout",
          "text": [
            "+-------------------+-----+------------------+\n",
            "|        TechSupport|count|           percent|\n",
            "+-------------------+-----+------------------+\n",
            "|               null|  264| 3.368206175044654|\n",
            "|                 No| 3722| 47.48660372544016|\n",
            "|                Yes| 2171|27.698392447052818|\n",
            "|No internet service| 1681| 21.44679765246236|\n",
            "+-------------------+-----+------------------+\n",
            "\n"
          ]
        }
      ],
      "source": [
        "df.select('TechSupport').groupBy('TechSupport').count().withColumn('percent', col('count')*100/df.count()).show()"
      ]
    },
    {
      "cell_type": "markdown",
      "source": [
        "بیشتر افراد تک ساپورت نداشتند پس بهتر است با مد پر شود"
      ],
      "metadata": {
        "id": "xjMl4OhBjsRF"
      }
    },
    {
      "cell_type": "code",
      "source": [
        "df.select(['TechSupport', 'Label']).groupBy(['TechSupport', 'Label']).count().show()"
      ],
      "metadata": {
        "colab": {
          "base_uri": "https://localhost:8080/"
        },
        "id": "gL1EK9Ikji6q",
        "outputId": "5cc2c2dd-d419-482f-9e10-846727cf0a0e"
      },
      "execution_count": 51,
      "outputs": [
        {
          "output_type": "stream",
          "name": "stdout",
          "text": [
            "+-------------------+-----+-----+\n",
            "|        TechSupport|Label|count|\n",
            "+-------------------+-----+-----+\n",
            "|No internet service|   No| 1517|\n",
            "|                Yes|  Yes|  310|\n",
            "|               null| null|   55|\n",
            "|                 No|   No| 2152|\n",
            "|                Yes|   No| 1825|\n",
            "|               null|   No|  187|\n",
            "|                 No| null|   66|\n",
            "|                Yes| null|   36|\n",
            "|               null|  Yes|   22|\n",
            "|                 No|  Yes| 1504|\n",
            "|No internet service|  Yes|  113|\n",
            "|No internet service| null|   51|\n",
            "+-------------------+-----+-----+\n",
            "\n"
          ]
        }
      ]
    },
    {
      "cell_type": "markdown",
      "metadata": {
        "id": "dR3PLE-piB10"
      },
      "source": [
        "بیشتر افرادی که دی اس ال دارند استریم تی وی ندارند و بیشتر افرادی که فیبر هستند استریم تی وی دارند"
      ]
    },
    {
      "cell_type": "code",
      "execution_count": 52,
      "metadata": {
        "colab": {
          "base_uri": "https://localhost:8080/"
        },
        "id": "HHQtKL0SheRI",
        "outputId": "473c9c06-8580-4396-d6bf-c1681f42f547"
      },
      "outputs": [
        {
          "output_type": "stream",
          "name": "stdout",
          "text": [
            "+---------------+-------------------+-----+\n",
            "|InternetService|        StreamingTV|count|\n",
            "+---------------+-------------------+-----+\n",
            "|            DSL|                Yes| 1022|\n",
            "|    Fiber optic|                Yes| 1825|\n",
            "|           null|               null|   71|\n",
            "|    Fiber optic|               null|   66|\n",
            "|             No|No internet service| 1653|\n",
            "|           null|                 No|   55|\n",
            "|             No|               null|   47|\n",
            "|           null|                Yes|   57|\n",
            "|    Fiber optic|                 No| 1409|\n",
            "|            DSL|               null|   65|\n",
            "|            DSL|                 No| 1521|\n",
            "|           null|No internet service|   47|\n",
            "+---------------+-------------------+-----+\n",
            "\n"
          ]
        }
      ],
      "source": [
        "df.select(['InternetService', 'StreamingTV']).groupBy(['InternetService', 'StreamingTV']).count().show()"
      ]
    },
    {
      "cell_type": "code",
      "execution_count": 53,
      "metadata": {
        "colab": {
          "base_uri": "https://localhost:8080/"
        },
        "id": "GxvXdP_Ch06k",
        "outputId": "5349b0c6-bd03-4b32-9c9b-ba5f023c9f02"
      },
      "outputs": [
        {
          "output_type": "stream",
          "name": "stdout",
          "text": [
            "+-------------------+-----+-----------------+\n",
            "|        StreamingTV|count|          percent|\n",
            "+-------------------+-----+-----------------+\n",
            "|               null|  249|3.176830824189844|\n",
            "|                 No| 2985|38.08369482010717|\n",
            "|                Yes| 2904| 37.0502679254912|\n",
            "|No internet service| 1700|21.68920643021179|\n",
            "+-------------------+-----+-----------------+\n",
            "\n"
          ]
        }
      ],
      "source": [
        "df.select('StreamingTV').groupBy('StreamingTV').count().withColumn('percent', col('count')*100/df.count()).show()"
      ]
    },
    {
      "cell_type": "markdown",
      "source": [
        "بیشتر افراد استریم تی وی نداشتند و بشتر افراد رها نکردند"
      ],
      "metadata": {
        "id": "R8Z3fFIn3yAk"
      }
    },
    {
      "cell_type": "code",
      "source": [
        "df.select(['StreamingTV', 'Label']).groupBy(['StreamingTV', 'Label']).count().show()"
      ],
      "metadata": {
        "colab": {
          "base_uri": "https://localhost:8080/"
        },
        "id": "SoVycUAA3iY1",
        "outputId": "3efece1a-b0d5-4575-ae72-912475987b83"
      },
      "execution_count": 54,
      "outputs": [
        {
          "output_type": "stream",
          "name": "stdout",
          "text": [
            "+-------------------+-----+-----+\n",
            "|        StreamingTV|Label|count|\n",
            "+-------------------+-----+-----+\n",
            "|No internet service|   No| 1538|\n",
            "|                Yes|  Yes|  827|\n",
            "|               null| null|   62|\n",
            "|                 No|   No| 1961|\n",
            "|                Yes|   No| 2028|\n",
            "|                 No| null|   48|\n",
            "|               null|   No|  154|\n",
            "|               null|  Yes|   33|\n",
            "|                Yes| null|   49|\n",
            "|                 No|  Yes|  976|\n",
            "|No internet service|  Yes|  113|\n",
            "|No internet service| null|   49|\n",
            "+-------------------+-----+-----+\n",
            "\n"
          ]
        }
      ]
    },
    {
      "cell_type": "markdown",
      "source": [
        "مثل نتایج مورد قبلی اونایی که دی اس ال دارند استریم مووی ندارند و بیشتر کسانی که فیبر دارند استریم مووی دارند"
      ],
      "metadata": {
        "id": "iCDUpRiS4Di0"
      }
    },
    {
      "cell_type": "code",
      "execution_count": 55,
      "metadata": {
        "colab": {
          "base_uri": "https://localhost:8080/"
        },
        "id": "ebzY8ttBiZHE",
        "outputId": "e3a61764-dcbb-4e98-e22c-3bd3aa7d0d15"
      },
      "outputs": [
        {
          "output_type": "stream",
          "name": "stdout",
          "text": [
            "+---------------+-------------------+-----+\n",
            "|InternetService|    StreamingMovies|count|\n",
            "+---------------+-------------------+-----+\n",
            "|            DSL|                Yes| 1066|\n",
            "|    Fiber optic|                Yes| 1792|\n",
            "|           null|               null|   65|\n",
            "|    Fiber optic|               null|   55|\n",
            "|             No|No internet service| 1649|\n",
            "|             No|               null|   51|\n",
            "|           null|                 No|   62|\n",
            "|           null|                Yes|   50|\n",
            "|    Fiber optic|                 No| 1453|\n",
            "|            DSL|               null|   48|\n",
            "|            DSL|                 No| 1494|\n",
            "|           null|No internet service|   53|\n",
            "+---------------+-------------------+-----+\n",
            "\n"
          ]
        }
      ],
      "source": [
        "df.select(['InternetService', 'StreamingMovies']).groupBy(['InternetService', 'StreamingMovies']).count().show()"
      ]
    },
    {
      "cell_type": "code",
      "execution_count": 56,
      "metadata": {
        "colab": {
          "base_uri": "https://localhost:8080/"
        },
        "id": "pR8F16fjimWV",
        "outputId": "d167bd80-4ca9-46a2-c004-22b679eaa4a0"
      },
      "outputs": [
        {
          "output_type": "stream",
          "name": "stdout",
          "text": [
            "+-------------------+-----+------------------+\n",
            "|    StreamingMovies|count|           percent|\n",
            "+-------------------+-----+------------------+\n",
            "|               null|  219|2.7940801224802247|\n",
            "|                 No| 3009|38.389895381474865|\n",
            "|                Yes| 2908| 37.10130135238581|\n",
            "|No internet service| 1702|21.714723143659096|\n",
            "+-------------------+-----+------------------+\n",
            "\n"
          ]
        }
      ],
      "source": [
        "df.select('StreamingMovies').groupBy('StreamingMovies').count().withColumn('percent', col('count')*100/df.count()).show()"
      ]
    },
    {
      "cell_type": "markdown",
      "source": [
        "بیشتر کسانی که رها نکردند این سرویس رو داشتند و بیشتر کسانی که رها کردند این سرویس رو نداشتند"
      ],
      "metadata": {
        "id": "XiL88rMm4o8u"
      }
    },
    {
      "cell_type": "code",
      "source": [
        "df.select(['StreamingMovies', 'Label']).groupBy(['StreamingMovies', 'Label']).count().show()"
      ],
      "metadata": {
        "colab": {
          "base_uri": "https://localhost:8080/"
        },
        "id": "l87pD52M4S_3",
        "outputId": "91a88929-267d-4da7-fa8c-e4061551c2a7"
      },
      "execution_count": 57,
      "outputs": [
        {
          "output_type": "stream",
          "name": "stdout",
          "text": [
            "+-------------------+-----+-----+\n",
            "|    StreamingMovies|Label|count|\n",
            "+-------------------+-----+-----+\n",
            "|No internet service|   No| 1533|\n",
            "|                Yes|  Yes|  834|\n",
            "|               null| null|   54|\n",
            "|                 No|   No| 1975|\n",
            "|                Yes|   No| 2028|\n",
            "|                 No| null|   52|\n",
            "|               null|   No|  145|\n",
            "|               null|  Yes|   20|\n",
            "|                Yes| null|   46|\n",
            "|                 No|  Yes|  982|\n",
            "|No internet service|  Yes|  113|\n",
            "|No internet service| null|   56|\n",
            "+-------------------+-----+-----+\n",
            "\n"
          ]
        }
      ]
    },
    {
      "cell_type": "markdown",
      "metadata": {
        "id": "YqIAxRQ7izxd"
      },
      "source": [
        "##relation between StreamingMovies and StreamingTV"
      ]
    },
    {
      "cell_type": "markdown",
      "metadata": {
        "id": "O_qbNwppjTq3"
      },
      "source": [
        "بیشتر رابطه ی مستقیم بین این دو مشاهده می‌شود اما چون استنثناهایی دیده میشود و حدود این یک پنجم داده می باشد نمی توان آن را به عنوان قانون عنوان کرد و یکی از مقادیر را پاک کرد"
      ]
    },
    {
      "cell_type": "code",
      "execution_count": 58,
      "metadata": {
        "colab": {
          "base_uri": "https://localhost:8080/"
        },
        "id": "RQhKYieVi6jg",
        "outputId": "2a3bbec5-4bd2-4464-aa0c-10531c5d5e62"
      },
      "outputs": [
        {
          "output_type": "stream",
          "name": "stdout",
          "text": [
            "+-------------------+-------------------+-----+\n",
            "|        StreamingTV|    StreamingMovies|count|\n",
            "+-------------------+-------------------+-----+\n",
            "|                Yes|                Yes| 2042|\n",
            "|               null|               null|   72|\n",
            "|                 No|                 No| 2140|\n",
            "|                Yes|                 No|  806|\n",
            "|No internet service|No internet service| 1655|\n",
            "|                 No|               null|   46|\n",
            "|               null|                 No|   63|\n",
            "|                Yes|               null|   56|\n",
            "|               null|                Yes|   67|\n",
            "|                 No|                Yes|  799|\n",
            "|               null|No internet service|   47|\n",
            "|No internet service|               null|   45|\n",
            "+-------------------+-------------------+-----+\n",
            "\n"
          ]
        }
      ],
      "source": [
        "df.select(['StreamingTV', 'StreamingMovies']).groupBy(['StreamingTV', 'StreamingMovies']).count().show()"
      ]
    },
    {
      "cell_type": "markdown",
      "metadata": {
        "id": "sdJToEa7jZBN"
      },
      "source": [
        "##relation between OnlineSecurity and OnlineBackup and DeviceProtection"
      ]
    },
    {
      "cell_type": "markdown",
      "source": [
        "افرادی که امنیت دارند بیشتر بک آپ هم دارند ولی افرادی که امنیت ندارند بیشتر بک آپ هم ندارند.<br/>\n",
        "بیشتر افراد هم امنیت ندارند"
      ],
      "metadata": {
        "id": "yBXgSZg4oggS"
      }
    },
    {
      "cell_type": "code",
      "execution_count": 59,
      "metadata": {
        "colab": {
          "base_uri": "https://localhost:8080/"
        },
        "id": "GjQ_YvJcjo-9",
        "outputId": "0083f6a1-da83-4b13-cab4-6c994f1bfff3"
      },
      "outputs": [
        {
          "output_type": "stream",
          "name": "stdout",
          "text": [
            "+-------------------+-------------------+-----+\n",
            "|     OnlineSecurity|       OnlineBackup|count|\n",
            "+-------------------+-------------------+-----+\n",
            "|                Yes|                Yes| 1160|\n",
            "|               null|               null|   61|\n",
            "|                 No|                 No| 2296|\n",
            "|                Yes|                 No|  942|\n",
            "|No internet service|No internet service| 1649|\n",
            "|                 No|               null|   74|\n",
            "|               null|                 No|   71|\n",
            "|               null|                Yes|   48|\n",
            "|                Yes|               null|   54|\n",
            "|                 No|                Yes| 1379|\n",
            "|               null|No internet service|   50|\n",
            "|No internet service|               null|   54|\n",
            "+-------------------+-------------------+-----+\n",
            "\n"
          ]
        }
      ],
      "source": [
        "df.select(['OnlineSecurity', 'OnlineBackup']).groupBy(['OnlineSecurity', 'OnlineBackup']).count().show()"
      ]
    },
    {
      "cell_type": "markdown",
      "source": [
        "بیشتر افرادی که امنیت دارند پروتکشن هم دارند ولی بیشتر افرادی که امنیت ندارند پروتکشن هم ندارند"
      ],
      "metadata": {
        "id": "nW9zhLCNo4Po"
      }
    },
    {
      "cell_type": "code",
      "execution_count": 60,
      "metadata": {
        "colab": {
          "base_uri": "https://localhost:8080/"
        },
        "id": "dXP5ZlBYmPx7",
        "outputId": "9ae75420-d146-41bc-fc2d-dae43afbd8f8"
      },
      "outputs": [
        {
          "output_type": "stream",
          "name": "stdout",
          "text": [
            "+-------------------+-------------------+-----+\n",
            "|     OnlineSecurity|   DeviceProtection|count|\n",
            "+-------------------+-------------------+-----+\n",
            "|                Yes|                Yes| 1120|\n",
            "|               null|               null|   72|\n",
            "|                 No|                 No| 2298|\n",
            "|                Yes|                 No|  988|\n",
            "|No internet service|No internet service| 1643|\n",
            "|                 No|               null|   74|\n",
            "|               null|                 No|   76|\n",
            "|               null|                Yes|   32|\n",
            "|                Yes|               null|   48|\n",
            "|                 No|                Yes| 1377|\n",
            "|No internet service|               null|   60|\n",
            "|               null|No internet service|   50|\n",
            "+-------------------+-------------------+-----+\n",
            "\n"
          ]
        }
      ],
      "source": [
        "df.select(['OnlineSecurity', 'DeviceProtection']).groupBy(['OnlineSecurity', 'DeviceProtection']).count().show()"
      ]
    },
    {
      "cell_type": "markdown",
      "source": [
        "بیشتر افرادی که دیوایس پروتکشن ندارند بک آپ هم ندارند و بیشتر افرادی که دیوایس پروتکشن دارند بک آپ هم دارند. این قضیه برعکس هم صادق است"
      ],
      "metadata": {
        "id": "PpDz7Sy-pJ_s"
      }
    },
    {
      "cell_type": "code",
      "execution_count": 61,
      "metadata": {
        "colab": {
          "base_uri": "https://localhost:8080/"
        },
        "id": "5Zf5_XCSmelp",
        "outputId": "ac42474c-fcdd-4162-b02d-f58045f97929"
      },
      "outputs": [
        {
          "output_type": "stream",
          "name": "stdout",
          "text": [
            "+-------------------+-------------------+-----+\n",
            "|   DeviceProtection|       OnlineBackup|count|\n",
            "+-------------------+-------------------+-----+\n",
            "|                Yes|                Yes| 1355|\n",
            "|               null|               null|   73|\n",
            "|                 No|                 No| 2092|\n",
            "|                Yes|                 No| 1141|\n",
            "|No internet service|No internet service| 1641|\n",
            "|               null|                 No|   76|\n",
            "|                 No|               null|   85|\n",
            "|               null|                Yes|   47|\n",
            "|                Yes|               null|   33|\n",
            "|                 No|                Yes| 1185|\n",
            "|               null|No internet service|   58|\n",
            "|No internet service|               null|   52|\n",
            "+-------------------+-------------------+-----+\n",
            "\n"
          ]
        }
      ],
      "source": [
        "df.select(['DeviceProtection', 'OnlineBackup']).groupBy(['DeviceProtection', 'OnlineBackup']).count().show()"
      ]
    },
    {
      "cell_type": "markdown",
      "source": [
        "طبق نتایج زیر بیشتر افراد هر سه مورد رو ندارند. رتبه‌ی بعدی برای افرادیه که حداقل دوتاش رو دارند و رتبه‌ی سوم فقط دیوایس پروتکشن دارند و در آخر کسانی که هر سه مورد را دارند"
      ],
      "metadata": {
        "id": "YQSppKZj6F2e"
      }
    },
    {
      "cell_type": "code",
      "execution_count": 62,
      "metadata": {
        "colab": {
          "base_uri": "https://localhost:8080/"
        },
        "id": "OFDdGl53mtKS",
        "outputId": "eb8c9d72-066c-4970-baa4-aa51aeb525ad"
      },
      "outputs": [
        {
          "output_type": "stream",
          "name": "stdout",
          "text": [
            "+-------------------+-------------------+-------------------+-----+\n",
            "|     OnlineSecurity|       OnlineBackup|   DeviceProtection|count|\n",
            "+-------------------+-------------------+-------------------+-----+\n",
            "|                Yes|                Yes|                 No|  452|\n",
            "|               null|                Yes|                Yes|   13|\n",
            "|                Yes|                Yes|               null|   12|\n",
            "|                Yes|               null|                Yes|    5|\n",
            "|               null|               null|               null|   22|\n",
            "|                 No|                 No|               null|   32|\n",
            "|                 No|               null|                 No|   35|\n",
            "|               null|                 No|                 No|   36|\n",
            "|                Yes|               null|                 No|   31|\n",
            "|                Yes|                 No|               null|   18|\n",
            "|               null|                Yes|                 No|   21|\n",
            "|                 No|                Yes|                Yes|  646|\n",
            "|                Yes|                Yes|                Yes|  696|\n",
            "|No internet service|No internet service|               null|   48|\n",
            "|               null|No internet service|No internet service|   40|\n",
            "|No internet service|               null|No internet service|   42|\n",
            "|                Yes|                 No|                Yes|  419|\n",
            "|                 No|                 No|                 No| 1551|\n",
            "|                 No|                 No|                Yes|  713|\n",
            "|                 No|               null|               null|   21|\n",
            "+-------------------+-------------------+-------------------+-----+\n",
            "only showing top 20 rows\n",
            "\n"
          ]
        }
      ],
      "source": [
        "df.select(['OnlineSecurity', 'OnlineBackup', 'DeviceProtection']).groupBy(['OnlineSecurity', 'OnlineBackup', 'DeviceProtection']).count().show()"
      ]
    },
    {
      "cell_type": "markdown",
      "metadata": {
        "id": "E3YfLv7EVgTh"
      },
      "source": [
        "##relation between Partner and Dependents and SeniorCitizen"
      ]
    },
    {
      "cell_type": "markdown",
      "metadata": {
        "id": "vmiR--MMV0RM"
      },
      "source": [
        "حدس: کسی که پارنتر داره صد در صد خویشاوند نیز دارد. رد شد<br/>\n",
        "اما بیشتر کسانی که پارتنر ندارند خوشاوند هم ندارند و بیشتر کسانی که خویشاوند دارند پارتنر هم دارند "
      ]
    },
    {
      "cell_type": "code",
      "execution_count": 63,
      "metadata": {
        "colab": {
          "base_uri": "https://localhost:8080/"
        },
        "id": "aSH6yM8eVqRT",
        "outputId": "c9037f09-6745-49da-e825-254f58fb67c0"
      },
      "outputs": [
        {
          "output_type": "stream",
          "name": "stdout",
          "text": [
            "+-------+----------+-----+\n",
            "|Partner|Dependents|count|\n",
            "+-------+----------+-----+\n",
            "|    Yes|       Yes| 1874|\n",
            "|   null|      null|   64|\n",
            "|     No|        No| 3489|\n",
            "|    Yes|        No| 1704|\n",
            "|     No|      null|  101|\n",
            "|   null|        No|   99|\n",
            "|   null|       Yes|   62|\n",
            "|    Yes|      null|   77|\n",
            "|     No|       Yes|  368|\n",
            "+-------+----------+-----+\n",
            "\n"
          ]
        }
      ],
      "source": [
        "df.select(['Partner', 'Dependents']).groupBy(['Partner', 'Dependents']).count().show()"
      ]
    },
    {
      "cell_type": "markdown",
      "metadata": {
        "id": "I24mmMXYXcei"
      },
      "source": [
        "بیشتر افراد پارتنر ندارند اگر رابطه ای با لیبل نداشته باشد بهتر است با مد پر شود"
      ]
    },
    {
      "cell_type": "code",
      "execution_count": 64,
      "metadata": {
        "colab": {
          "base_uri": "https://localhost:8080/"
        },
        "id": "oONuRTCPWEP-",
        "outputId": "52ef8ba3-a859-43fe-e82e-15b469d8efa1"
      },
      "outputs": [
        {
          "output_type": "stream",
          "name": "stdout",
          "text": [
            "+-------+-------------+-----+\n",
            "|Partner|SeniorCitizen|count|\n",
            "+-------+-------------+-----+\n",
            "|   null|          0.0|  127|\n",
            "|    Yes|          0.0| 2967|\n",
            "|   null|         null|   70|\n",
            "|    Yes|         14.0|    4|\n",
            "|   null|          1.0|   28|\n",
            "|    Yes|         17.0|    1|\n",
            "|     No|          0.0| 3237|\n",
            "|     No|         null|  101|\n",
            "|    Yes|         null|   95|\n",
            "|     No|         14.0|    4|\n",
            "|     No|          1.0|  616|\n",
            "|    Yes|          1.0|  588|\n",
            "+-------+-------------+-----+\n",
            "\n"
          ]
        }
      ],
      "source": [
        "df.select(['Partner', 'SeniorCitizen']).groupBy(['Partner', 'SeniorCitizen']).count().show()"
      ]
    },
    {
      "cell_type": "markdown",
      "source": [
        "بیشتر افرادی که رها کردند پارتنر ندارند اما بیشتر افرادی که رها نکردند پارتنر دارند."
      ],
      "metadata": {
        "id": "d0eSi8gG7WoQ"
      }
    },
    {
      "cell_type": "code",
      "source": [
        "df.select(['Partner', 'Label']).groupBy(['Partner', 'Label']).count().show()"
      ],
      "metadata": {
        "colab": {
          "base_uri": "https://localhost:8080/"
        },
        "id": "cPeFkysF7LIA",
        "outputId": "c7673f9c-3208-4299-c8fc-b114d290729c"
      },
      "execution_count": 65,
      "outputs": [
        {
          "output_type": "stream",
          "name": "stdout",
          "text": [
            "+-------+-----+-----+\n",
            "|Partner|Label|count|\n",
            "+-------+-----+-----+\n",
            "|    Yes|  Yes|  702|\n",
            "|   null| null|   60|\n",
            "|     No|   No| 2658|\n",
            "|    Yes|   No| 2887|\n",
            "|     No| null|   82|\n",
            "|   null|   No|  136|\n",
            "|    Yes| null|   66|\n",
            "|   null|  Yes|   29|\n",
            "|     No|  Yes| 1218|\n",
            "+-------+-----+-----+\n",
            "\n"
          ]
        }
      ]
    },
    {
      "cell_type": "markdown",
      "metadata": {
        "id": "NtcqNupOXGym"
      },
      "source": [
        "بیشتر افراد خویشاوند ندارند، پس بهتر است با مد پر شود"
      ]
    },
    {
      "cell_type": "code",
      "execution_count": 66,
      "metadata": {
        "colab": {
          "base_uri": "https://localhost:8080/"
        },
        "id": "liHxFhGxWY1w",
        "outputId": "b143db0d-bbe0-41b0-9582-dd9495124baa"
      },
      "outputs": [
        {
          "output_type": "stream",
          "name": "stdout",
          "text": [
            "+-------------+----------+-----+\n",
            "|SeniorCitizen|Dependents|count|\n",
            "+-------------+----------+-----+\n",
            "|          0.0|      null|  133|\n",
            "|         17.0|        No|    1|\n",
            "|         null|      null|   72|\n",
            "|          1.0|      null|   37|\n",
            "|         14.0|       Yes|    2|\n",
            "|          1.0|       Yes|   91|\n",
            "|          0.0|        No| 4058|\n",
            "|          1.0|        No| 1104|\n",
            "|         null|        No|  123|\n",
            "|         null|       Yes|   71|\n",
            "|          0.0|       Yes| 2140|\n",
            "|         14.0|        No|    6|\n",
            "+-------------+----------+-----+\n",
            "\n"
          ]
        }
      ],
      "source": [
        "df.select(['SeniorCitizen', 'Dependents']).groupBy(['SeniorCitizen', 'Dependents']).count().show()"
      ]
    },
    {
      "cell_type": "code",
      "execution_count": 67,
      "metadata": {
        "colab": {
          "base_uri": "https://localhost:8080/"
        },
        "id": "2n-QIaKEW61u",
        "outputId": "df0d1950-45d8-44b2-8456-c9f15f578349"
      },
      "outputs": [
        {
          "output_type": "stream",
          "name": "stdout",
          "text": [
            "+----------+-----+\n",
            "|Dependents|count|\n",
            "+----------+-----+\n",
            "|      null|  242|\n",
            "|        No| 5292|\n",
            "|       Yes| 2304|\n",
            "+----------+-----+\n",
            "\n"
          ]
        }
      ],
      "source": [
        "df.select('Dependents').groupBy('Dependents').count().show()"
      ]
    },
    {
      "cell_type": "code",
      "source": [
        "df.select(['Dependents', 'Label']).groupBy(['Dependents', 'Label']).count().show()"
      ],
      "metadata": {
        "colab": {
          "base_uri": "https://localhost:8080/"
        },
        "id": "IvVtM5W87rUq",
        "outputId": "4b4da399-288f-48de-8ed4-9f413127a652"
      },
      "execution_count": 68,
      "outputs": [
        {
          "output_type": "stream",
          "name": "stdout",
          "text": [
            "+----------+-----+-----+\n",
            "|Dependents|Label|count|\n",
            "+----------+-----+-----+\n",
            "|       Yes|  Yes|  343|\n",
            "|      null| null|   64|\n",
            "|        No|   No| 3623|\n",
            "|       Yes|   No| 1912|\n",
            "|      null|   No|  146|\n",
            "|        No| null|   95|\n",
            "|      null|  Yes|   32|\n",
            "|       Yes| null|   49|\n",
            "|        No|  Yes| 1574|\n",
            "+----------+-----+-----+\n",
            "\n"
          ]
        }
      ]
    },
    {
      "cell_type": "markdown",
      "metadata": {
        "id": "V20ZOktPpywx"
      },
      "source": [
        "##relations between tenure and MonthlyCharges and TotalCharges"
      ]
    },
    {
      "cell_type": "code",
      "execution_count": 69,
      "metadata": {
        "id": "aXxDPGtBsimW"
      },
      "outputs": [],
      "source": [
        "tenure_list = [each.tenure for each in df.select('tenure').filter(~col('tenure').isNull()).collect()]"
      ]
    },
    {
      "cell_type": "markdown",
      "metadata": {
        "id": "a4c_88sHxHmZ"
      },
      "source": [
        "مقادیر منفی غیرقابل قبوله"
      ]
    },
    {
      "cell_type": "code",
      "execution_count": 70,
      "metadata": {
        "colab": {
          "base_uri": "https://localhost:8080/"
        },
        "id": "Jrpc4CBzw9nE",
        "outputId": "eea73a14-a439-4be4-bc76-d32a4cd67638"
      },
      "outputs": [
        {
          "output_type": "execute_result",
          "data": {
            "text/plain": [
              "(-598.0, 72.0)"
            ]
          },
          "metadata": {},
          "execution_count": 70
        }
      ],
      "source": [
        "min(tenure_list), max(tenure_list)"
      ]
    },
    {
      "cell_type": "code",
      "execution_count": 71,
      "metadata": {
        "colab": {
          "base_uri": "https://localhost:8080/",
          "height": 0
        },
        "id": "IfvodZU4sWhO",
        "outputId": "688e0d08-2cff-42a5-c98b-945db99f06b2"
      },
      "outputs": [
        {
          "output_type": "execute_result",
          "data": {
            "text/plain": [
              "{'boxes': [<matplotlib.lines.Line2D at 0x7fc3146ce390>],\n",
              " 'caps': [<matplotlib.lines.Line2D at 0x7fc314657410>,\n",
              "  <matplotlib.lines.Line2D at 0x7fc314657950>],\n",
              " 'fliers': [<matplotlib.lines.Line2D at 0x7fc31465c450>],\n",
              " 'means': [],\n",
              " 'medians': [<matplotlib.lines.Line2D at 0x7fc314657ed0>],\n",
              " 'whiskers': [<matplotlib.lines.Line2D at 0x7fc3146ce950>,\n",
              "  <matplotlib.lines.Line2D at 0x7fc3146cee90>]}"
            ]
          },
          "metadata": {},
          "execution_count": 71
        },
        {
          "output_type": "display_data",
          "data": {
            "text/plain": [
              "<Figure size 432x288 with 1 Axes>"
            ],
            "image/png": "[encoded data removed]"
          },
          "metadata": {
            "needs_background": "light"
          }
        }
      ],
      "source": [
        "plt.boxplot(tenure_list)"
      ]
    },
    {
      "cell_type": "code",
      "execution_count": 72,
      "metadata": {
        "colab": {
          "base_uri": "https://localhost:8080/",
          "height": 0
        },
        "id": "h81qQGwZwOBV",
        "outputId": "5c852a53-89f1-4d37-fd06-1c090af12e5b"
      },
      "outputs": [
        {
          "output_type": "execute_result",
          "data": {
            "text/plain": [
              "(array([8.000e+00, 4.000e+00, 1.000e+00, 0.000e+00, 1.000e+00, 1.000e+00,\n",
              "        0.000e+00, 0.000e+00, 0.000e+00, 0.000e+00, 0.000e+00, 0.000e+00,\n",
              "        0.000e+00, 0.000e+00, 0.000e+00, 0.000e+00, 0.000e+00, 0.000e+00,\n",
              "        0.000e+00, 0.000e+00, 0.000e+00, 0.000e+00, 0.000e+00, 0.000e+00,\n",
              "        0.000e+00, 0.000e+00, 0.000e+00, 0.000e+00, 0.000e+00, 0.000e+00,\n",
              "        0.000e+00, 0.000e+00, 0.000e+00, 0.000e+00, 0.000e+00, 0.000e+00,\n",
              "        0.000e+00, 0.000e+00, 0.000e+00, 0.000e+00, 0.000e+00, 0.000e+00,\n",
              "        0.000e+00, 0.000e+00, 1.238e+03, 1.514e+03, 1.045e+03, 1.059e+03,\n",
              "        9.600e+02, 1.782e+03]),\n",
              " array([-598. , -584.6, -571.2, -557.8, -544.4, -531. , -517.6, -504.2,\n",
              "        -490.8, -477.4, -464. , -450.6, -437.2, -423.8, -410.4, -397. ,\n",
              "        -383.6, -370.2, -356.8, -343.4, -330. , -316.6, -303.2, -289.8,\n",
              "        -276.4, -263. , -249.6, -236.2, -222.8, -209.4, -196. , -182.6,\n",
              "        -169.2, -155.8, -142.4, -129. , -115.6, -102.2,  -88.8,  -75.4,\n",
              "         -62. ,  -48.6,  -35.2,  -21.8,   -8.4,    5. ,   18.4,   31.8,\n",
              "          45.2,   58.6,   72. ]),\n",
              " <a list of 50 Patch objects>)"
            ]
          },
          "metadata": {},
          "execution_count": 72
        },
        {
          "output_type": "display_data",
          "data": {
            "text/plain": [
              "<Figure size 432x288 with 1 Axes>"
            ],
            "image/png": "[encoded data removed]"
          },
          "metadata": {
            "needs_background": "light"
          }
        }
      ],
      "source": [
        "plt.hist(tenure_list, bins=50)"
      ]
    },
    {
      "cell_type": "markdown",
      "metadata": {
        "id": "MTrUPaKtKXj9"
      },
      "source": [
        "نشون میده یه سری مقادیر غیر قابل قبوله برای شارژ ماهیانه چون حتی از مجموع هم بالاتره"
      ]
    },
    {
      "cell_type": "code",
      "execution_count": 73,
      "metadata": {
        "id": "75JCGXivxTmv"
      },
      "outputs": [],
      "source": [
        "MonthlyCharges_list = [each.MonthlyCharges for each in df.select('MonthlyCharges').filter(~col('MonthlyCharges').isNull()).collect()]"
      ]
    },
    {
      "cell_type": "code",
      "execution_count": 74,
      "metadata": {
        "colab": {
          "base_uri": "https://localhost:8080/",
          "height": 0
        },
        "id": "uX8xpbOwxdT9",
        "outputId": "6e3fd3a6-a9f2-4ced-e2d0-56f96c469906"
      },
      "outputs": [
        {
          "output_type": "execute_result",
          "data": {
            "text/plain": [
              "{'boxes': [<matplotlib.lines.Line2D at 0x7fc3146afd10>],\n",
              " 'caps': [<matplotlib.lines.Line2D at 0x7fc3145f9a10>,\n",
              "  <matplotlib.lines.Line2D at 0x7fc314548b90>],\n",
              " 'fliers': [<matplotlib.lines.Line2D at 0x7fc3145b3e10>],\n",
              " 'means': [],\n",
              " 'medians': [<matplotlib.lines.Line2D at 0x7fc3145de310>],\n",
              " 'whiskers': [<matplotlib.lines.Line2D at 0x7fc31465c9d0>,\n",
              "  <matplotlib.lines.Line2D at 0x7fc3146223d0>]}"
            ]
          },
          "metadata": {},
          "execution_count": 74
        },
        {
          "output_type": "display_data",
          "data": {
            "text/plain": [
              "<Figure size 432x288 with 1 Axes>"
            ],
            "image/png": "[encoded data removed]"
          },
          "metadata": {
            "needs_background": "light"
          }
        }
      ],
      "source": [
        "plt.boxplot(MonthlyCharges_list)"
      ]
    },
    {
      "cell_type": "code",
      "execution_count": 75,
      "metadata": {
        "colab": {
          "base_uri": "https://localhost:8080/"
        },
        "id": "TTPEdQrqxtLJ",
        "outputId": "5baf1f97-d0fa-4e48-b38c-2bded60f7149"
      },
      "outputs": [
        {
          "output_type": "execute_result",
          "data": {
            "text/plain": [
              "(18.25, 14990.0)"
            ]
          },
          "metadata": {},
          "execution_count": 75
        }
      ],
      "source": [
        "min(MonthlyCharges_list), max(MonthlyCharges_list)"
      ]
    },
    {
      "cell_type": "code",
      "execution_count": 76,
      "metadata": {
        "colab": {
          "base_uri": "https://localhost:8080/",
          "height": 0
        },
        "id": "ISdS2_D_xkiM",
        "outputId": "3dead9ce-46d6-4c8d-f1d0-c6f83e076eb7"
      },
      "outputs": [
        {
          "output_type": "execute_result",
          "data": {
            "text/plain": [
              "(array([7.578e+03, 0.000e+00, 4.000e+00, 7.000e+00, 6.000e+00]),\n",
              " array([   18.25,  3012.6 ,  6006.95,  9001.3 , 11995.65, 14990.  ]),\n",
              " <a list of 5 Patch objects>)"
            ]
          },
          "metadata": {},
          "execution_count": 76
        },
        {
          "output_type": "display_data",
          "data": {
            "text/plain": [
              "<Figure size 432x288 with 1 Axes>"
            ],
            "image/png": "[encoded data removed]"
          },
          "metadata": {
            "needs_background": "light"
          }
        }
      ],
      "source": [
        "plt.hist(MonthlyCharges_list, bins=5)"
      ]
    },
    {
      "cell_type": "code",
      "execution_count": 77,
      "metadata": {
        "id": "WHwWcvUYyCZy"
      },
      "outputs": [],
      "source": [
        "TotalCharges_list = [each.TotalCharges for each in df.select('TotalCharges').filter(~col('TotalCharges').isNull()).collect()]"
      ]
    },
    {
      "cell_type": "code",
      "execution_count": 78,
      "metadata": {
        "colab": {
          "base_uri": "https://localhost:8080/",
          "height": 0
        },
        "id": "B3tWGuZMyNi5",
        "outputId": "2a3af3db-9c4c-45f9-b694-b5593462e88f"
      },
      "outputs": [
        {
          "output_type": "execute_result",
          "data": {
            "text/plain": [
              "{'boxes': [<matplotlib.lines.Line2D at 0x7fc314390bd0>],\n",
              " 'caps': [<matplotlib.lines.Line2D at 0x7fc314417bd0>,\n",
              "  <matplotlib.lines.Line2D at 0x7fc314422190>],\n",
              " 'fliers': [<matplotlib.lines.Line2D at 0x7fc314422c50>],\n",
              " 'means': [],\n",
              " 'medians': [<matplotlib.lines.Line2D at 0x7fc314422710>],\n",
              " 'whiskers': [<matplotlib.lines.Line2D at 0x7fc314417150>,\n",
              "  <matplotlib.lines.Line2D at 0x7fc314417690>]}"
            ]
          },
          "metadata": {},
          "execution_count": 78
        },
        {
          "output_type": "display_data",
          "data": {
            "text/plain": [
              "<Figure size 432x288 with 1 Axes>"
            ],
            "image/png": "[encoded data removed]"
          },
          "metadata": {
            "needs_background": "light"
          }
        }
      ],
      "source": [
        "plt.boxplot(TotalCharges_list)"
      ]
    },
    {
      "cell_type": "code",
      "execution_count": 79,
      "metadata": {
        "colab": {
          "base_uri": "https://localhost:8080/",
          "height": 0
        },
        "id": "iAMYh9YeyQr7",
        "outputId": "6fe147ee-de47-4bcf-8d15-5eb96c80846d"
      },
      "outputs": [
        {
          "output_type": "execute_result",
          "data": {
            "text/plain": [
              "(array([4190., 1376.,  934.,  742.,  345.]),\n",
              " array([  18.8, 1752. , 3485.2, 5218.4, 6951.6, 8684.8]),\n",
              " <a list of 5 Patch objects>)"
            ]
          },
          "metadata": {},
          "execution_count": 79
        },
        {
          "output_type": "display_data",
          "data": {
            "text/plain": [
              "<Figure size 432x288 with 1 Axes>"
            ],
            "image/png": "[encoded data removed]"
          },
          "metadata": {
            "needs_background": "light"
          }
        }
      ],
      "source": [
        "plt.hist(TotalCharges_list, bins=5)"
      ]
    },
    {
      "cell_type": "code",
      "execution_count": 80,
      "metadata": {
        "id": "SGcBETwcI2Nn"
      },
      "outputs": [],
      "source": [
        "condition = ((~col('TotalCharges').isNull())&(~col('MonthlyCharges').isNull())&(~col('tenure').isNull())&((~col('Label').isNull()))&\n",
        "             (col('MonthlyCharges')<1000) & (col('tenure')>0))"
      ]
    },
    {
      "cell_type": "code",
      "execution_count": 81,
      "metadata": {
        "id": "nEIvYCazJeWR"
      },
      "outputs": [],
      "source": [
        "tenure_list = [each.tenure for each in df.select('tenure').filter(condition).collect()]\n",
        "MonthlyCharges_list = [each.MonthlyCharges for each in df.select('MonthlyCharges').filter(condition).collect()]\n",
        "TotalCharges_list = [each.TotalCharges for each in df.select('TotalCharges').filter(condition).collect()]\n",
        "label_list = [each.Label for each in df.select('Label').filter(condition).collect()]"
      ]
    },
    {
      "cell_type": "code",
      "execution_count": 82,
      "metadata": {
        "colab": {
          "base_uri": "https://localhost:8080/",
          "height": 0
        },
        "id": "VQKW798VJ1gL",
        "outputId": "3f73e6be-e90a-446d-c523-a875fcc7bccf"
      },
      "outputs": [
        {
          "output_type": "execute_result",
          "data": {
            "text/plain": [
              "<matplotlib.collections.PathCollection at 0x7fc3143d2c90>"
            ]
          },
          "metadata": {},
          "execution_count": 82
        },
        {
          "output_type": "display_data",
          "data": {
            "text/plain": [
              "<Figure size 432x288 with 1 Axes>"
            ],
            "image/png": "[encoded data removed]"
          },
          "metadata": {
            "needs_background": "light"
          }
        }
      ],
      "source": [
        "colors = {'No': 'red', \"Yes\": 'yellow'}\n",
        "# plt.figure(figsize=(20, 10))\n",
        "plt.scatter(MonthlyCharges_list, TotalCharges_list, c=[colors[x] for x in label_list])"
      ]
    },
    {
      "cell_type": "markdown",
      "metadata": {
        "id": "cRbCtENVPtWp"
      },
      "source": [
        "تقریبا رو یک خط راست قرار گرفته اگه دقیقا از فرمول پیروی کنه میشه توتال چارچ رو حذف کرد چون اطلاعاتی که میده تقریبا یکیه"
      ]
    },
    {
      "cell_type": "code",
      "execution_count": 83,
      "metadata": {
        "colab": {
          "base_uri": "https://localhost:8080/",
          "height": 0
        },
        "id": "PzLnVzi_KgNb",
        "outputId": "684c7180-f9ae-4dd6-ba59-1c73ea783996"
      },
      "outputs": [
        {
          "output_type": "execute_result",
          "data": {
            "text/plain": [
              "<matplotlib.collections.PathCollection at 0x7fc3142e6d10>"
            ]
          },
          "metadata": {},
          "execution_count": 83
        },
        {
          "output_type": "display_data",
          "data": {
            "text/plain": [
              "<Figure size 432x288 with 1 Axes>"
            ],
            "image/png": "[encoded data removed]"
          },
          "metadata": {
            "needs_background": "light"
          }
        }
      ],
      "source": [
        "plt.scatter([x*y for x, y in zip(MonthlyCharges_list, tenure_list)], TotalCharges_list, c=[colors[x] for x in label_list])"
      ]
    },
    {
      "cell_type": "code",
      "execution_count": 84,
      "metadata": {
        "colab": {
          "base_uri": "https://localhost:8080/"
        },
        "id": "57pvOXdeQfNl",
        "outputId": "1d682bd2-14d0-4a28-f340-79c1586f15c1"
      },
      "outputs": [
        {
          "output_type": "execute_result",
          "data": {
            "text/plain": [
              "611"
            ]
          },
          "metadata": {},
          "execution_count": 84
        }
      ],
      "source": [
        "line_condition = (col('tenure')*col('MonthlyCharges')==col('TotalCharges'))\n",
        "df.filter(condition & line_condition).count()"
      ]
    },
    {
      "cell_type": "markdown",
      "metadata": {
        "id": "_gyf-HbpRCuk"
      },
      "source": [
        "طبق نتایج دقیقا برابر نیست که نشون میده می‌تونه تغییراتی شارژ ماهیانه در ماه‌های مختلف داشته باشه ولی مقادیر نال رو تقریبا میشه با این قانون پر کرد و بقیه موارد رو با میانگین"
      ]
    },
    {
      "cell_type": "code",
      "execution_count": 85,
      "metadata": {
        "colab": {
          "base_uri": "https://localhost:8080/"
        },
        "id": "kmaByUX7Q7HG",
        "outputId": "0e8020e3-aac1-49ad-c26e-d105da3d8717"
      },
      "outputs": [
        {
          "output_type": "execute_result",
          "data": {
            "text/plain": [
              "6590"
            ]
          },
          "metadata": {},
          "execution_count": 85
        }
      ],
      "source": [
        "df.filter(condition & (~line_condition)).count()"
      ]
    },
    {
      "cell_type": "code",
      "execution_count": 86,
      "metadata": {
        "colab": {
          "base_uri": "https://localhost:8080/"
        },
        "id": "rceMev7CRaOz",
        "outputId": "128d01d2-76c9-4a3c-8b9e-78141d71478d"
      },
      "outputs": [
        {
          "output_type": "execute_result",
          "data": {
            "text/plain": [
              "15"
            ]
          },
          "metadata": {},
          "execution_count": 86
        }
      ],
      "source": [
        "condition = ((col('TotalCharges').isNull())&(col('MonthlyCharges').isNull())&(col('tenure').isNull()))\n",
        "df.filter(condition).count()"
      ]
    },
    {
      "cell_type": "markdown",
      "metadata": {
        "id": "TFfdWNrmdEpI"
      },
      "source": [
        "##relation between PaperlessBilling and PaymentMethod"
      ]
    },
    {
      "cell_type": "markdown",
      "metadata": {
        "id": "7qwYGscBdhG0"
      },
      "source": [
        "حدس: فقط برای میل چک ستون دیگر حالت خیر دارد. حدس رد شد اما فقط توی حالت میلدچک هست که بیشتر مقدار نه هستش بقیه موارد توی حالت یس قرار دارند"
      ]
    },
    {
      "cell_type": "code",
      "execution_count": 87,
      "metadata": {
        "id": "4gum50U1dQza",
        "colab": {
          "base_uri": "https://localhost:8080/"
        },
        "outputId": "b1d640d1-6438-476a-f225-22d2f7664d30"
      },
      "outputs": [
        {
          "output_type": "stream",
          "name": "stdout",
          "text": [
            "+--------------------+----------------+-----+\n",
            "|       PaymentMethod|PaperlessBilling|count|\n",
            "+--------------------+----------------+-----+\n",
            "|Credit card (auto...|            null|   31|\n",
            "|                null|            null|   84|\n",
            "|Credit card (auto...|              No|  642|\n",
            "|        Mailed check|            null|   23|\n",
            "|Bank transfer (au...|              No|  702|\n",
            "|        Mailed check|             Yes|  663|\n",
            "|Bank transfer (au...|            null|   48|\n",
            "|Credit card (auto...|             Yes|  960|\n",
            "|                null|              No|   40|\n",
            "|                null|             Yes|  122|\n",
            "|    Electronic check|              No|  625|\n",
            "|    Electronic check|             Yes| 1885|\n",
            "|Bank transfer (au...|             Yes|  927|\n",
            "|    Electronic check|            null|   71|\n",
            "|        Mailed check|              No| 1015|\n",
            "+--------------------+----------------+-----+\n",
            "\n"
          ]
        }
      ],
      "source": [
        "df.select(['PaymentMethod', 'PaperlessBilling']).groupBy(['PaymentMethod', 'PaperlessBilling']).count().show()"
      ]
    },
    {
      "cell_type": "code",
      "execution_count": 88,
      "metadata": {
        "id": "DPipcNpmdurR",
        "colab": {
          "base_uri": "https://localhost:8080/"
        },
        "outputId": "f935b4e2-4911-43ea-fc5e-41bd3d1f2f0e"
      },
      "outputs": [
        {
          "output_type": "stream",
          "name": "stdout",
          "text": [
            "+--------------------+-----+\n",
            "|       PaymentMethod|count|\n",
            "+--------------------+-----+\n",
            "|Credit card (auto...| 1633|\n",
            "|                null|  246|\n",
            "|        Mailed check| 1701|\n",
            "|Bank transfer (au...| 1677|\n",
            "|    Electronic check| 2581|\n",
            "+--------------------+-----+\n",
            "\n"
          ]
        }
      ],
      "source": [
        "df.select('PaymentMethod').groupBy('PaymentMethod').count().show()"
      ]
    },
    {
      "cell_type": "markdown",
      "source": [
        "بیشتر ترک نکردند "
      ],
      "metadata": {
        "id": "OHTgDy-l9gTU"
      }
    },
    {
      "cell_type": "code",
      "source": [
        "df.select(['PaymentMethod', 'Label']).groupBy(['PaymentMethod', 'Label']).count().show()"
      ],
      "metadata": {
        "id": "4R_WTRoO9C8h",
        "colab": {
          "base_uri": "https://localhost:8080/"
        },
        "outputId": "abe0b7a3-29c1-4c17-fa1f-7ce75e5d33cb"
      },
      "execution_count": 89,
      "outputs": [
        {
          "output_type": "stream",
          "name": "stdout",
          "text": [
            "+--------------------+-----+-----+\n",
            "|       PaymentMethod|Label|count|\n",
            "+--------------------+-----+-----+\n",
            "|Credit card (auto...| null|   22|\n",
            "|                null| null|   65|\n",
            "|Credit card (auto...|   No| 1367|\n",
            "|        Mailed check| null|   28|\n",
            "|Bank transfer (au...|   No| 1379|\n",
            "|        Mailed check|  Yes|  308|\n",
            "|Bank transfer (au...| null|   40|\n",
            "|Credit card (auto...|  Yes|  244|\n",
            "|                null|   No|  152|\n",
            "|                null|  Yes|   29|\n",
            "|    Electronic check|   No| 1418|\n",
            "|    Electronic check|  Yes| 1110|\n",
            "|Bank transfer (au...|  Yes|  258|\n",
            "|    Electronic check| null|   53|\n",
            "|        Mailed check|   No| 1365|\n",
            "+--------------------+-----+-----+\n",
            "\n"
          ]
        }
      ]
    },
    {
      "cell_type": "code",
      "execution_count": 90,
      "metadata": {
        "id": "gRcvdXoXe0Nx",
        "colab": {
          "base_uri": "https://localhost:8080/"
        },
        "outputId": "f133959e-a485-4a92-b6b0-efffbac3d32c"
      },
      "outputs": [
        {
          "output_type": "stream",
          "name": "stdout",
          "text": [
            "+----------------+-----+\n",
            "|PaperlessBilling|count|\n",
            "+----------------+-----+\n",
            "|            null|  257|\n",
            "|              No| 3024|\n",
            "|             Yes| 4557|\n",
            "+----------------+-----+\n",
            "\n"
          ]
        }
      ],
      "source": [
        "df.select('PaperlessBilling').groupBy('PaperlessBilling').count().show()"
      ]
    },
    {
      "cell_type": "markdown",
      "source": [
        "بیشتر افراد پیپر لس بیل داشتند"
      ],
      "metadata": {
        "id": "Atjbw5r5-BBx"
      }
    },
    {
      "cell_type": "code",
      "source": [
        "df.select(['PaperlessBilling', 'Label']).groupBy(['PaperlessBilling', 'Label']).count().show()"
      ],
      "metadata": {
        "id": "pOjBnoP591Tp",
        "colab": {
          "base_uri": "https://localhost:8080/"
        },
        "outputId": "7585a49b-3991-4d11-842a-b7603ec1e893"
      },
      "execution_count": 91,
      "outputs": [
        {
          "output_type": "stream",
          "name": "stdout",
          "text": [
            "+----------------+-----+-----+\n",
            "|PaperlessBilling|Label|count|\n",
            "+----------------+-----+-----+\n",
            "|             Yes|  Yes| 1451|\n",
            "|            null| null|   66|\n",
            "|              No|   No| 2510|\n",
            "|             Yes|   No| 3007|\n",
            "|            null|   No|  164|\n",
            "|              No| null|   43|\n",
            "|            null|  Yes|   27|\n",
            "|             Yes| null|   99|\n",
            "|              No|  Yes|  471|\n",
            "+----------------+-----+-----+\n",
            "\n"
          ]
        }
      ]
    },
    {
      "cell_type": "markdown",
      "metadata": {
        "id": "LpgZPVusfsvx"
      },
      "source": [
        "## relation between PaymentMethod and Contract"
      ]
    },
    {
      "cell_type": "markdown",
      "metadata": {
        "id": "TLWhyUXSgKNl"
      },
      "source": [
        "طبق نتایج زیر:\n",
        "\n",
        "*   بیشتر در حالت پرداخت با الکترونیک چک و میل چک ماه به ماه قرار داد هستش\n",
        "*   برای باقی حالت‌ها قرارداد بیشتر دو ساله ست\n",
        "*   توی حالت قرار داد یکساله  کریدت کارت و دوساله بانک ترانسفر بیشترین و توی حالت ماه به ماه الکرونیک چک بالاترین تعداد رو داره\n",
        "\n"
      ]
    },
    {
      "cell_type": "code",
      "execution_count": 92,
      "metadata": {
        "colab": {
          "base_uri": "https://localhost:8080/"
        },
        "id": "OQ_wnJSif0kC",
        "outputId": "71e76683-dfe4-414c-a9ac-63c49391b6f6"
      },
      "outputs": [
        {
          "output_type": "stream",
          "name": "stdout",
          "text": [
            "+--------------------+--------------+-----+\n",
            "|       PaymentMethod|      Contract|count|\n",
            "+--------------------+--------------+-----+\n",
            "|Credit card (auto...|          null|   32|\n",
            "|        Mailed check|      One year|  336|\n",
            "|                null|Month-to-month|   59|\n",
            "|        Mailed check|      Two year|  439|\n",
            "|                null|          null|   70|\n",
            "|                null|      One year|   24|\n",
            "|        Mailed check|          null|   23|\n",
            "|Bank transfer (au...|      One year|  393|\n",
            "|Bank transfer (au...|Month-to-month|  597|\n",
            "|                null|      Two year|   93|\n",
            "|Bank transfer (au...|          null|   44|\n",
            "|Bank transfer (au...|      Two year|  643|\n",
            "|    Electronic check|      Two year|  214|\n",
            "|Credit card (auto...|      One year|  429|\n",
            "|Credit card (auto...|      Two year|  602|\n",
            "|    Electronic check|          null|   61|\n",
            "|        Mailed check|Month-to-month|  903|\n",
            "|    Electronic check|Month-to-month| 1923|\n",
            "|Credit card (auto...|Month-to-month|  570|\n",
            "|    Electronic check|      One year|  383|\n",
            "+--------------------+--------------+-----+\n",
            "\n"
          ]
        }
      ],
      "source": [
        "df.select(['PaymentMethod', 'Contract']).groupBy(['PaymentMethod', 'Contract']).count().show()"
      ]
    },
    {
      "cell_type": "markdown",
      "metadata": {
        "id": "Ib7Ly4TD1Dwl"
      },
      "source": [
        "#data preprocess and feature engineering"
      ]
    },
    {
      "cell_type": "markdown",
      "metadata": {
        "id": "P4CdcatayVTg"
      },
      "source": [
        "##missing value and outlier handling"
      ]
    },
    {
      "cell_type": "markdown",
      "metadata": {
        "id": "oFg10ofm5C_2"
      },
      "source": [
        "###customerID and handle some null values based on this column"
      ]
    },
    {
      "cell_type": "markdown",
      "metadata": {
        "id": "83TvXg405agl"
      },
      "source": [
        "تعداد مقادیر نال در این ستون"
      ]
    },
    {
      "cell_type": "code",
      "execution_count": 93,
      "metadata": {
        "colab": {
          "base_uri": "https://localhost:8080/"
        },
        "id": "jFIKe2OC5G55",
        "outputId": "cb4bcacd-c3c3-4ea3-e975-4e5fb36faa09"
      },
      "outputs": [
        {
          "output_type": "stream",
          "name": "stdout",
          "text": [
            "+----------+\n",
            "|customerID|\n",
            "+----------+\n",
            "|       253|\n",
            "+----------+\n",
            "\n"
          ]
        }
      ],
      "source": [
        "df.select(count(when(isnan(\"customerID\") | col(\"customerID\").isNull(), \"customerID\")).alias('customerID')).show()"
      ]
    },
    {
      "cell_type": "markdown",
      "metadata": {
        "id": "6aS63jFo4bLt"
      },
      "source": [
        "چون یکمی غیرعادی است که آیدی یا شناسه نال باشد چند ستون از آن چک می‌شود"
      ]
    },
    {
      "cell_type": "markdown",
      "metadata": {
        "id": "11lP5OIA5791"
      },
      "source": [
        "مقادیر نال با مقدار دیگری پر نمی‌شود زیرا این ستون در انتها برای آموزش مدل حذف خواهد شد زیرا مدل براساس پارامترها تصمیم میگیرد برای برچسب دهی و این ستون شناسه ی مشتری می‌باشد "
      ]
    },
    {
      "cell_type": "code",
      "execution_count": 94,
      "metadata": {
        "colab": {
          "base_uri": "https://localhost:8080/"
        },
        "id": "Uza_gP1W28XV",
        "outputId": "affbe1e9-1949-4b23-8b29-ba8836b5fc97"
      },
      "outputs": [
        {
          "output_type": "stream",
          "name": "stdout",
          "text": [
            "+----------+------+-------------+-------+----------+------+------------+----------------+---------------+-------------------+-------------------+-------------------+-------------------+-------------------+-------------------+--------------+----------------+--------------------+--------------+------------+-----+\n",
            "|customerID|gender|SeniorCitizen|Partner|Dependents|tenure|PhoneService|   MultipleLines|InternetService|     OnlineSecurity|       OnlineBackup|   DeviceProtection|        TechSupport|        StreamingTV|    StreamingMovies|      Contract|PaperlessBilling|       PaymentMethod|MonthlyCharges|TotalCharges|Label|\n",
            "+----------+------+-------------+-------+----------+------+------------+----------------+---------------+-------------------+-------------------+-------------------+-------------------+-------------------+-------------------+--------------+----------------+--------------------+--------------+------------+-----+\n",
            "|      null|  null|          0.0|   null|       Yes|  64.0|         Yes|            null|             No|No internet service|No internet service|               null|               null|No internet service|No internet service|      Two year|            null|                null|          null|     1277.75| null|\n",
            "|      null|Female|          0.0|     No|        No|  36.0|          No|No phone service|            DSL|                Yes|               null|                 No|                 No|                 No|               null|      Two year|            null|Bank transfer (au...|          null|     1126.35|   No|\n",
            "|      null|Female|          0.0|   null|       Yes|  64.0|         Yes|              No|             No|               null|No internet service|No internet service|No internet service|               null|No internet service|      Two year|              No|        Mailed check|          20.2|        null| null|\n",
            "|      null|Female|         null|     No|        No|  null|          No|            null|            DSL|                Yes|               null|                 No|                 No|               null|               null|          null|            null|                null|         31.05|     1126.35| null|\n",
            "|      null|Female|          0.0|    Yes|       Yes|  null|         Yes|              No|             No|No internet service|No internet service|No internet service|No internet service|No internet service|No internet service|      Two year|              No|        Mailed check|          20.2|     1277.75|   No|\n",
            "|      null|  null|          0.0|     No|        No|  67.0|         Yes|              No|            DSL|                 No|               null|               null|                Yes|                 No|                 No|      Two year|            null|                null|         50.55|      3260.1|   No|\n",
            "|      null|  null|         null|     No|        No|  null|         Yes|              No|    Fiber optic|                Yes|                 No|                 No|                Yes|                Yes|                 No|      Two year|             Yes|    Electronic check|         88.95|     3027.65|   No|\n",
            "|      null|Female|          0.0|   null|      null|  56.0|         Yes|             Yes|           null|               null|                 No|               null|                 No|                Yes|                Yes|      One year|             Yes|Credit card (auto...|          null|        null| null|\n",
            "|      null|  null|         null|   null|        No|  43.0|        null|             Yes|             No|No internet service|               null|No internet service|               null|No internet service|No internet service|          null|             Yes|Credit card (auto...|          null|        null|   No|\n",
            "|      null|  Male|          0.0|     No|      null|  null|         Yes|            null|            DSL|                 No|                 No|               null|                Yes|                 No|               null|      Two year|            null|                null|         50.55|      3260.1| null|\n",
            "|      null|  Male|          0.0|     No|      null|  67.0|        null|              No|            DSL|                 No|                 No|                 No|               null|                 No|                 No|      Two year|            null|Bank transfer (au...|         50.55|        null|   No|\n",
            "|      null|Female|          0.0|     No|        No|  36.0|          No|            null|            DSL|                Yes|                 No|                 No|               null|                 No|               null|      Two year|              No|Bank transfer (au...|          null|     1126.35|   No|\n",
            "|      null|  Male|         null|     No|        No|  71.0|        null|            null|           null|                Yes|                Yes|                 No|               null|                Yes|                Yes|      One year|             Yes|    Electronic check|          null|        null|   No|\n",
            "|      null|Female|          0.0|    Yes|      null|  10.0|        null|             Yes|    Fiber optic|                Yes|                 No|                 No|                 No|                Yes|               null|          null|            null|                null|        100.25|        null|  Yes|\n",
            "|      null|Female|          1.0|    Yes|        No|  37.0|        null|            null|    Fiber optic|               null|                 No|                 No|               null|                 No|               null|Month-to-month|             Yes|    Electronic check|          76.5|        null|  Yes|\n",
            "|      null|Female|          0.0|     No|      null|  36.0|          No|            null|           null|               null|               null|               null|                 No|               null|               null|          null|              No|                null|         31.05|     1126.35|   No|\n",
            "|      null|  Male|         null|     No|      null|  57.0|         Yes|              No|             No|No internet service|               null|No internet service|No internet service|No internet service|               null|      Two year|            null|                null|          null|        null|   No|\n",
            "|      null|  Male|         null|   null|        No|  72.0|        null|            null|             No|               null|No internet service|No internet service|No internet service|No internet service|               null|      Two year|             Yes|Bank transfer (au...|         23.55|     1723.95| null|\n",
            "|      null|  null|          0.0|    Yes|      null|  64.0|         Yes|              No|             No|No internet service|               null|No internet service|No internet service|               null|No internet service|      Two year|            null|        Mailed check|          20.2|     1277.75|   No|\n",
            "|      null|Female|          0.0|   null|       Yes|  null|         Yes|              No|             No|No internet service|No internet service|               null|No internet service|No internet service|No internet service|      Two year|              No|        Mailed check|          20.2|     1277.75|   No|\n",
            "+----------+------+-------------+-------+----------+------+------------+----------------+---------------+-------------------+-------------------+-------------------+-------------------+-------------------+-------------------+--------------+----------------+--------------------+--------------+------------+-----+\n",
            "only showing top 20 rows\n",
            "\n"
          ]
        }
      ],
      "source": [
        "df.filter(col('customerID').isNull()).show()"
      ]
    },
    {
      "cell_type": "markdown",
      "metadata": {
        "id": "jjvPsn-AucQ0"
      },
      "source": [
        "بررسی یونیک بودن شناسه:<br/>\n",
        "طبق نتایج زیر شناسه‌ها یونیک نیستند و نشان‌دهنده‌ی این است که اطلاعات یک مشتری ممکن است در سطر‌های مختلف وجود داشته باشد."
      ]
    },
    {
      "cell_type": "code",
      "execution_count": 95,
      "metadata": {
        "colab": {
          "base_uri": "https://localhost:8080/"
        },
        "id": "cJeePCYftNxU",
        "outputId": "83369421-fce9-4cbf-c2b6-8b087ae9fd39"
      },
      "outputs": [
        {
          "output_type": "execute_result",
          "data": {
            "text/plain": [
              "23"
            ]
          },
          "metadata": {},
          "execution_count": 95
        }
      ],
      "source": [
        "df.select('customerID').groupBy('customerID').count().filter(col('count')>1).count()"
      ]
    },
    {
      "cell_type": "code",
      "execution_count": 96,
      "metadata": {
        "id": "lIDMFH4juD35",
        "colab": {
          "base_uri": "https://localhost:8080/"
        },
        "outputId": "dcd88a23-334f-495a-8bf9-95590fc65378"
      },
      "outputs": [
        {
          "output_type": "stream",
          "name": "stdout",
          "text": [
            "+----------+\n",
            "|sum(count)|\n",
            "+----------+\n",
            "|       795|\n",
            "+----------+\n",
            "\n"
          ]
        }
      ],
      "source": [
        "df.select('customerID').groupBy('customerID').count().filter(col('count')>1).agg({'count': 'sum'}).show()"
      ]
    },
    {
      "cell_type": "code",
      "execution_count": 97,
      "metadata": {
        "id": "xfQfCIxxyuqN",
        "colab": {
          "base_uri": "https://localhost:8080/"
        },
        "outputId": "94081a4b-983b-4cc7-c455-eae53504e969"
      },
      "outputs": [
        {
          "output_type": "stream",
          "name": "stdout",
          "text": [
            "+--------------+-----+\n",
            "|    customerID|count|\n",
            "+--------------+-----+\n",
            "|2928-HLDBAcsas|    4|\n",
            "|3774-VBNXYcsas|   43|\n",
            "|6217-KDYWCcsas|   17|\n",
            "|8402-OOOHJcsas|   29|\n",
            "|6497-TILVLcsas|    5|\n",
            "|9445-ZUEQEcsas|   16|\n",
            "|2876-GZYZCcsas|   11|\n",
            "|2639-UGMAZcsas|   40|\n",
            "|1091-SOZGAcsas|   38|\n",
            "|5712-AHQNNcsas|   29|\n",
            "|6734-PSBAWcsas|   54|\n",
            "|6207-WIOLXcsas|   16|\n",
            "|7799-LGRDPcsas|   35|\n",
            "|4412-YLTKFcsas|   19|\n",
            "|9560-BBZXKcsas|   19|\n",
            "|7850-VWJUUcsas|   18|\n",
            "|4622-YNKIJcsas|   22|\n",
            "|8587-XYZSFcsas|   44|\n",
            "|7219-TLZHOcsas|    3|\n",
            "|4846-WHAFZcsas|   24|\n",
            "+--------------+-----+\n",
            "only showing top 20 rows\n",
            "\n"
          ]
        }
      ],
      "source": [
        "df.filter(col('customerID').isNotNull()).select('customerID').groupBy('customerID').count().filter(col('count')>1).show()"
      ]
    },
    {
      "cell_type": "markdown",
      "metadata": {
        "id": "5UxcqDFJzlx-"
      },
      "source": [
        "به نظر میرسه بعضی از آیتم ها یکی هستند ولی بعضی از موارد آن دستکاری شده و تبدیل به نال شده است پس با مرج این داده‌ها سطر کامل‌تری برای یک هویت درست می‌شود"
      ]
    },
    {
      "cell_type": "code",
      "execution_count": 98,
      "metadata": {
        "id": "2dlwj8DfaIJ-",
        "colab": {
          "base_uri": "https://localhost:8080/"
        },
        "outputId": "90fc28f9-b98d-4e7c-c41d-17ddb94f709f"
      },
      "outputs": [
        {
          "output_type": "stream",
          "name": "stdout",
          "text": [
            "+--------------+------+-------------+-------+----------+------+------------+-------------+---------------+-------------------+-------------------+-------------------+-------------------+-------------------+-------------------+--------------+----------------+-------------+--------------+------------+-----+\n",
            "|    customerID|gender|SeniorCitizen|Partner|Dependents|tenure|PhoneService|MultipleLines|InternetService|     OnlineSecurity|       OnlineBackup|   DeviceProtection|        TechSupport|        StreamingTV|    StreamingMovies|      Contract|PaperlessBilling|PaymentMethod|MonthlyCharges|TotalCharges|Label|\n",
            "+--------------+------+-------------+-------+----------+------+------------+-------------+---------------+-------------------+-------------------+-------------------+-------------------+-------------------+-------------------+--------------+----------------+-------------+--------------+------------+-----+\n",
            "|2928-HLDBAcsas|  null|          0.0|     No|      null|   6.0|        null|           No|             No|No internet service|No internet service|               null|No internet service|No internet service|No internet service|Month-to-month|              No|         null|          20.7|      112.75|   No|\n",
            "|2928-HLDBAcsas|Female|         null|   null|        No|   6.0|         Yes|           No|             No|No internet service|No internet service|No internet service|No internet service|No internet service|No internet service|Month-to-month|              No| Mailed check|          20.7|        null|   No|\n",
            "|2928-HLDBAcsas|Female|         null|     No|      null|   6.0|        null|           No|             No|No internet service|No internet service|No internet service|No internet service|               null|No internet service|Month-to-month|              No| Mailed check|          null|      112.75|   No|\n",
            "|2928-HLDBAcsas|  null|          0.0|   null|        No|   6.0|         Yes|           No|             No|No internet service|No internet service|               null|               null|No internet service|No internet service|Month-to-month|              No|         null|          20.7|      112.75|   No|\n",
            "+--------------+------+-------------+-------+----------+------+------------+-------------+---------------+-------------------+-------------------+-------------------+-------------------+-------------------+-------------------+--------------+----------------+-------------+--------------+------------+-----+\n",
            "\n"
          ]
        }
      ],
      "source": [
        "df.filter(col('customerID')=='2928-HLDBAcsas').show()"
      ]
    },
    {
      "cell_type": "code",
      "source": [
        "df.select('SeniorCitizen').groupBy('SeniorCitizen').count().show()"
      ],
      "metadata": {
        "id": "_rS-SuNUU-hw",
        "colab": {
          "base_uri": "https://localhost:8080/"
        },
        "outputId": "29fe33dc-45af-470b-fd46-6966e4dd99b1"
      },
      "execution_count": 99,
      "outputs": [
        {
          "output_type": "stream",
          "name": "stdout",
          "text": [
            "+-------------+-----+\n",
            "|SeniorCitizen|count|\n",
            "+-------------+-----+\n",
            "|          0.0| 6331|\n",
            "|         null|  266|\n",
            "|          1.0| 1232|\n",
            "|         14.0|    8|\n",
            "|         17.0|    1|\n",
            "+-------------+-----+\n",
            "\n"
          ]
        }
      ]
    },
    {
      "cell_type": "code",
      "execution_count": 100,
      "metadata": {
        "id": "oBjqL5Wyafq7"
      },
      "outputs": [],
      "source": [
        "df_min_null = df.filter(col('customerID').isNotNull()).groupBy('customerID').agg({column: 'max' for column in df.columns if column != 'customerID'})"
      ]
    },
    {
      "cell_type": "code",
      "execution_count": 101,
      "metadata": {
        "id": "8I7fFWIhfUy3",
        "colab": {
          "base_uri": "https://localhost:8080/"
        },
        "outputId": "54541ef3-a9a1-4f3b-c6e3-85a03428031d"
      },
      "outputs": [
        {
          "output_type": "execute_result",
          "data": {
            "text/plain": [
              "[('max(gender)', 'gender'),\n",
              " ('max(SeniorCitizen)', 'SeniorCitizen'),\n",
              " ('max(Partner)', 'Partner'),\n",
              " ('max(Dependents)', 'Dependents'),\n",
              " ('max(tenure)', 'tenure'),\n",
              " ('max(PhoneService)', 'PhoneService'),\n",
              " ('max(MultipleLines)', 'MultipleLines'),\n",
              " ('max(InternetService)', 'InternetService'),\n",
              " ('max(OnlineSecurity)', 'OnlineSecurity'),\n",
              " ('max(OnlineBackup)', 'OnlineBackup'),\n",
              " ('max(DeviceProtection)', 'DeviceProtection'),\n",
              " ('max(TechSupport)', 'TechSupport'),\n",
              " ('max(StreamingTV)', 'StreamingTV'),\n",
              " ('max(StreamingMovies)', 'StreamingMovies'),\n",
              " ('max(Contract)', 'Contract'),\n",
              " ('max(PaperlessBilling)', 'PaperlessBilling'),\n",
              " ('max(PaymentMethod)', 'PaymentMethod'),\n",
              " ('max(MonthlyCharges)', 'MonthlyCharges'),\n",
              " ('max(TotalCharges)', 'TotalCharges'),\n",
              " ('max(Label)', 'Label')]"
            ]
          },
          "metadata": {},
          "execution_count": 101
        }
      ],
      "source": [
        "name_cols = [(f'max({column})', column) for column in df.columns if column != 'customerID']\n",
        "name_cols"
      ]
    },
    {
      "cell_type": "code",
      "execution_count": 102,
      "metadata": {
        "id": "z9Q1S30DebHK"
      },
      "outputs": [],
      "source": [
        "df_min_null = reduce(lambda df_min_null, idx: df_min_null.withColumnRenamed(name_cols[idx][0], name_cols[idx][1]), range(len(name_cols)), df_min_null)"
      ]
    },
    {
      "cell_type": "code",
      "execution_count": 103,
      "metadata": {
        "id": "6DO33JcegnwR",
        "colab": {
          "base_uri": "https://localhost:8080/"
        },
        "outputId": "bab68c09-0319-4690-87dd-8f9f2f3a1201"
      },
      "outputs": [
        {
          "output_type": "execute_result",
          "data": {
            "text/plain": [
              "['customerID',\n",
              " 'DeviceProtection',\n",
              " 'Partner',\n",
              " 'TechSupport',\n",
              " 'StreamingTV',\n",
              " 'PhoneService',\n",
              " 'Contract',\n",
              " 'tenure',\n",
              " 'InternetService',\n",
              " 'SeniorCitizen',\n",
              " 'PaperlessBilling',\n",
              " 'MonthlyCharges',\n",
              " 'OnlineBackup',\n",
              " 'Label',\n",
              " 'TotalCharges',\n",
              " 'OnlineSecurity',\n",
              " 'MultipleLines',\n",
              " 'StreamingMovies',\n",
              " 'Dependents',\n",
              " 'PaymentMethod',\n",
              " 'gender']"
            ]
          },
          "metadata": {},
          "execution_count": 103
        }
      ],
      "source": [
        "df_min_null.columns"
      ]
    },
    {
      "cell_type": "code",
      "source": [
        "df.columns"
      ],
      "metadata": {
        "id": "muDBIQ2qZVgv",
        "colab": {
          "base_uri": "https://localhost:8080/"
        },
        "outputId": "47e29bc0-0559-4774-83c8-aa225bc2a4f9"
      },
      "execution_count": 104,
      "outputs": [
        {
          "output_type": "execute_result",
          "data": {
            "text/plain": [
              "['customerID',\n",
              " 'gender',\n",
              " 'SeniorCitizen',\n",
              " 'Partner',\n",
              " 'Dependents',\n",
              " 'tenure',\n",
              " 'PhoneService',\n",
              " 'MultipleLines',\n",
              " 'InternetService',\n",
              " 'OnlineSecurity',\n",
              " 'OnlineBackup',\n",
              " 'DeviceProtection',\n",
              " 'TechSupport',\n",
              " 'StreamingTV',\n",
              " 'StreamingMovies',\n",
              " 'Contract',\n",
              " 'PaperlessBilling',\n",
              " 'PaymentMethod',\n",
              " 'MonthlyCharges',\n",
              " 'TotalCharges',\n",
              " 'Label']"
            ]
          },
          "metadata": {},
          "execution_count": 104
        }
      ]
    },
    {
      "cell_type": "markdown",
      "source": [
        "این مجموعه بدست آمده باید با مواردی که شناسه افراد نال بودند جوین بشه تا داده کامل تری رو بده"
      ],
      "metadata": {
        "id": "JDpTWYzzAKFr"
      }
    },
    {
      "cell_type": "code",
      "source": [
        "df_min_null = df_min_null.unionByName(df.filter(col('customerID').isNull()))"
      ],
      "metadata": {
        "id": "iu8NlN3IAWKD"
      },
      "execution_count": 105,
      "outputs": []
    },
    {
      "cell_type": "code",
      "execution_count": 106,
      "metadata": {
        "id": "8Efxx_fxg7hs",
        "colab": {
          "base_uri": "https://localhost:8080/"
        },
        "outputId": "7fb3c662-b785-4f13-ba91-b7306496e08f"
      },
      "outputs": [
        {
          "output_type": "stream",
          "name": "stdout",
          "text": [
            "+----------+----------------+-------+-----------+-----------+------------+--------+------+---------------+-------------+----------------+--------------+------------+-----+------------+--------------+-------------+---------------+----------+-------------+------+\n",
            "|customerID|DeviceProtection|Partner|TechSupport|StreamingTV|PhoneService|Contract|tenure|InternetService|SeniorCitizen|PaperlessBilling|MonthlyCharges|OnlineBackup|Label|TotalCharges|OnlineSecurity|MultipleLines|StreamingMovies|Dependents|PaymentMethod|gender|\n",
            "+----------+----------------+-------+-----------+-----------+------------+--------+------+---------------+-------------+----------------+--------------+------------+-----+------------+--------------+-------------+---------------+----------+-------------+------+\n",
            "|       253|              75|     80|         83|         85|          85|      76|    82|             65|           89|              85|            76|          69|   60|          83|            69|           83|             69|        78|           68|    64|\n",
            "+----------+----------------+-------+-----------+-----------+------------+--------+------+---------------+-------------+----------------+--------------+------------+-----+------------+--------------+-------------+---------------+----------+-------------+------+\n",
            "\n"
          ]
        }
      ],
      "source": [
        "df_min_null.select([count(when(isnan(c) | col(c).isNull(), c)).alias(c) for c in df_min_null.columns]).show()"
      ]
    },
    {
      "cell_type": "code",
      "execution_count": 107,
      "metadata": {
        "id": "wTF-xPn-j6jK",
        "colab": {
          "base_uri": "https://localhost:8080/"
        },
        "outputId": "3fcba4c5-4365-4172-df9b-eeb1e939a2c6"
      },
      "outputs": [
        {
          "output_type": "execute_result",
          "data": {
            "text/plain": [
              "7318"
            ]
          },
          "metadata": {},
          "execution_count": 107
        }
      ],
      "source": [
        "df_min_null.count()"
      ]
    },
    {
      "cell_type": "code",
      "execution_count": 108,
      "metadata": {
        "id": "z6oZoHKtYLTy",
        "colab": {
          "base_uri": "https://localhost:8080/"
        },
        "outputId": "8d1b7bef-682a-4bba-9d7a-10198b25fa7d"
      },
      "outputs": [
        {
          "output_type": "stream",
          "name": "stdout",
          "text": [
            "+----------+-----+\n",
            "|customerID|count|\n",
            "+----------+-----+\n",
            "|      null|  253|\n",
            "+----------+-----+\n",
            "\n"
          ]
        }
      ],
      "source": [
        "df_min_null.select('customerID').groupBy('customerID').count().filter(col('count')>1).show()"
      ]
    },
    {
      "cell_type": "code",
      "source": [
        "df = spark.createDataFrame(df_min_null.take(df_min_null.count()))\n",
        "df.count()"
      ],
      "metadata": {
        "id": "gAbmMJ6YDqXO",
        "colab": {
          "base_uri": "https://localhost:8080/"
        },
        "outputId": "94d3ded5-e8b5-437d-9ec2-071bcd758589"
      },
      "execution_count": 109,
      "outputs": [
        {
          "output_type": "execute_result",
          "data": {
            "text/plain": [
              "7318"
            ]
          },
          "metadata": {},
          "execution_count": 109
        }
      ]
    },
    {
      "cell_type": "markdown",
      "metadata": {
        "id": "4P1aoyVK6Gnf"
      },
      "source": [
        "###gender"
      ]
    },
    {
      "cell_type": "code",
      "execution_count": 110,
      "metadata": {
        "colab": {
          "base_uri": "https://localhost:8080/"
        },
        "id": "oDW9OpTc6TFE",
        "outputId": "37c33689-5e4f-40fe-ee27-4da01b4f3a55"
      },
      "outputs": [
        {
          "output_type": "execute_result",
          "data": {
            "text/plain": [
              "[Row(gender='Female'), Row(gender='Male'), Row(gender=None)]"
            ]
          },
          "metadata": {},
          "execution_count": 110
        }
      ],
      "source": [
        "df.select('gender').distinct().collect()"
      ]
    },
    {
      "cell_type": "code",
      "execution_count": 111,
      "metadata": {
        "colab": {
          "base_uri": "https://localhost:8080/"
        },
        "id": "nRpYDHxr6pz6",
        "outputId": "362e479a-d54e-4270-f59a-a40cc81c7c79"
      },
      "outputs": [
        {
          "output_type": "stream",
          "name": "stdout",
          "text": [
            "+------+-----+\n",
            "|gender|count|\n",
            "+------+-----+\n",
            "|Female| 3617|\n",
            "|  Male| 3637|\n",
            "|  null|   64|\n",
            "+------+-----+\n",
            "\n"
          ]
        }
      ],
      "source": [
        "df.groupBy('gender').count().show()"
      ]
    },
    {
      "cell_type": "code",
      "execution_count": 112,
      "metadata": {
        "colab": {
          "base_uri": "https://localhost:8080/",
          "height": 0
        },
        "id": "AQmgo83l_aew",
        "outputId": "c1b5348d-c724-4817-f0ef-92cc47a58b47"
      },
      "outputs": [
        {
          "output_type": "execute_result",
          "data": {
            "text/plain": [
              "'Male'"
            ],
            "application/vnd.google.colaboratory.intrinsic+json": {
              "type": "string"
            }
          },
          "metadata": {},
          "execution_count": 112
        }
      ],
      "source": [
        "mode_gender = df.groupBy('gender').count().agg({'count': 'max'}).join(df.groupBy('gender').count()).filter(col('max(count)')==col('count'))\n",
        "mode_gender = mode_gender.select('gender').collect()[0].gender\n",
        "mode_gender"
      ]
    },
    {
      "cell_type": "code",
      "execution_count": 113,
      "metadata": {
        "id": "oHlmEqzhAU0y"
      },
      "outputs": [],
      "source": [
        "df = df.fillna(mode_gender, subset=[\"gender\"])"
      ]
    },
    {
      "cell_type": "markdown",
      "metadata": {
        "id": "A5jUPqGRYnsj"
      },
      "source": [
        "###SeniorCitizen"
      ]
    },
    {
      "cell_type": "code",
      "execution_count": 114,
      "metadata": {
        "colab": {
          "base_uri": "https://localhost:8080/"
        },
        "id": "xLjm3D1EYv6u",
        "outputId": "84651577-ef2a-479f-cc8f-d4bf4d72593a"
      },
      "outputs": [
        {
          "output_type": "stream",
          "name": "stdout",
          "text": [
            "+-------------+-----+\n",
            "|SeniorCitizen|count|\n",
            "+-------------+-----+\n",
            "|          0.0| 6043|\n",
            "|         null|   89|\n",
            "|          1.0| 1177|\n",
            "|         14.0|    8|\n",
            "|         17.0|    1|\n",
            "+-------------+-----+\n",
            "\n"
          ]
        }
      ],
      "source": [
        "df.select('SeniorCitizen').groupBy('SeniorCitizen').count().show()"
      ]
    },
    {
      "cell_type": "code",
      "execution_count": 115,
      "metadata": {
        "id": "fUaaJqydZCxL"
      },
      "outputs": [],
      "source": [
        "df = df.withColumn(\"SeniorCitizen\", when((df.SeniorCitizen == 17.0) | (df.SeniorCitizen == 14.0), None).otherwise(col('SeniorCitizen')))"
      ]
    },
    {
      "cell_type": "code",
      "execution_count": 116,
      "metadata": {
        "id": "iVTj4OXfYpx5"
      },
      "outputs": [],
      "source": [
        "# df = df.fillna(0, subset=[\"SeniorCitizen\"])\n",
        "df = df.withColumn(\"SeniorCitizen\", when(isnan(\"SeniorCitizen\") | col(\"SeniorCitizen\").isNull(), 0.0).otherwise(col('SeniorCitizen')))"
      ]
    },
    {
      "cell_type": "code",
      "execution_count": 117,
      "metadata": {
        "colab": {
          "base_uri": "https://localhost:8080/"
        },
        "id": "ga1v-bAuZaOw",
        "outputId": "84fecf31-96bb-4d58-e9ef-618a5cd2462c"
      },
      "outputs": [
        {
          "output_type": "stream",
          "name": "stdout",
          "text": [
            "+-------------+-----+\n",
            "|SeniorCitizen|count|\n",
            "+-------------+-----+\n",
            "|          0.0| 6141|\n",
            "|          1.0| 1177|\n",
            "+-------------+-----+\n",
            "\n"
          ]
        }
      ],
      "source": [
        "df.select('SeniorCitizen').groupBy('SeniorCitizen').count().show()"
      ]
    },
    {
      "cell_type": "markdown",
      "metadata": {
        "id": "0ofEHuTuob3O"
      },
      "source": [
        "###Partner"
      ]
    },
    {
      "cell_type": "code",
      "execution_count": 118,
      "metadata": {
        "id": "kSBQSL7YodV6"
      },
      "outputs": [],
      "source": [
        "df = df.withColumn(\"Partner\", when((isnan(\"Partner\") | col(\"Partner\").isNull()) & (df.Dependents == \"Yes\"), \"Yes\").otherwise(col('Partner')))"
      ]
    },
    {
      "cell_type": "code",
      "source": [
        "df = df.withColumn(\"Partner\", when((isnan(\"Partner\") | col(\"Partner\").isNull()) & (df.Label == \"Yes\"), \"No\").otherwise(col('Partner')))\n",
        "df = df.withColumn(\"Partner\", when((isnan(\"Partner\") | col(\"Partner\").isNull()) & (df.Label == \"No\"), \"Yes\").otherwise(col('Partner')))"
      ],
      "metadata": {
        "id": "Cc3shfHufEEy"
      },
      "execution_count": 119,
      "outputs": []
    },
    {
      "cell_type": "code",
      "execution_count": 120,
      "metadata": {
        "colab": {
          "base_uri": "https://localhost:8080/"
        },
        "id": "UJju5CECo4iT",
        "outputId": "e8ae11f9-d3d6-489e-d947-aacd7650ac56"
      },
      "outputs": [
        {
          "output_type": "stream",
          "name": "stdout",
          "text": [
            "+-------+-----+\n",
            "|Partner|count|\n",
            "+-------+-----+\n",
            "|     No| 3766|\n",
            "|    Yes| 3536|\n",
            "|   null|   16|\n",
            "+-------+-----+\n",
            "\n"
          ]
        }
      ],
      "source": [
        "df.select('Partner').groupBy(\"Partner\").count().show()"
      ]
    },
    {
      "cell_type": "code",
      "execution_count": 121,
      "metadata": {
        "id": "YuJhEX2OpL2y"
      },
      "outputs": [],
      "source": [
        "df = df.fillna('No', ['Partner'])"
      ]
    },
    {
      "cell_type": "markdown",
      "metadata": {
        "id": "Dw4TJziGpaUY"
      },
      "source": [
        "###Dependents"
      ]
    },
    {
      "cell_type": "code",
      "execution_count": 122,
      "metadata": {
        "colab": {
          "base_uri": "https://localhost:8080/"
        },
        "id": "kdOu77APpcxv",
        "outputId": "50cfbf52-0d51-436f-dcfe-6571806d43eb"
      },
      "outputs": [
        {
          "output_type": "stream",
          "name": "stdout",
          "text": [
            "+----------+-----+\n",
            "|Dependents|count|\n",
            "+----------+-----+\n",
            "|      null|   78|\n",
            "|        No| 5068|\n",
            "|       Yes| 2172|\n",
            "+----------+-----+\n",
            "\n"
          ]
        }
      ],
      "source": [
        "df.select('Dependents').groupBy(\"Dependents\").count().show()"
      ]
    },
    {
      "cell_type": "code",
      "execution_count": 123,
      "metadata": {
        "id": "k6lFcVX-pkz2"
      },
      "outputs": [],
      "source": [
        "df = df.fillna('No', ['Dependents'])"
      ]
    },
    {
      "cell_type": "code",
      "source": [
        "df.select('Dependents').groupBy(\"Dependents\").count().show()"
      ],
      "metadata": {
        "colab": {
          "base_uri": "https://localhost:8080/"
        },
        "id": "YXVO0l20f5cd",
        "outputId": "046c1300-439d-424c-9bf8-775c0d2ffa71"
      },
      "execution_count": 124,
      "outputs": [
        {
          "output_type": "stream",
          "name": "stdout",
          "text": [
            "+----------+-----+\n",
            "|Dependents|count|\n",
            "+----------+-----+\n",
            "|        No| 5146|\n",
            "|       Yes| 2172|\n",
            "+----------+-----+\n",
            "\n"
          ]
        }
      ]
    },
    {
      "cell_type": "markdown",
      "metadata": {
        "id": "BMJzYRjFo6MW"
      },
      "source": [
        "###PhoneService"
      ]
    },
    {
      "cell_type": "code",
      "source": [
        "df.groupBy('PhoneService').count().show()"
      ],
      "metadata": {
        "colab": {
          "base_uri": "https://localhost:8080/"
        },
        "id": "43TqW87ogMpi",
        "outputId": "009677de-ef5c-42e5-ac6d-0492b4501fcb"
      },
      "execution_count": 125,
      "outputs": [
        {
          "output_type": "stream",
          "name": "stdout",
          "text": [
            "+------------+-----+\n",
            "|PhoneService|count|\n",
            "+------------+-----+\n",
            "|        null|   85|\n",
            "|          No|  737|\n",
            "|         Yes| 6496|\n",
            "+------------+-----+\n",
            "\n"
          ]
        }
      ]
    },
    {
      "cell_type": "code",
      "execution_count": 126,
      "metadata": {
        "id": "5kH1a9leo8JT"
      },
      "outputs": [],
      "source": [
        "df = df.withColumn(\"PhoneService\", when((isnan(\"PhoneService\") | col(\"PhoneService\").isNull()) & (df.MultipleLines == \"No phone service\"), \"No\").otherwise(col('PhoneService')))"
      ]
    },
    {
      "cell_type": "code",
      "execution_count": 127,
      "metadata": {
        "id": "OXDKgB2Rq1yI"
      },
      "outputs": [],
      "source": [
        "df = df.withColumn(\"PhoneService\", when((isnan(\"PhoneService\") | col(\"PhoneService\").isNull()) & (df.InternetService == \"No\"), \"Yes\").otherwise(col('PhoneService')))"
      ]
    },
    {
      "cell_type": "code",
      "execution_count": 128,
      "metadata": {
        "colab": {
          "base_uri": "https://localhost:8080/"
        },
        "id": "Somptbjdpua9",
        "outputId": "76cee1aa-188f-43fb-f7f1-24cc021e5e05"
      },
      "outputs": [
        {
          "output_type": "stream",
          "name": "stdout",
          "text": [
            "+------------+-----+\n",
            "|PhoneService|count|\n",
            "+------------+-----+\n",
            "|        null|   58|\n",
            "|          No|  751|\n",
            "|         Yes| 6509|\n",
            "+------------+-----+\n",
            "\n"
          ]
        }
      ],
      "source": [
        "df.groupBy('PhoneService').count().show()"
      ]
    },
    {
      "cell_type": "code",
      "execution_count": 129,
      "metadata": {
        "id": "T_GQ6ztIrQiR"
      },
      "outputs": [],
      "source": [
        "df = df.fillna(\"Yes\", subset=[\"PhoneService\"])"
      ]
    },
    {
      "cell_type": "markdown",
      "metadata": {
        "id": "uJ7hBRELrcdY"
      },
      "source": [
        "###MultipleLines"
      ]
    },
    {
      "cell_type": "code",
      "source": [
        "df.groupBy('MultipleLines').count().show()"
      ],
      "metadata": {
        "colab": {
          "base_uri": "https://localhost:8080/"
        },
        "id": "KfGdoZybgqLm",
        "outputId": "b09c12e4-5b17-4aad-c996-75852605735d"
      },
      "execution_count": 130,
      "outputs": [
        {
          "output_type": "stream",
          "name": "stdout",
          "text": [
            "+----------------+-----+\n",
            "|   MultipleLines|count|\n",
            "+----------------+-----+\n",
            "|No phone service|  733|\n",
            "|            null|   83|\n",
            "|              No| 3470|\n",
            "|             Yes| 3032|\n",
            "+----------------+-----+\n",
            "\n"
          ]
        }
      ]
    },
    {
      "cell_type": "markdown",
      "source": [
        "براساس رابطه با فون سرویس"
      ],
      "metadata": {
        "id": "E5Wzh2sfg-KV"
      }
    },
    {
      "cell_type": "code",
      "execution_count": 131,
      "metadata": {
        "id": "Xu9mih05rfVJ"
      },
      "outputs": [],
      "source": [
        "df = df.withColumn(\"MultipleLines\", when((df.PhoneService == 'No'), \"No phone service\").otherwise(col('MultipleLines')))"
      ]
    },
    {
      "cell_type": "markdown",
      "source": [
        "براساس رابطه با لیبل"
      ],
      "metadata": {
        "id": "csuavsebhCur"
      }
    },
    {
      "cell_type": "code",
      "source": [
        "df = df.withColumn(\"MultipleLines\", when((df.Label == 'Yes'), \"Yes\").otherwise(col('MultipleLines')))\n",
        "df = df.withColumn(\"MultipleLines\", when((df.Label == 'No'), \"No\").otherwise(col('MultipleLines')))"
      ],
      "metadata": {
        "id": "t435I0Sjgvm2"
      },
      "execution_count": 132,
      "outputs": []
    },
    {
      "cell_type": "code",
      "execution_count": 133,
      "metadata": {
        "colab": {
          "base_uri": "https://localhost:8080/"
        },
        "id": "xFr6NtVUr1-a",
        "outputId": "68d78a31-1c16-461c-9f9a-ce1b5bfd6da1"
      },
      "outputs": [
        {
          "output_type": "stream",
          "name": "stdout",
          "text": [
            "+----------------+-----+\n",
            "|   MultipleLines|count|\n",
            "+----------------+-----+\n",
            "|              No| 5367|\n",
            "|             Yes| 1916|\n",
            "|No phone service|   18|\n",
            "|            null|   17|\n",
            "+----------------+-----+\n",
            "\n"
          ]
        }
      ],
      "source": [
        "df.groupBy('MultipleLines').count().show()"
      ]
    },
    {
      "cell_type": "markdown",
      "source": [
        "بقیه نال‌ها بااستفاده از مد پر می‌شوند"
      ],
      "metadata": {
        "id": "YxbhazRIhL-L"
      }
    },
    {
      "cell_type": "code",
      "execution_count": 134,
      "metadata": {
        "id": "HL1VJSygsP3W"
      },
      "outputs": [],
      "source": [
        "df = df.fillna(\"No\", subset=[\"MultipleLines\"])"
      ]
    },
    {
      "cell_type": "markdown",
      "metadata": {
        "id": "HgTEd0kUviMy"
      },
      "source": [
        " برای افرادی که تلفن سرویس ندارند نیز نه در نظر گرفته می‌شود زیرا این اطلاع در ستون دیگر وجود دارد."
      ]
    },
    {
      "cell_type": "code",
      "execution_count": 135,
      "metadata": {
        "id": "aHqDZVR_vZ_e"
      },
      "outputs": [],
      "source": [
        "df = df.withColumn(\"MultipleLines\", when(df[\"MultipleLines\"] == 'No phone service', 'No').otherwise(col('MultipleLines')))"
      ]
    },
    {
      "cell_type": "markdown",
      "metadata": {
        "id": "JzqAbK98v3Ci"
      },
      "source": [
        "###InternetService"
      ]
    },
    {
      "cell_type": "markdown",
      "source": [
        "پر کردن نال‌هایی که باید مقدار نه باشند نسبت به ستون‌های مربوط به اینترنت سرویس"
      ],
      "metadata": {
        "id": "jWPu4MM8htC-"
      }
    },
    {
      "cell_type": "code",
      "execution_count": 136,
      "metadata": {
        "id": "VmzSR49NwZgQ"
      },
      "outputs": [],
      "source": [
        "condition_no = ((df.OnlineSecurity == \"No internet service\")|\n",
        "                (df.OnlineBackup == \"No internet service\")|\n",
        "                (df.DeviceProtection == \"No internet service\")|\n",
        "                (df.TechSupport == \"No internet service\")|\n",
        "                (df.StreamingTV == \"No internet service\")|\n",
        "                (df.StreamingMovies == \"No internet service\"))"
      ]
    },
    {
      "cell_type": "code",
      "execution_count": 137,
      "metadata": {
        "id": "Uf9VKDwkv2Qv"
      },
      "outputs": [],
      "source": [
        "df = df.withColumn(\"InternetService\", when((isnan(\"InternetService\") | col(\"InternetService\").isNull()) & condition_no, \"No\").otherwise(col('InternetService')))"
      ]
    },
    {
      "cell_type": "markdown",
      "source": [
        "براساس رابطه با فون سرویس"
      ],
      "metadata": {
        "id": "5tcF02kmhqVG"
      }
    },
    {
      "cell_type": "code",
      "execution_count": 138,
      "metadata": {
        "id": "ye3T1azKxTfk"
      },
      "outputs": [],
      "source": [
        "df = df.withColumn(\"InternetService\", when((isnan(\"InternetService\") | col(\"InternetService\").isNull()) & (df.PhoneService == \"No\"), \"DSL\").otherwise(col('InternetService')))"
      ]
    },
    {
      "cell_type": "markdown",
      "source": [
        "براساس رابطه با برچسب"
      ],
      "metadata": {
        "id": "cpE2EWl5iqIx"
      }
    },
    {
      "cell_type": "code",
      "source": [
        "df = df.withColumn(\"InternetService\", when((isnan(\"InternetService\") | col(\"InternetService\").isNull()) & (df.Label == \"Yes\"), \"Fiber optic\").otherwise(col('InternetService')))\n",
        "df = df.withColumn(\"InternetService\", when((isnan(\"InternetService\") | col(\"InternetService\").isNull()) & (df.Label == \"No\"), \"DSL\").otherwise(col('InternetService')))"
      ],
      "metadata": {
        "id": "KMki0Tg3icvq"
      },
      "execution_count": 139,
      "outputs": []
    },
    {
      "cell_type": "markdown",
      "source": [
        "براساس رابطه با تک ساپورت"
      ],
      "metadata": {
        "id": "DbRPhqlTlYsj"
      }
    },
    {
      "cell_type": "code",
      "source": [
        "df = df.withColumn(\"InternetService\", when((isnan(\"InternetService\") | col(\"InternetService\").isNull()) & (df.TechSupport == \"Yes\"), \"DSL\").otherwise(col('InternetService')))\n",
        "df = df.withColumn(\"InternetService\", when((isnan(\"InternetService\") | col(\"InternetService\").isNull()) & (df.TechSupport == \"No\"), \"Fiber optic\").otherwise(col('InternetService')))"
      ],
      "metadata": {
        "id": "SwBkmDZfk1UP"
      },
      "execution_count": 140,
      "outputs": []
    },
    {
      "cell_type": "code",
      "execution_count": 141,
      "metadata": {
        "colab": {
          "base_uri": "https://localhost:8080/"
        },
        "id": "7-5DKX3NxAu-",
        "outputId": "77eaf4b2-2fa1-4b53-a00e-e3327cf8e123"
      },
      "outputs": [
        {
          "output_type": "stream",
          "name": "stdout",
          "text": [
            "+---------------+-----+\n",
            "|InternetService|count|\n",
            "+---------------+-----+\n",
            "|    Fiber optic| 3185|\n",
            "|             No| 1593|\n",
            "|            DSL| 2539|\n",
            "|           null|    1|\n",
            "+---------------+-----+\n",
            "\n"
          ]
        }
      ],
      "source": [
        "df.groupBy('InternetService').count().show()"
      ]
    },
    {
      "cell_type": "markdown",
      "source": [
        "بقیه مقادیر نال با مد پر می‌شود"
      ],
      "metadata": {
        "id": "x8XOmhy_iyg-"
      }
    },
    {
      "cell_type": "code",
      "execution_count": 142,
      "metadata": {
        "id": "WXsFw4PbxP2_"
      },
      "outputs": [],
      "source": [
        "df = df.fillna(\"Fiber optic\", subset=[\"InternetService\"])"
      ]
    },
    {
      "cell_type": "code",
      "execution_count": 143,
      "metadata": {
        "colab": {
          "base_uri": "https://localhost:8080/"
        },
        "id": "RZCwKDN0xp8w",
        "outputId": "d1aee31c-685f-42a0-e50d-ce04ca22a4a8"
      },
      "outputs": [
        {
          "output_type": "stream",
          "name": "stdout",
          "text": [
            "+---------------+-----+\n",
            "|InternetService|count|\n",
            "+---------------+-----+\n",
            "|    Fiber optic| 3186|\n",
            "|             No| 1593|\n",
            "|            DSL| 2539|\n",
            "+---------------+-----+\n",
            "\n"
          ]
        }
      ],
      "source": [
        "df.groupBy('InternetService').count().show()"
      ]
    },
    {
      "cell_type": "markdown",
      "source": [
        "این سلول برای انجام شدن ترانسفورهای قبلی در پای اسپارک می‌باشد. طبق اجرا‌های متعدد بالا رفتن تعداد ترانسفورهای که قرار است انجام شود باعث افزایش بیش از حد حافظه مصرفی و زمان اجرا می‌شود. خط زیر باعث کاهش حافظه‌ی مصرفی می‌شود."
      ],
      "metadata": {
        "id": "lHtkUx-4q5AG"
      }
    },
    {
      "cell_type": "code",
      "source": [
        "df = spark.createDataFrame(df.take(df.count()))"
      ],
      "metadata": {
        "id": "ET4nDjGq-gIg"
      },
      "execution_count": 144,
      "outputs": []
    },
    {
      "cell_type": "markdown",
      "metadata": {
        "id": "DABKKW6ixtWQ"
      },
      "source": [
        "###TechSupport"
      ]
    },
    {
      "cell_type": "markdown",
      "source": [
        "مقداری که نال هستند و باید با مقدار نداشتن اینترنت سرویس پر شوند "
      ],
      "metadata": {
        "id": "nYE79Pq4l0U5"
      }
    },
    {
      "cell_type": "code",
      "execution_count": 145,
      "metadata": {
        "id": "l5rQ-dOTyVOo"
      },
      "outputs": [],
      "source": [
        "df = df.withColumn(\"TechSupport\", when((isnan(\"TechSupport\") | col(\"TechSupport\").isNull()) & (df.InternetService == \"No\"), \"No internet service\").otherwise(col('TechSupport')))"
      ]
    },
    {
      "cell_type": "code",
      "execution_count": 146,
      "metadata": {
        "colab": {
          "base_uri": "https://localhost:8080/"
        },
        "id": "4u9oAG93z9Lm",
        "outputId": "6b3bf444-c482-4517-e95d-92083e926ffa"
      },
      "outputs": [
        {
          "output_type": "stream",
          "name": "stdout",
          "text": [
            "+-------------------+-----+\n",
            "|        TechSupport|count|\n",
            "+-------------------+-----+\n",
            "|               null|   62|\n",
            "|                 No| 3580|\n",
            "|                Yes| 2083|\n",
            "|No internet service| 1593|\n",
            "+-------------------+-----+\n",
            "\n"
          ]
        }
      ],
      "source": [
        "df.groupBy('TechSupport').count().show()"
      ]
    },
    {
      "cell_type": "markdown",
      "source": [
        "با مد پر می‌شود"
      ],
      "metadata": {
        "id": "wdywkv86l_XJ"
      }
    },
    {
      "cell_type": "code",
      "source": [
        "df = df.fillna('No', ['TechSupport'])"
      ],
      "metadata": {
        "id": "F5XB_5Szlndp"
      },
      "execution_count": 147,
      "outputs": []
    },
    {
      "cell_type": "markdown",
      "source": [
        "مقادیری نشان دهنده‌ی نداشتن اینترنت سرویس است با نه پر می‌شوند زیرا این اطلاعات در ستون دیگر است"
      ],
      "metadata": {
        "id": "0XSDwyKHmGHQ"
      }
    },
    {
      "cell_type": "code",
      "execution_count": 148,
      "metadata": {
        "id": "KNnx6xz40QdU"
      },
      "outputs": [],
      "source": [
        "df = df.withColumn(\"TechSupport\", when(df[\"TechSupport\"] == 'No internet service', 'No').otherwise(col('TechSupport')))"
      ]
    },
    {
      "cell_type": "code",
      "source": [
        "#to decrease memory usage\n",
        "df = spark.createDataFrame(df.take(df.count()))"
      ],
      "metadata": {
        "id": "gc8HtzzE-omF"
      },
      "execution_count": 149,
      "outputs": []
    },
    {
      "cell_type": "markdown",
      "metadata": {
        "id": "dUVfC6-D1QOY"
      },
      "source": [
        "###OnlineSecurity"
      ]
    },
    {
      "cell_type": "code",
      "execution_count": 150,
      "metadata": {
        "id": "SJyhHEJvO6sc"
      },
      "outputs": [],
      "source": [
        "df = df.withColumn(\"OnlineSecurity\", when((isnan(\"OnlineSecurity\") | col(\"OnlineSecurity\").isNull()) & (df.InternetService == \"No\"), \"No internet service\").otherwise(col('OnlineSecurity')))"
      ]
    },
    {
      "cell_type": "code",
      "execution_count": 151,
      "metadata": {
        "colab": {
          "base_uri": "https://localhost:8080/"
        },
        "id": "gQ4FtDeBPja-",
        "outputId": "cfc1f291-363a-469d-bfad-00cd81b9f9c0"
      },
      "outputs": [
        {
          "output_type": "stream",
          "name": "stdout",
          "text": [
            "+-------------------+-----+\n",
            "|     OnlineSecurity|count|\n",
            "+-------------------+-----+\n",
            "|               null|   53|\n",
            "|                 No| 3591|\n",
            "|                Yes| 2081|\n",
            "|No internet service| 1593|\n",
            "+-------------------+-----+\n",
            "\n"
          ]
        }
      ],
      "source": [
        "df.groupBy('OnlineSecurity').count().show()"
      ]
    },
    {
      "cell_type": "markdown",
      "source": [
        "با مد پر می‌شود"
      ],
      "metadata": {
        "id": "_18OEn7TmqUm"
      }
    },
    {
      "cell_type": "code",
      "source": [
        "df = df.fillna('No', ['OnlineSecurity'])"
      ],
      "metadata": {
        "id": "TG3ahxx8mjT_"
      },
      "execution_count": 152,
      "outputs": []
    },
    {
      "cell_type": "markdown",
      "source": [
        "مقادیری نشان دهنده‌ی نداشتن اینترنت سرویس است با نه پر می‌شوند زیرا این اطلاعات در ستون دیگر است"
      ],
      "metadata": {
        "id": "8uXlBePsm0JO"
      }
    },
    {
      "cell_type": "code",
      "execution_count": 153,
      "metadata": {
        "id": "NOkzUX8-PmSP"
      },
      "outputs": [],
      "source": [
        "df = df.withColumn(\"OnlineSecurity\", when(df[\"OnlineSecurity\"] == 'No internet service', 'No').otherwise(col('OnlineSecurity')))"
      ]
    },
    {
      "cell_type": "markdown",
      "metadata": {
        "id": "yHvPOo0bP1U2"
      },
      "source": [
        "###OnlineBackup"
      ]
    },
    {
      "cell_type": "code",
      "execution_count": 154,
      "metadata": {
        "id": "9TbhmCTnP4Tx"
      },
      "outputs": [],
      "source": [
        "df = df.withColumn(\"OnlineBackup\", when((isnan(\"OnlineBackup\") | col(\"OnlineBackup\").isNull()) & (df.InternetService == \"No\"), \"No internet service\").otherwise(col('OnlineBackup')))"
      ]
    },
    {
      "cell_type": "markdown",
      "source": [
        "براساس رابطه با برچسب و امنیت"
      ],
      "metadata": {
        "id": "N-iGrM4zzGJc"
      }
    },
    {
      "cell_type": "code",
      "source": [
        "df = df.withColumn(\"OnlineBackup\", when((isnan(\"OnlineBackup\") | col(\"OnlineBackup\").isNull()) & ((df.Label == \"Yes\") | (df.OnlineSecurity == \"No\")), \"No\").\\\n",
        "                   when((isnan(\"OnlineBackup\") | col(\"OnlineBackup\").isNull()) & ((df.Label == \"No\")|(df.OnlineSecurity == \"Yes\")), \"Yes\").otherwise(col('OnlineBackup')))"
      ],
      "metadata": {
        "id": "nWB2LZp4ywYD"
      },
      "execution_count": 155,
      "outputs": []
    },
    {
      "cell_type": "code",
      "source": [
        "df.groupBy('OnlineBackup').count().show()"
      ],
      "metadata": {
        "colab": {
          "base_uri": "https://localhost:8080/"
        },
        "id": "2dxIVqCN6qha",
        "outputId": "fc5134ab-55da-438b-e037-6aa54a5e2b32"
      },
      "execution_count": 156,
      "outputs": [
        {
          "output_type": "stream",
          "name": "stdout",
          "text": [
            "+-------------------+-----+\n",
            "|       OnlineBackup|count|\n",
            "+-------------------+-----+\n",
            "|                 No| 3210|\n",
            "|                Yes| 2515|\n",
            "|No internet service| 1593|\n",
            "+-------------------+-----+\n",
            "\n"
          ]
        }
      ]
    },
    {
      "cell_type": "markdown",
      "source": [
        "اگر نال‌ها تموم نشده باشن می‌توان از رابطه‌های دیگر و مد استفاده کرد"
      ],
      "metadata": {
        "id": "M5b2iZr8zuKi"
      }
    },
    {
      "cell_type": "code",
      "source": [
        "# df = df.withColumn(\"OnlineBackup\", when((isnan(\"OnlineBackup\") | col(\"OnlineBackup\").isNull()) & (df.DeviceProtection == \"Yes\"), \"Yes\").otherwise(col('OnlineBackup')))\n",
        "# df = df.withColumn(\"OnlineBackup\", when((isnan(\"OnlineBackup\") | col(\"OnlineBackup\").isNull()) & (df.DeviceProtection == \"No\"), \"No\").otherwise(col('OnlineBackup')))"
      ],
      "metadata": {
        "id": "5wtMgTXSzn6-"
      },
      "execution_count": 157,
      "outputs": []
    },
    {
      "cell_type": "code",
      "execution_count": 158,
      "metadata": {
        "id": "CWR9nl-2QOx1"
      },
      "outputs": [],
      "source": [
        "# df = df.fillna(\"Yes\", subset=[\"OnlineBackup\"])"
      ]
    },
    {
      "cell_type": "markdown",
      "source": [
        "مقادیری نشان دهنده‌ی نداشتن اینترنت سرویس است با نه پر می‌شوند زیرا این اطلاعات در ستون دیگر در دسترس است"
      ],
      "metadata": {
        "id": "KTkWi5Ms0Aut"
      }
    },
    {
      "cell_type": "code",
      "execution_count": 159,
      "metadata": {
        "id": "0fjpRAEXQcQy"
      },
      "outputs": [],
      "source": [
        "df = df.withColumn(\"OnlineBackup\", when(df[\"OnlineBackup\"] == 'No internet service', 'No').otherwise(col('OnlineBackup')))"
      ]
    },
    {
      "cell_type": "code",
      "source": [
        "#to decrease memory usage\n",
        "df = spark.createDataFrame(df.take(df.count()))"
      ],
      "metadata": {
        "id": "YjUs6K-08tHk"
      },
      "execution_count": 160,
      "outputs": []
    },
    {
      "cell_type": "markdown",
      "metadata": {
        "id": "yZSlmBRPQgEs"
      },
      "source": [
        "###DeviceProtection"
      ]
    },
    {
      "cell_type": "code",
      "execution_count": 161,
      "metadata": {
        "id": "nenyBV1HQjY1"
      },
      "outputs": [],
      "source": [
        "df = df.withColumn(\"DeviceProtection\", when((isnan(\"DeviceProtection\") | col(\"DeviceProtection\").isNull()) & (df.InternetService == \"No\"), \"No internet service\").otherwise(col('DeviceProtection')))"
      ]
    },
    {
      "cell_type": "markdown",
      "source": [
        "براساس رابطه با امنیت"
      ],
      "metadata": {
        "id": "aR0yr2Ok0_94"
      }
    },
    {
      "cell_type": "code",
      "source": [
        "df = df.withColumn(\"DeviceProtection\", when((isnan(\"DeviceProtection\") | col(\"DeviceProtection\").isNull()) & (df.OnlineSecurity == \"No\"), \"No\").otherwise(col('DeviceProtection')))\n",
        "df = df.withColumn(\"DeviceProtection\", when((isnan(\"DeviceProtection\") | col(\"DeviceProtection\").isNull()) & (df.OnlineSecurity == \"Yes\"), \"Yes\").otherwise(col('DeviceProtection')))"
      ],
      "metadata": {
        "id": "cd-FlOk50x0k"
      },
      "execution_count": 162,
      "outputs": []
    },
    {
      "cell_type": "markdown",
      "source": [
        "اگر مقادیر نال باقی مانده بودند با رابطه با بک آپ نیز پر می‌شود."
      ],
      "metadata": {
        "id": "A2EoErTu1CtB"
      }
    },
    {
      "cell_type": "code",
      "source": [
        "# df = df.withColumn(\"DeviceProtection\", when((isnan(\"DeviceProtection\") | col(\"DeviceProtection\").isNull()) & (df.OnlineBackup == \"No\"), \"No\").otherwise(col('DeviceProtection')))\n",
        "# df = df.withColumn(\"DeviceProtection\", when((isnan(\"DeviceProtection\") | col(\"DeviceProtection\").isNull()) & (df.OnlineBackup == \"Yes\"), \"Yes\").otherwise(col('DeviceProtection')))"
      ],
      "metadata": {
        "id": "U0q92kU806kP"
      },
      "execution_count": 163,
      "outputs": []
    },
    {
      "cell_type": "code",
      "source": [
        "df.select('DeviceProtection').groupBy('DeviceProtection').count().show()"
      ],
      "metadata": {
        "colab": {
          "base_uri": "https://localhost:8080/"
        },
        "id": "5uFvxtYo1Gmd",
        "outputId": "6907d049-44cf-4f4f-f27e-536131a03816"
      },
      "execution_count": 164,
      "outputs": [
        {
          "output_type": "stream",
          "name": "stdout",
          "text": [
            "+-------------------+-----+\n",
            "|   DeviceProtection|count|\n",
            "+-------------------+-----+\n",
            "|                 No| 3242|\n",
            "|                Yes| 2483|\n",
            "|No internet service| 1593|\n",
            "+-------------------+-----+\n",
            "\n"
          ]
        }
      ]
    },
    {
      "cell_type": "markdown",
      "source": [
        "مقادیری نشان دهنده‌ی نداشتن اینترنت سرویس است با نه پر می‌شوند زیرا این اطلاعات در ستون دیگر در دسترس است"
      ],
      "metadata": {
        "id": "EboApDda1UlX"
      }
    },
    {
      "cell_type": "code",
      "execution_count": 165,
      "metadata": {
        "id": "M9rnnSrbQ19U"
      },
      "outputs": [],
      "source": [
        "df = df.withColumn(\"DeviceProtection\", when(df[\"DeviceProtection\"] == 'No internet service', 'No').otherwise(col('DeviceProtection')))"
      ]
    },
    {
      "cell_type": "code",
      "source": [
        "#to decrease memory usage\n",
        "df = spark.createDataFrame(df.take(df.count()))"
      ],
      "metadata": {
        "id": "WKtGGOzw9CCh"
      },
      "execution_count": 166,
      "outputs": []
    },
    {
      "cell_type": "markdown",
      "metadata": {
        "id": "CpMRgsxERGwb"
      },
      "source": [
        "###StreamingTV"
      ]
    },
    {
      "cell_type": "code",
      "source": [
        "df.select('StreamingTV').groupBy('StreamingTV').count().show()"
      ],
      "metadata": {
        "colab": {
          "base_uri": "https://localhost:8080/"
        },
        "id": "UsHVrdxxIDxY",
        "outputId": "4fd4afe3-74f6-478c-8131-2edfe86c8bcd"
      },
      "execution_count": 167,
      "outputs": [
        {
          "output_type": "stream",
          "name": "stdout",
          "text": [
            "+-------------------+-----+\n",
            "|        StreamingTV|count|\n",
            "+-------------------+-----+\n",
            "|               null|   85|\n",
            "|                 No| 2879|\n",
            "|                Yes| 2780|\n",
            "|No internet service| 1574|\n",
            "+-------------------+-----+\n",
            "\n"
          ]
        }
      ]
    },
    {
      "cell_type": "code",
      "execution_count": 168,
      "metadata": {
        "id": "KxmwK-4vRLaV"
      },
      "outputs": [],
      "source": [
        "df = df.withColumn(\"StreamingTV\", when((isnan(\"StreamingTV\") | col(\"StreamingTV\").isNull()) & (df.InternetService == \"No\"), \"No internet service\").otherwise(col('StreamingTV')))"
      ]
    },
    {
      "cell_type": "code",
      "source": [
        "df = df.withColumn(\"StreamingTV\", when((isnan(\"StreamingTV\") | col(\"StreamingTV\").isNull()) & (df.InternetService == \"Fiber optic\"), \"Yse\").otherwise(col('StreamingTV')))\n",
        "df = df.withColumn(\"StreamingTV\", when((isnan(\"StreamingTV\") | col(\"StreamingTV\").isNull()) & (df.InternetService == \"DSL\"), \"NO\").otherwise(col('StreamingTV')))"
      ],
      "metadata": {
        "id": "X5Zj7Ne2Af_X"
      },
      "execution_count": 169,
      "outputs": []
    },
    {
      "cell_type": "markdown",
      "source": [
        "مقادیری نشان دهنده‌ی نداشتن اینترنت سرویس است با نه پر می‌شوند زیرا این اطلاعات در ستون دیگر در دسترس است"
      ],
      "metadata": {
        "id": "FibkcdF2A-Dm"
      }
    },
    {
      "cell_type": "code",
      "execution_count": 170,
      "metadata": {
        "id": "lIPVX6NURRmy"
      },
      "outputs": [],
      "source": [
        "df = df.withColumn(\"StreamingTV\", when(df[\"StreamingTV\"] == 'No internet service', 'No').otherwise(col('StreamingTV')))"
      ]
    },
    {
      "cell_type": "code",
      "source": [
        "#to decrease memory usage\n",
        "df = spark.createDataFrame(df.take(df.count()))"
      ],
      "metadata": {
        "id": "9QmF7mOn_oUp"
      },
      "execution_count": 171,
      "outputs": []
    },
    {
      "cell_type": "markdown",
      "metadata": {
        "id": "PByit2qGRlZT"
      },
      "source": [
        "###StreamingMovies"
      ]
    },
    {
      "cell_type": "code",
      "execution_count": 172,
      "metadata": {
        "id": "bNZeVbdFRnfV"
      },
      "outputs": [],
      "source": [
        "df = df.withColumn(\"StreamingMovies\", when((isnan(\"StreamingMovies\") | col(\"StreamingMovies\").isNull()) & (df.InternetService == \"No\"), \"No internet service\").otherwise(col('StreamingMovies')))"
      ]
    },
    {
      "cell_type": "code",
      "source": [
        "df = df.withColumn(\"StreamingMovies\", when((isnan(\"StreamingMovies\") | col(\"StreamingMovies\").isNull()) & (df.InternetService == \"Fiber optic\"), \"Yes\").otherwise(col('StreamingMovies')))\n",
        "df = df.withColumn(\"StreamingMovies\", when((isnan(\"StreamingMovies\") | col(\"StreamingMovies\").isNull()) & (df.InternetService == \"DSL\"), \"No\").otherwise(col('StreamingMovies')))"
      ],
      "metadata": {
        "id": "u-8PBx7gCCub"
      },
      "execution_count": 173,
      "outputs": []
    },
    {
      "cell_type": "markdown",
      "source": [
        "مقادیری نشان دهنده‌ی نداشتن اینترنت سرویس است با نه پر می‌شوند زیرا این اطلاعات در ستون دیگر در دسترس است"
      ],
      "metadata": {
        "id": "NTU9M38-JBPy"
      }
    },
    {
      "cell_type": "code",
      "execution_count": 174,
      "metadata": {
        "id": "YpALa69JRr5U"
      },
      "outputs": [],
      "source": [
        "df = df.withColumn(\"StreamingMovies\", when(df[\"StreamingMovies\"] == 'No internet service', 'No').otherwise(col('StreamingMovies')))"
      ]
    },
    {
      "cell_type": "code",
      "source": [
        "#to decrease memory usage\n",
        "df = spark.createDataFrame(df.take(df.count()))"
      ],
      "metadata": {
        "id": "byfcmcbT_sUo"
      },
      "execution_count": 175,
      "outputs": []
    },
    {
      "cell_type": "markdown",
      "metadata": {
        "id": "_HBoa0S2cW0l"
      },
      "source": [
        "###Contract"
      ]
    },
    {
      "cell_type": "code",
      "execution_count": 176,
      "metadata": {
        "colab": {
          "base_uri": "https://localhost:8080/"
        },
        "id": "yqQPCVQrcV26",
        "outputId": "f9cc6b5d-a65a-495f-ecd3-7a9ee0030347"
      },
      "outputs": [
        {
          "output_type": "stream",
          "name": "stdout",
          "text": [
            "+--------------+-----+\n",
            "|      Contract|count|\n",
            "+--------------+-----+\n",
            "|Month-to-month| 3945|\n",
            "|          null|   76|\n",
            "|      One year| 1513|\n",
            "|      Two year| 1784|\n",
            "+--------------+-----+\n",
            "\n"
          ]
        }
      ],
      "source": [
        "df.select('Contract').groupBy('Contract').count().show()"
      ]
    },
    {
      "cell_type": "markdown",
      "source": [
        "براساس رابطه با روش پرداخت"
      ],
      "metadata": {
        "id": "1ui_H4ZxOZz_"
      }
    },
    {
      "cell_type": "code",
      "execution_count": 177,
      "metadata": {
        "id": "cje5V61jhdCB"
      },
      "outputs": [],
      "source": [
        "df = df.withColumn(\"Contract\", when((isnan(\"Contract\") | col(\"Contract\").isNull()) &\n",
        "                                    ((df.PaymentMethod == \"Mailed check\")|\n",
        "                                     (df.PaymentMethod == \"Electronic check\")), \"Month-to-month\").\\\n",
        "                   when((isnan(\"Contract\") | col(\"Contract\").isNull()) &\n",
        "                                    ((df.PaymentMethod == \"Credit card (automatic)\")|\n",
        "                                     (df.PaymentMethod == \"Bank transfer (automatic)\")), \"Month-to-month\").otherwise(col('Contract')))"
      ]
    },
    {
      "cell_type": "code",
      "execution_count": 178,
      "metadata": {
        "id": "OmKktmHycy59"
      },
      "outputs": [],
      "source": [
        "df = df.fillna('Month-to-month', ['Contract'])"
      ]
    },
    {
      "cell_type": "code",
      "source": [
        "#to decrease memory usage\n",
        "df = spark.createDataFrame(df.take(df.count()))"
      ],
      "metadata": {
        "id": "uIDuDSmR_uxE"
      },
      "execution_count": 179,
      "outputs": []
    },
    {
      "cell_type": "markdown",
      "metadata": {
        "id": "BA3XKWLFfKMm"
      },
      "source": [
        "###PaymentMethod"
      ]
    },
    {
      "cell_type": "code",
      "execution_count": 180,
      "metadata": {
        "colab": {
          "base_uri": "https://localhost:8080/"
        },
        "id": "97Zgemy3fLhl",
        "outputId": "a5245c48-2131-4cef-8f9a-c3e50d403fb1"
      },
      "outputs": [
        {
          "output_type": "stream",
          "name": "stdout",
          "text": [
            "+--------------------+-----+\n",
            "|       PaymentMethod|count|\n",
            "+--------------------+-----+\n",
            "|Credit card (auto...| 1565|\n",
            "|        Mailed check| 1639|\n",
            "|Bank transfer (au...| 1593|\n",
            "|    Electronic check| 2453|\n",
            "|                null|   68|\n",
            "+--------------------+-----+\n",
            "\n"
          ]
        }
      ],
      "source": [
        "df.select('PaymentMethod').groupBy('PaymentMethod').count().show()"
      ]
    },
    {
      "cell_type": "code",
      "execution_count": 181,
      "metadata": {
        "id": "wyU_imWRifE_"
      },
      "outputs": [],
      "source": [
        "df = df.withColumn(\"PaymentMethod\", when((isnan(\"PaymentMethod\") | col(\"PaymentMethod\").isNull()) &(df.Contract == \"Month-to-month\"), \"Electronic check\").otherwise(col('PaymentMethod')))\n",
        "df = df.withColumn(\"PaymentMethod\", when((isnan(\"PaymentMethod\") | col(\"PaymentMethod\").isNull()) &(df.Contract == \"One year\"), \"Credit card (automatic)\").otherwise(col('PaymentMethod')))\n",
        "df = df.withColumn(\"PaymentMethod\", when((isnan(\"PaymentMethod\") | col(\"PaymentMethod\").isNull()) &(df.Contract == \"Two year\"), \"Bank transfer (automatic)\").otherwise(col('PaymentMethod')))"
      ]
    },
    {
      "cell_type": "code",
      "source": [
        "#to decrease memory usage\n",
        "df = spark.createDataFrame(df.take(df.count()))"
      ],
      "metadata": {
        "id": "PIkXNe_h_zdt"
      },
      "execution_count": 182,
      "outputs": []
    },
    {
      "cell_type": "markdown",
      "metadata": {
        "id": "ty3fTdVejTDy"
      },
      "source": [
        "###PaperlessBilling"
      ]
    },
    {
      "cell_type": "code",
      "source": [
        "df.select('PaperlessBilling').groupBy('PaperlessBilling').count().show()"
      ],
      "metadata": {
        "colab": {
          "base_uri": "https://localhost:8080/"
        },
        "id": "o2DX1piRPT62",
        "outputId": "fe4e5802-ccc1-423d-b184-e77d329e7e1a"
      },
      "execution_count": 183,
      "outputs": [
        {
          "output_type": "stream",
          "name": "stdout",
          "text": [
            "+----------------+-----+\n",
            "|PaperlessBilling|count|\n",
            "+----------------+-----+\n",
            "|            null|   85|\n",
            "|              No| 2929|\n",
            "|             Yes| 4304|\n",
            "+----------------+-----+\n",
            "\n"
          ]
        }
      ]
    },
    {
      "cell_type": "code",
      "execution_count": 184,
      "metadata": {
        "id": "xH5d4_hkjYxA"
      },
      "outputs": [],
      "source": [
        "df = df.withColumn(\"PaperlessBilling\", when((isnan(\"PaperlessBilling\") | col(\"PaperlessBilling\").isNull()) &(df.PaymentMethod == \"Mailed check\"), \"No\").otherwise(col('PaperlessBilling')))"
      ]
    },
    {
      "cell_type": "code",
      "execution_count": 185,
      "metadata": {
        "id": "m4gLvpwyj2Lq"
      },
      "outputs": [],
      "source": [
        "df = df.fillna('Yes', ['PaperlessBilling'])"
      ]
    },
    {
      "cell_type": "code",
      "source": [
        "#to decrease memory usage\n",
        "df = spark.createDataFrame(df.take(df.count()))"
      ],
      "metadata": {
        "id": "_XtlA88j_2Lo"
      },
      "execution_count": 186,
      "outputs": []
    },
    {
      "cell_type": "markdown",
      "metadata": {
        "id": "KoWjvyYRlYA5"
      },
      "source": [
        "###tenure and MonthlyCharges and TotalCharges"
      ]
    },
    {
      "cell_type": "code",
      "execution_count": 187,
      "metadata": {
        "colab": {
          "base_uri": "https://localhost:8080/"
        },
        "id": "V9Meau3wlezz",
        "outputId": "bec806d3-62b9-4b7b-bf94-7200d8ea85c0"
      },
      "outputs": [
        {
          "output_type": "stream",
          "name": "stdout",
          "text": [
            "+-------+------------------+-----------------+------------------+\n",
            "|summary|            tenure|   MonthlyCharges|      TotalCharges|\n",
            "+-------+------------------+-----------------+------------------+\n",
            "|  count|              7236|             7242|              7235|\n",
            "|   mean|31.558319513543395|90.84228113780722|2288.0273116793355|\n",
            "| stddev| 37.10741312832324| 559.499234648105| 2247.644486740503|\n",
            "|    min|            -598.0|            18.25|              18.8|\n",
            "|    25%|               9.0|             35.4|             415.1|\n",
            "|    50%|              30.0|             70.2|           1421.75|\n",
            "|    75%|              56.0|            89.85|            3778.0|\n",
            "|    max|              72.0|          14990.0|            8684.8|\n",
            "+-------+------------------+-----------------+------------------+\n",
            "\n"
          ]
        }
      ],
      "source": [
        "df.select(['tenure', 'MonthlyCharges', 'TotalCharges']).summary().show()"
      ]
    },
    {
      "cell_type": "markdown",
      "metadata": {
        "id": "wcl5KVc_lwsK"
      },
      "source": [
        "همانطور که قبلا بررسی شد مقادیر غیرقابل قبول را نال می‌کنیم تا بقیه موارد پر شود"
      ]
    },
    {
      "cell_type": "code",
      "execution_count": 188,
      "metadata": {
        "id": "j53eXvl5lwHL"
      },
      "outputs": [],
      "source": [
        "df = df.withColumn('tenure', when(col('tenure')<0, None).otherwise(col('tenure')))\n",
        "df = df.withColumn('MonthlyCharges', when(col('MonthlyCharges')>200, None).otherwise(col('MonthlyCharges')))"
      ]
    },
    {
      "cell_type": "code",
      "execution_count": 189,
      "metadata": {
        "id": "R4KoFMnfmQT6"
      },
      "outputs": [],
      "source": [
        "condition = (isnan(\"tenure\") | col(\"tenure\").isNull())& (~col('MonthlyCharges').isNull()) & (~col('TotalCharges').isNull())\n",
        "df = df.withColumn('tenure', when(condition, col('TotalCharges')/col('MonthlyCharges')).otherwise(col('tenure'))).\\\n",
        "        withColumn(\"tenure\",col(\"tenure\").cast(\"integer\"))\n",
        "mean_tenure = df.select('tenure').agg({'tenure': 'avg'}).collect()[0]['avg(tenure)']\n",
        "df = df.fillna(mean_tenure, ['tenure'])"
      ]
    },
    {
      "cell_type": "code",
      "execution_count": 190,
      "metadata": {
        "id": "FNYLmFr7osDH"
      },
      "outputs": [],
      "source": [
        "condition = (isnan(\"MonthlyCharges\") | col(\"MonthlyCharges\").isNull())& (~col('TotalCharges').isNull()) & (~col('tenure').isNull())\n",
        "df = df.withColumn('MonthlyCharges', when(condition, col('TotalCharges')/col('tenure')).otherwise(col('MonthlyCharges')))\n",
        "mean_MonthlyCharges = df.select('MonthlyCharges').agg({'MonthlyCharges': 'avg'}).collect()[0]['avg(MonthlyCharges)']\n",
        "df = df.fillna(mean_MonthlyCharges, ['MonthlyCharges'])"
      ]
    },
    {
      "cell_type": "code",
      "execution_count": 191,
      "metadata": {
        "id": "K1xNt5WBo7Su"
      },
      "outputs": [],
      "source": [
        "condition = (isnan(\"TotalCharges\") | col(\"TotalCharges\").isNull())& (~col('MonthlyCharges').isNull()) & (~col('tenure').isNull())\n",
        "df = df.withColumn('TotalCharges', when(condition, col('MonthlyCharges')*col('tenure')).otherwise(col('TotalCharges')))\n",
        "mean_TotalCharges = df.select('TotalCharges').agg({'TotalCharges': 'avg'}).collect()[0]['avg(TotalCharges)']\n",
        "df = df.fillna(mean_TotalCharges, ['TotalCharges'])"
      ]
    },
    {
      "cell_type": "code",
      "source": [
        "#to decrease memory usage\n",
        "df = spark.createDataFrame(df.take(df.count()))"
      ],
      "metadata": {
        "id": "sfSRYvKm_5jH"
      },
      "execution_count": 192,
      "outputs": []
    },
    {
      "cell_type": "markdown",
      "metadata": {
        "id": "4mu2p4-PuJwL"
      },
      "source": [
        "###Label"
      ]
    },
    {
      "cell_type": "markdown",
      "metadata": {
        "id": "IYplnjbKs4fx"
      },
      "source": [
        "مقادیر برچسب تنها دارای مقادیر نال است که به دلیل اینکه قرار است مدل بر اساس این برچسب‌ها آموزش ببیند مقادیر آن‌ها باید واقعی باشد بنابراین برای آموزش و ارزیابی از دیتاست بدون این موارد استفاده می شود"
      ]
    },
    {
      "cell_type": "code",
      "execution_count": 193,
      "metadata": {
        "id": "xv69qem7uLnJ"
      },
      "outputs": [],
      "source": [
        "df = df.filter(col('Label').isNotNull())"
      ]
    },
    {
      "cell_type": "markdown",
      "metadata": {
        "id": "90308vbEpe3z"
      },
      "source": [
        "##normalize and map multichoice to number"
      ]
    },
    {
      "cell_type": "markdown",
      "source": [
        "به جز آیدی ستون مقادیر نال وجود ندارد. برای سطر هایی مقادیر شناسه‌ی آن‌ها نال است یک هویت مستقل در نظر گرفته می‌شود بنابراین دوباره داده‌های تکراری پاک نمیشوند و ستون شناسه نیز حذف خواهد شد"
      ],
      "metadata": {
        "id": "VwD1CbKnoz5u"
      }
    },
    {
      "cell_type": "code",
      "source": [
        "df.select([count(when(isnan(c) | col(c).isNull(), c)).alias(c) for c in df.columns]).show()"
      ],
      "metadata": {
        "colab": {
          "base_uri": "https://localhost:8080/"
        },
        "id": "VzcLb07CEhKb",
        "outputId": "f2edf3cb-42ad-4d6a-9f0b-c408d70b40d3"
      },
      "execution_count": 194,
      "outputs": [
        {
          "output_type": "stream",
          "name": "stdout",
          "text": [
            "+----------+----------------+-------+-----------+-----------+------------+--------+------+---------------+-------------+----------------+--------------+------------+-----+------------+--------------+-------------+---------------+----------+-------------+------+\n",
            "|customerID|DeviceProtection|Partner|TechSupport|StreamingTV|PhoneService|Contract|tenure|InternetService|SeniorCitizen|PaperlessBilling|MonthlyCharges|OnlineBackup|Label|TotalCharges|OnlineSecurity|MultipleLines|StreamingMovies|Dependents|PaymentMethod|gender|\n",
            "+----------+----------------+-------+-----------+-----------+------------+--------+------+---------------+-------------+----------------+--------------+------------+-----+------------+--------------+-------------+---------------+----------+-------------+------+\n",
            "|       193|               0|      0|          0|          0|           0|       0|     0|              0|            0|               0|             0|           0|    0|           0|             0|            0|              0|         0|            0|     0|\n",
            "+----------+----------------+-------+-----------+-----------+------------+--------+------+---------------+-------------+----------------+--------------+------------+-----+------------+--------------+-------------+---------------+----------+-------------+------+\n",
            "\n"
          ]
        }
      ]
    },
    {
      "cell_type": "code",
      "execution_count": 195,
      "metadata": {
        "id": "vj2Ms9fA5Mb9"
      },
      "outputs": [],
      "source": [
        "df = df.drop('customerID')"
      ]
    },
    {
      "cell_type": "markdown",
      "metadata": {
        "id": "HsuiKohvtq_P"
      },
      "source": [
        "ستون های کتگوریکال:\n",
        "\n",
        "\n",
        "*   InternetService\n",
        "*   Contract\n",
        "*   PaymentMethod<br/>\n",
        "قرارداد را می‌توان با مقادیر ترتیبی پر کرد و بقیه موارد را به‌صورت one-hot\n",
        "\n"
      ]
    },
    {
      "cell_type": "markdown",
      "metadata": {
        "id": "QEKU54eM1-1b"
      },
      "source": [
        "ستون قرارداد براساس ماه تبدیل به عدد میشه که معنی و اختلاف و ارزش هر یک بیشتر مشخص باشد"
      ]
    },
    {
      "cell_type": "code",
      "execution_count": 196,
      "metadata": {
        "id": "l5MFYIv8tmya"
      },
      "outputs": [],
      "source": [
        "df = df.withColumn(\"Contract\", when(df[\"Contract\"] == 'Month-to-month', 1).\\\n",
        "                   when(col('Contract')=='One year', 12).otherwise(24))"
      ]
    },
    {
      "cell_type": "code",
      "execution_count": 197,
      "metadata": {
        "colab": {
          "base_uri": "https://localhost:8080/"
        },
        "id": "zBZMIUTB3a1y",
        "outputId": "1b22de83-63e5-4d1b-9e11-1c2cd56b7e0a"
      },
      "outputs": [
        {
          "output_type": "stream",
          "name": "stdout",
          "text": [
            "root\n",
            " |-- DeviceProtection: string (nullable = true)\n",
            " |-- Partner: string (nullable = true)\n",
            " |-- TechSupport: string (nullable = true)\n",
            " |-- StreamingTV: string (nullable = true)\n",
            " |-- PhoneService: string (nullable = true)\n",
            " |-- Contract: integer (nullable = false)\n",
            " |-- tenure: long (nullable = true)\n",
            " |-- InternetService: string (nullable = true)\n",
            " |-- SeniorCitizen: double (nullable = true)\n",
            " |-- PaperlessBilling: string (nullable = true)\n",
            " |-- MonthlyCharges: double (nullable = true)\n",
            " |-- OnlineBackup: string (nullable = true)\n",
            " |-- Label: string (nullable = true)\n",
            " |-- TotalCharges: double (nullable = true)\n",
            " |-- OnlineSecurity: string (nullable = true)\n",
            " |-- MultipleLines: string (nullable = true)\n",
            " |-- StreamingMovies: string (nullable = true)\n",
            " |-- Dependents: string (nullable = true)\n",
            " |-- PaymentMethod: string (nullable = true)\n",
            " |-- gender: string (nullable = true)\n",
            "\n"
          ]
        }
      ],
      "source": [
        "df.printSchema()"
      ]
    },
    {
      "cell_type": "code",
      "execution_count": 198,
      "metadata": {
        "id": "YpiF-t2z2WLx"
      },
      "outputs": [],
      "source": [
        "categorical_cols = {'gender', 'Partner', 'Dependents', 'PhoneService', \n",
        "                    'MultipleLines', 'InternetService', 'OnlineSecurity', \n",
        "                    'OnlineBackup', 'DeviceProtection', 'TechSupport', \n",
        "                    'StreamingTV', 'StreamingMovies', 'PaperlessBilling', \n",
        "                    'PaymentMethod', 'Label'}\n",
        "one_hot_cols = {'PaymentMethod', 'InternetService'}\n",
        "numeric_cols = {\"tenure\", \"TotalCharges\", \"MonthlyCharges\", \"Contract\"}"
      ]
    },
    {
      "cell_type": "markdown",
      "source": [
        "چهار عملیات درنظر گرفته شده است یکی برای تبدیل استرینگ به عدد که به ازای هر استرینگ یونیک یک عدد در نظر گرفته می‌شود. سپس دو ویژگی که حالت کتگوریکال خود رو پس از عملیات قبلی حفظ کرده است به ستون‌های وان اند هات تبدیل می‌شود. اعداد نرمالیاز می‌شوند و سپس تمامی ویژگی ها به جز برچسب تبدیل به یک وکتور می‌شوند. این عملیات در یک پایپلاین با توجه به استیج‌های در نظر گرفته شده انجام می‌شود"
      ],
      "metadata": {
        "id": "IZ_crDg9pQ7v"
      }
    },
    {
      "cell_type": "code",
      "execution_count": 199,
      "metadata": {
        "id": "xaupXX7-5RXo"
      },
      "outputs": [],
      "source": [
        "stages = list()\n",
        "for col in categorical_cols:\n",
        "    string_indexer = StringIndexer(inputCol=col, outputCol=col+\"Index\")\n",
        "    stages.append(string_indexer)\n",
        "    if col in one_hot_cols:\n",
        "      stages.append(OneHotEncoder(inputCols=[string_indexer.getOutputCol()], outputCols=[col+'CVect']))\n",
        "\n",
        "for col in numeric_cols:\n",
        "    assembler = VectorAssembler(inputCols=[col],outputCol=col+'Vect')\n",
        "    scaler = MinMaxScaler(inputCol=col+'Vect', outputCol=col+'Scaled')\n",
        "    stages += [assembler, scaler]"
      ]
    },
    {
      "cell_type": "code",
      "execution_count": 200,
      "metadata": {
        "id": "5vcGskOW9a2a",
        "colab": {
          "base_uri": "https://localhost:8080/"
        },
        "outputId": "98c40897-3dee-43db-83fc-57a8244ac33e"
      },
      "outputs": [
        {
          "output_type": "execute_result",
          "data": {
            "text/plain": [
              "['MultipleLinesIndex',\n",
              " 'TechSupportIndex',\n",
              " 'PartnerIndex',\n",
              " 'PaperlessBillingIndex',\n",
              " 'DeviceProtectionIndex',\n",
              " 'StreamingMoviesIndex',\n",
              " 'StreamingTVIndex',\n",
              " 'genderIndex',\n",
              " 'DependentsIndex',\n",
              " 'OnlineBackupIndex',\n",
              " 'PhoneServiceIndex',\n",
              " 'OnlineSecurityIndex',\n",
              " 'PaymentMethodCVect',\n",
              " 'InternetServiceCVect',\n",
              " 'TotalChargesScaled',\n",
              " 'tenureScaled',\n",
              " 'MonthlyChargesScaled',\n",
              " 'ContractScaled']"
            ]
          },
          "metadata": {},
          "execution_count": 200
        }
      ],
      "source": [
        "features = [col+'Index' for col in categorical_cols if col not in list(one_hot_cols)+['Label']] + [col+'CVect' for col in one_hot_cols] + [col+'Scaled' for col in numeric_cols]\n",
        "features"
      ]
    },
    {
      "cell_type": "code",
      "source": [
        "len(features)"
      ],
      "metadata": {
        "colab": {
          "base_uri": "https://localhost:8080/"
        },
        "id": "3f8Qh19QhAOA",
        "outputId": "a116e5b4-d9e9-4382-a686-f58e5be9240d"
      },
      "execution_count": 201,
      "outputs": [
        {
          "output_type": "execute_result",
          "data": {
            "text/plain": [
              "18"
            ]
          },
          "metadata": {},
          "execution_count": 201
        }
      ]
    },
    {
      "cell_type": "code",
      "execution_count": 202,
      "metadata": {
        "id": "valjXlYW98dz"
      },
      "outputs": [],
      "source": [
        "feaure_assembler = VectorAssembler(inputCols=features, outputCol=\"features\")\n",
        "stages.append(feaure_assembler)"
      ]
    },
    {
      "cell_type": "code",
      "execution_count": 203,
      "metadata": {
        "id": "ygrv8QbSCHX5"
      },
      "outputs": [],
      "source": [
        "pipeline = Pipeline(stages=stages)\n",
        "normalized_model = pipeline.fit(df)\n",
        "normalized_df = normalized_model.transform(df)"
      ]
    },
    {
      "cell_type": "code",
      "execution_count": 204,
      "metadata": {
        "colab": {
          "base_uri": "https://localhost:8080/"
        },
        "id": "jTSKUej7xYqX",
        "outputId": "dab23e55-dae9-4c56-cce5-949e337e8f1c"
      },
      "outputs": [
        {
          "output_type": "stream",
          "name": "stdout",
          "text": [
            "root\n",
            " |-- DeviceProtection: string (nullable = true)\n",
            " |-- Partner: string (nullable = true)\n",
            " |-- TechSupport: string (nullable = true)\n",
            " |-- StreamingTV: string (nullable = true)\n",
            " |-- PhoneService: string (nullable = true)\n",
            " |-- Contract: integer (nullable = false)\n",
            " |-- tenure: long (nullable = true)\n",
            " |-- InternetService: string (nullable = true)\n",
            " |-- SeniorCitizen: double (nullable = true)\n",
            " |-- PaperlessBilling: string (nullable = true)\n",
            " |-- MonthlyCharges: double (nullable = true)\n",
            " |-- OnlineBackup: string (nullable = true)\n",
            " |-- Label: string (nullable = true)\n",
            " |-- TotalCharges: double (nullable = true)\n",
            " |-- OnlineSecurity: string (nullable = true)\n",
            " |-- MultipleLines: string (nullable = true)\n",
            " |-- StreamingMovies: string (nullable = true)\n",
            " |-- Dependents: string (nullable = true)\n",
            " |-- PaymentMethod: string (nullable = true)\n",
            " |-- gender: string (nullable = true)\n",
            " |-- MultipleLinesIndex: double (nullable = false)\n",
            " |-- TechSupportIndex: double (nullable = false)\n",
            " |-- PartnerIndex: double (nullable = false)\n",
            " |-- PaperlessBillingIndex: double (nullable = false)\n",
            " |-- DeviceProtectionIndex: double (nullable = false)\n",
            " |-- StreamingMoviesIndex: double (nullable = false)\n",
            " |-- LabelIndex: double (nullable = false)\n",
            " |-- StreamingTVIndex: double (nullable = false)\n",
            " |-- genderIndex: double (nullable = false)\n",
            " |-- InternetServiceIndex: double (nullable = false)\n",
            " |-- InternetServiceCVect: vector (nullable = true)\n",
            " |-- PaymentMethodIndex: double (nullable = false)\n",
            " |-- PaymentMethodCVect: vector (nullable = true)\n",
            " |-- DependentsIndex: double (nullable = false)\n",
            " |-- OnlineBackupIndex: double (nullable = false)\n",
            " |-- PhoneServiceIndex: double (nullable = false)\n",
            " |-- OnlineSecurityIndex: double (nullable = false)\n",
            " |-- TotalChargesVect: vector (nullable = true)\n",
            " |-- TotalChargesScaled: vector (nullable = true)\n",
            " |-- tenureVect: vector (nullable = true)\n",
            " |-- tenureScaled: vector (nullable = true)\n",
            " |-- MonthlyChargesVect: vector (nullable = true)\n",
            " |-- MonthlyChargesScaled: vector (nullable = true)\n",
            " |-- ContractVect: vector (nullable = true)\n",
            " |-- ContractScaled: vector (nullable = true)\n",
            " |-- features: vector (nullable = true)\n",
            "\n"
          ]
        }
      ],
      "source": [
        "normalized_df.printSchema()"
      ]
    },
    {
      "cell_type": "code",
      "source": [
        "normalized_df.select('features').show()"
      ],
      "metadata": {
        "colab": {
          "base_uri": "https://localhost:8080/"
        },
        "id": "wR19Gjgofha_",
        "outputId": "96e47851-bfd1-4e88-ab7f-415d73f0ec06"
      },
      "execution_count": 205,
      "outputs": [
        {
          "output_type": "stream",
          "name": "stdout",
          "text": [
            "+--------------------+\n",
            "|            features|\n",
            "+--------------------+\n",
            "|(21,[1,2,6,7,8,9,...|\n",
            "|(21,[3,5,13,16,17...|\n",
            "|(21,[0,4,12,15,17...|\n",
            "|(21,[0,2,4,5,6,9,...|\n",
            "|(21,[0,1,2,6,7,13...|\n",
            "|(21,[1,5,6,7,8,16...|\n",
            "|[0.0,1.0,1.0,0.0,...|\n",
            "|(21,[1,2,11,15,17...|\n",
            "|(21,[7,11,12,16,1...|\n",
            "|[0.0,1.0,1.0,0.0,...|\n",
            "|(21,[1,3,6,10,11,...|\n",
            "|[0.0,1.0,1.0,0.0,...|\n",
            "|(21,[2,7,12,15,17...|\n",
            "|(21,[4,6,7,9,11,1...|\n",
            "|[0.0,1.0,0.0,1.0,...|\n",
            "|(21,[2,4,5,7,8,9,...|\n",
            "|[0.0,1.0,1.0,1.0,...|\n",
            "|(21,[7,12,15,17,1...|\n",
            "|(21,[0,3,4,5,11,1...|\n",
            "|(21,[0,10,12,16,1...|\n",
            "+--------------------+\n",
            "only showing top 20 rows\n",
            "\n"
          ]
        }
      ]
    },
    {
      "cell_type": "code",
      "source": [
        "normalized_df.select('features').take(2)"
      ],
      "metadata": {
        "colab": {
          "base_uri": "https://localhost:8080/"
        },
        "id": "UatlPzIhhFWa",
        "outputId": "2b10d1b7-85f4-4139-a3f2-ef1e91de55cc"
      },
      "execution_count": 206,
      "outputs": [
        {
          "output_type": "execute_result",
          "data": {
            "text/plain": [
              "[Row(features=SparseVector(21, {1: 1.0, 2: 1.0, 6: 1.0, 7: 1.0, 8: 1.0, 9: 1.0, 13: 1.0, 16: 1.0, 17: 0.0663, 18: 0.1111, 19: 0.3514, 20: 0.4783})),\n",
              " Row(features=SparseVector(21, {3: 1.0, 5: 1.0, 13: 1.0, 16: 1.0, 17: 0.0604, 18: 0.1111, 19: 0.3168}))]"
            ]
          },
          "metadata": {},
          "execution_count": 206
        }
      ]
    },
    {
      "cell_type": "markdown",
      "metadata": {
        "id": "FpBQlKhi5e3K"
      },
      "source": [
        "#Model after preprocessing"
      ]
    },
    {
      "cell_type": "markdown",
      "metadata": {
        "id": "Q_4JcWT76Eqj"
      },
      "source": [
        "split train and test data"
      ]
    },
    {
      "cell_type": "code",
      "execution_count": 207,
      "metadata": {
        "id": "1rsX110F5kbs"
      },
      "outputs": [],
      "source": [
        "train, test = normalized_df.randomSplit([0.8, 0.2], 42)"
      ]
    },
    {
      "cell_type": "code",
      "execution_count": 208,
      "metadata": {
        "id": "pmvtmz3I6bgJ"
      },
      "outputs": [],
      "source": [
        "logistic_regression = LogisticRegression(featuresCol='features', labelCol='LabelIndex', maxIter=30)\n",
        "lr_trained_model = logistic_regression.fit(train)"
      ]
    },
    {
      "cell_type": "code",
      "execution_count": 209,
      "metadata": {
        "id": "UpkC1JxQzYpX",
        "colab": {
          "base_uri": "https://localhost:8080/"
        },
        "outputId": "bcb6768b-b408-45c1-a093-739f0cf4eee9"
      },
      "outputs": [
        {
          "output_type": "stream",
          "name": "stdout",
          "text": [
            "Coefficients: \n",
            "DenseMatrix([[ 3.71827634e+01, -1.46099362e-01, -2.70498325e-02,\n",
            "              -5.20196240e-02, -8.30541094e-02,  1.36925071e-03,\n",
            "              -1.30956939e-02, -1.97931093e-02, -8.06610582e-02,\n",
            "              -1.05790021e-01,  1.14470375e-01, -1.31680949e-01,\n",
            "               1.67640421e-01, -2.33845528e-02,  1.33163787e-02,\n",
            "               2.73314075e-01,  1.27925698e-01, -3.77635853e-01,\n",
            "              -4.88313460e-01,  6.75888949e-01, -2.32301913e-01]])\n",
            "Intercept: [-18.748991073483133]\n"
          ]
        }
      ],
      "source": [
        "print(\"Coefficients: \\n\" + str(lr_trained_model.coefficientMatrix))\n",
        "print(\"Intercept: \" + str(lr_trained_model.interceptVector))"
      ]
    },
    {
      "cell_type": "code",
      "execution_count": 210,
      "metadata": {
        "id": "o1dZQDncyXRd",
        "colab": {
          "base_uri": "https://localhost:8080/",
          "height": 265
        },
        "outputId": "b596eee0-142b-4446-aabf-77dadae030fa"
      },
      "outputs": [
        {
          "output_type": "display_data",
          "data": {
            "text/plain": [
              "<Figure size 432x288 with 1 Axes>"
            ],
            "image/png": "[encoded data removed]"
          },
          "metadata": {
            "needs_background": "light"
          }
        }
      ],
      "source": [
        "beta = np.sort(lr_trained_model.coefficients)\n",
        "plt.plot(beta)\n",
        "plt.ylabel('Beta Coefficients')\n",
        "plt.show()"
      ]
    },
    {
      "cell_type": "code",
      "execution_count": 211,
      "metadata": {
        "id": "rmj-uh-iU2-4",
        "colab": {
          "base_uri": "https://localhost:8080/",
          "height": 347
        },
        "outputId": "5c6044f0-09b9-434c-eba0-376f195e83f1"
      },
      "outputs": [
        {
          "output_type": "stream",
          "name": "stderr",
          "text": [
            "/usr/local/lib/python3.7/dist-packages/pyspark/sql/context.py:127: FutureWarning: Deprecated in 3.0.0. Use SparkSession.builder.getOrCreate() instead.\n",
            "  FutureWarning\n"
          ]
        },
        {
          "output_type": "display_data",
          "data": {
            "text/plain": [
              "<Figure size 432x288 with 1 Axes>"
            ],
            "image/png": "[encoded data removed]"
          },
          "metadata": {
            "needs_background": "light"
          }
        },
        {
          "output_type": "stream",
          "name": "stdout",
          "text": [
            "Training set areaUnderROC: 1.0\n"
          ]
        }
      ],
      "source": [
        "trainingSummary = lr_trained_model.summary\n",
        "roc = trainingSummary.roc.toPandas()\n",
        "plt.plot(roc['FPR'],roc['TPR'])\n",
        "plt.ylabel('False Positive Rate')\n",
        "plt.xlabel('True Positive Rate')\n",
        "plt.title('ROC Curve')\n",
        "plt.show()\n",
        "print('Training set areaUnderROC: ' + str(trainingSummary.areaUnderROC))"
      ]
    },
    {
      "cell_type": "code",
      "execution_count": 212,
      "metadata": {
        "id": "s93mgZSmU88J",
        "colab": {
          "base_uri": "https://localhost:8080/",
          "height": 314
        },
        "outputId": "0d27c938-6627-4fe0-fa09-8d5f5467de9e"
      },
      "outputs": [
        {
          "output_type": "stream",
          "name": "stderr",
          "text": [
            "/usr/local/lib/python3.7/dist-packages/pyspark/sql/context.py:127: FutureWarning: Deprecated in 3.0.0. Use SparkSession.builder.getOrCreate() instead.\n",
            "  FutureWarning\n"
          ]
        },
        {
          "output_type": "display_data",
          "data": {
            "text/plain": [
              "<Figure size 432x288 with 1 Axes>"
            ],
            "image/png": "[encoded data removed]"
          },
          "metadata": {
            "needs_background": "light"
          }
        }
      ],
      "source": [
        "pr = trainingSummary.pr.toPandas()\n",
        "plt.plot(pr['recall'],pr['precision'])\n",
        "plt.ylabel('Precision')\n",
        "plt.xlabel('Recall')\n",
        "plt.show()"
      ]
    },
    {
      "cell_type": "code",
      "execution_count": 213,
      "metadata": {
        "id": "jRTioH73U9u1",
        "colab": {
          "base_uri": "https://localhost:8080/"
        },
        "outputId": "a8a225f4-ba26-40a0-ea95-cc071e635a8c"
      },
      "outputs": [
        {
          "output_type": "stream",
          "name": "stdout",
          "text": [
            "Test Area Under ROC 1.0\n"
          ]
        }
      ],
      "source": [
        "predictions = lr_trained_model.transform(test)\n",
        "evaluator = BinaryClassificationEvaluator(labelCol='LabelIndex')\n",
        "print('Test Area Under ROC', evaluator.evaluate(predictions))"
      ]
    },
    {
      "cell_type": "markdown",
      "source": [
        "#Model before preprocessing"
      ],
      "metadata": {
        "id": "AAQxr8ZZF8Pp"
      }
    },
    {
      "cell_type": "code",
      "source": [
        "df = spark.read.csv(customer_file_path, inferSchema=True, header=True)"
      ],
      "metadata": {
        "id": "LoCqPUy4GM1n"
      },
      "execution_count": 214,
      "outputs": []
    },
    {
      "cell_type": "code",
      "source": [
        "df = df.na.drop()"
      ],
      "metadata": {
        "id": "TCM6J5vmGTXU"
      },
      "execution_count": 215,
      "outputs": []
    },
    {
      "cell_type": "code",
      "source": [
        "categorical_cols = {'gender', 'Partner', 'Dependents', 'PhoneService', \n",
        "                    'MultipleLines', 'InternetService', 'OnlineSecurity', \n",
        "                    'OnlineBackup', 'DeviceProtection', 'TechSupport', \n",
        "                    'StreamingTV', 'StreamingMovies', 'PaperlessBilling', \n",
        "                    'PaymentMethod', 'Label', \"Contract\", \"customerID\"}"
      ],
      "metadata": {
        "id": "z2tSnmPAGdii"
      },
      "execution_count": 216,
      "outputs": []
    },
    {
      "cell_type": "code",
      "source": [
        "stages = list()\n",
        "for column in categorical_cols:\n",
        "    string_indexer = StringIndexer(inputCol=column, outputCol=column+\"Index\")\n",
        "    stages.append(string_indexer)\n",
        "\n",
        "pipeline = Pipeline(stages=stages)\n",
        "normalized_model = pipeline.fit(df.na.drop())\n",
        "df = normalized_model.transform(df.na.drop())"
      ],
      "metadata": {
        "id": "A6sne4VaGqIA"
      },
      "execution_count": 217,
      "outputs": []
    },
    {
      "cell_type": "code",
      "source": [
        "vector_col = \"features\"\n",
        "columns = [column+\"Index\" for column in categorical_cols] + ['tenure', 'SeniorCitizen', 'MonthlyCharges', 'TotalCharges']\n",
        "columns.remove('LabelIndex')\n",
        "assembler = VectorAssembler(inputCols=columns, outputCol=vector_col)\n",
        "df = assembler.transform(df)"
      ],
      "metadata": {
        "id": "BPjkZKc2GvDe"
      },
      "execution_count": 218,
      "outputs": []
    },
    {
      "cell_type": "code",
      "source": [
        "df.columns"
      ],
      "metadata": {
        "colab": {
          "base_uri": "https://localhost:8080/"
        },
        "id": "FPiZFULEJtza",
        "outputId": "f15cdde0-2cee-4161-8cfc-3c52074801ad"
      },
      "execution_count": 219,
      "outputs": [
        {
          "output_type": "execute_result",
          "data": {
            "text/plain": [
              "['customerID',\n",
              " 'gender',\n",
              " 'SeniorCitizen',\n",
              " 'Partner',\n",
              " 'Dependents',\n",
              " 'tenure',\n",
              " 'PhoneService',\n",
              " 'MultipleLines',\n",
              " 'InternetService',\n",
              " 'OnlineSecurity',\n",
              " 'OnlineBackup',\n",
              " 'DeviceProtection',\n",
              " 'TechSupport',\n",
              " 'StreamingTV',\n",
              " 'StreamingMovies',\n",
              " 'Contract',\n",
              " 'PaperlessBilling',\n",
              " 'PaymentMethod',\n",
              " 'MonthlyCharges',\n",
              " 'TotalCharges',\n",
              " 'Label',\n",
              " 'MultipleLinesIndex',\n",
              " 'TechSupportIndex',\n",
              " 'PartnerIndex',\n",
              " 'PaperlessBillingIndex',\n",
              " 'DeviceProtectionIndex',\n",
              " 'StreamingMoviesIndex',\n",
              " 'LabelIndex',\n",
              " 'ContractIndex',\n",
              " 'StreamingTVIndex',\n",
              " 'customerIDIndex',\n",
              " 'genderIndex',\n",
              " 'InternetServiceIndex',\n",
              " 'PaymentMethodIndex',\n",
              " 'DependentsIndex',\n",
              " 'OnlineBackupIndex',\n",
              " 'PhoneServiceIndex',\n",
              " 'OnlineSecurityIndex',\n",
              " 'features']"
            ]
          },
          "metadata": {},
          "execution_count": 219
        }
      ]
    },
    {
      "cell_type": "code",
      "source": [
        "train, test = df.randomSplit([0.8, 0.2], 42)"
      ],
      "metadata": {
        "id": "8dbKAlvuGWnR"
      },
      "execution_count": 220,
      "outputs": []
    },
    {
      "cell_type": "code",
      "source": [
        "logistic_regression = LogisticRegression(featuresCol='features', labelCol='LabelIndex', maxIter=30)\n",
        "lr_trained_model = logistic_regression.fit(train)"
      ],
      "metadata": {
        "id": "bM3iwVu4GaT2"
      },
      "execution_count": 221,
      "outputs": []
    },
    {
      "cell_type": "code",
      "source": [
        "trainingSummary = lr_trained_model.summary\n",
        "roc = trainingSummary.roc.toPandas()\n",
        "plt.plot(roc['FPR'],roc['TPR'])\n",
        "plt.ylabel('False Positive Rate')\n",
        "plt.xlabel('True Positive Rate')\n",
        "plt.title('ROC Curve')\n",
        "plt.show()\n",
        "print('Training set areaUnderROC: ' + str(trainingSummary.areaUnderROC))"
      ],
      "metadata": {
        "colab": {
          "base_uri": "https://localhost:8080/",
          "height": 347
        },
        "id": "36bW8S24HANL",
        "outputId": "e08b80c6-92db-49df-f992-4e84af22661c"
      },
      "execution_count": 222,
      "outputs": [
        {
          "output_type": "stream",
          "name": "stderr",
          "text": [
            "/usr/local/lib/python3.7/dist-packages/pyspark/sql/context.py:127: FutureWarning: Deprecated in 3.0.0. Use SparkSession.builder.getOrCreate() instead.\n",
            "  FutureWarning\n"
          ]
        },
        {
          "output_type": "display_data",
          "data": {
            "text/plain": [
              "<Figure size 432x288 with 1 Axes>"
            ],
            "image/png": "[encoded data removed]"
          },
          "metadata": {
            "needs_background": "light"
          }
        },
        {
          "output_type": "stream",
          "name": "stdout",
          "text": [
            "Training set areaUnderROC: 0.83273457816278\n"
          ]
        }
      ]
    },
    {
      "cell_type": "code",
      "source": [
        "predictions = lr_trained_model.transform(test)\n",
        "evaluator = BinaryClassificationEvaluator(labelCol='LabelIndex')\n",
        "print('Test Area Under ROC', evaluator.evaluate(predictions))"
      ],
      "metadata": {
        "colab": {
          "base_uri": "https://localhost:8080/"
        },
        "id": "EbpnEwRlHDGg",
        "outputId": "26ae3003-6fe2-483e-b731-d29ea4f411e4"
      },
      "execution_count": 223,
      "outputs": [
        {
          "output_type": "stream",
          "name": "stdout",
          "text": [
            "Test Area Under ROC 0.8333002299106913\n"
          ]
        }
      ]
    }
  ],
  "metadata": {
    "colab": {
      "collapsed_sections": [
        "StVP6FLRxeF7",
        "F2Qk25mEyHRn",
        "GvnBtGfD01PO",
        "Cla6SkjIymIl",
        "TK4T50e7qp6V",
        "ekcxzzTsQDLy",
        "F3MgW4W4XOKz",
        "nMmUaFCgZIkq",
        "YqIAxRQ7izxd",
        "sdJToEa7jZBN",
        "E3YfLv7EVgTh",
        "V20ZOktPpywx",
        "TFfdWNrmdEpI",
        "LpgZPVusfsvx",
        "oFg10ofm5C_2",
        "4P1aoyVK6Gnf",
        "A5jUPqGRYnsj",
        "0ofEHuTuob3O",
        "Dw4TJziGpaUY",
        "BMJzYRjFo6MW",
        "uJ7hBRELrcdY",
        "JzqAbK98v3Ci",
        "DABKKW6ixtWQ",
        "dUVfC6-D1QOY",
        "yHvPOo0bP1U2",
        "yZSlmBRPQgEs",
        "CpMRgsxERGwb",
        "PByit2qGRlZT",
        "_HBoa0S2cW0l",
        "BA3XKWLFfKMm",
        "ty3fTdVejTDy",
        "KoWjvyYRlYA5",
        "4mu2p4-PuJwL",
        "90308vbEpe3z",
        "FpBQlKhi5e3K"
      ],
      "name": "sparkML_customerChurn_main.ipynb",
      "provenance": [],
      "authorship_tag": "ABX9TyME0upUfbWWNecSQN6dC6kF",
      "include_colab_link": true
    },
    "kernelspec": {
      "display_name": "Python 3",
      "name": "python3"
    },
    "language_info": {
      "name": "python"
    }
  },
  "nbformat": 4,
  "nbformat_minor": 0
}