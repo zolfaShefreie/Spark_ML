{
  "nbformat": 4,
  "nbformat_minor": 0,
  "metadata": {
    "colab": {
      "name": "sparkML_customerChurn.ipynb",
      "provenance": [],
      "collapsed_sections": [
        "StVP6FLRxeF7",
        "F2Qk25mEyHRn",
        "GvnBtGfD01PO",
        "Cla6SkjIymIl",
        "ekcxzzTsQDLy",
        "F3MgW4W4XOKz",
        "nMmUaFCgZIkq",
        "YqIAxRQ7izxd",
        "sdJToEa7jZBN",
        "E3YfLv7EVgTh",
        "V20ZOktPpywx",
        "TFfdWNrmdEpI",
        "LpgZPVusfsvx",
        "oFg10ofm5C_2",
        "4P1aoyVK6Gnf",
        "A5jUPqGRYnsj",
        "0ofEHuTuob3O",
        "Dw4TJziGpaUY",
        "BMJzYRjFo6MW",
        "uJ7hBRELrcdY",
        "JzqAbK98v3Ci",
        "DABKKW6ixtWQ",
        "dUVfC6-D1QOY",
        "yHvPOo0bP1U2",
        "yZSlmBRPQgEs",
        "CpMRgsxERGwb",
        "PByit2qGRlZT",
        "_HBoa0S2cW0l",
        "BA3XKWLFfKMm",
        "ty3fTdVejTDy",
        "KoWjvyYRlYA5"
      ],
      "authorship_tag": "ABX9TyMk32hgpEmPI3FwQ9qjdlTz",
      "include_colab_link": true
    },
    "kernelspec": {
      "name": "python3",
      "display_name": "Python 3"
    },
    "language_info": {
      "name": "python"
    }
  },
  "cells": [
    {
      "cell_type": "markdown",
      "metadata": {
        "id": "view-in-github",
        "colab_type": "text"
      },
      "source": [
        "<a href=\"https://colab.research.google.com/github/zolfaShefreie/Spark_ML/blob/main/sparkML_customerChurn.ipynb\" target=\"_parent\"><img src=\"https://colab.research.google.com/assets/colab-badge.svg\" alt=\"Open In Colab\"/></a>"
      ]
    },
    {
      "cell_type": "markdown",
      "source": [
        "#download dataset"
      ],
      "metadata": {
        "id": "StVP6FLRxeF7"
      }
    },
    {
      "cell_type": "code",
      "source": [
        "import requests"
      ],
      "metadata": {
        "id": "JeT_M5FPxhpK"
      },
      "execution_count": 1,
      "outputs": []
    },
    {
      "cell_type": "code",
      "source": [
        "customer_url = 'https://raw.githubusercontent.com/zolfaShefreie/Spark_ML/main/data.csv'\n",
        "customer_file_path = \"data.csv\""
      ],
      "metadata": {
        "id": "D3z58BXExtSC"
      },
      "execution_count": 2,
      "outputs": []
    },
    {
      "cell_type": "code",
      "source": [
        "def download_file(url: str, file_path):\n",
        "  \"\"\"\n",
        "  download file and save on file path\n",
        "  \"\"\"\n",
        "  file_content = requests.get(url).text\n",
        "  file = open(file_path, 'w')\n",
        "  file.write(file_content)\n",
        "  file.close()"
      ],
      "metadata": {
        "id": "zcQN5FNCx9h0"
      },
      "execution_count": 3,
      "outputs": []
    },
    {
      "cell_type": "code",
      "source": [
        "download_file(customer_url, customer_file_path)"
      ],
      "metadata": {
        "id": "5z3fG7YDyAYr"
      },
      "execution_count": 4,
      "outputs": []
    },
    {
      "cell_type": "markdown",
      "source": [
        "#pyspark setup"
      ],
      "metadata": {
        "id": "F2Qk25mEyHRn"
      }
    },
    {
      "cell_type": "code",
      "source": [
        "!pip install pyspark"
      ],
      "metadata": {
        "colab": {
          "base_uri": "https://localhost:8080/"
        },
        "id": "a-Dnf1LvyLtW",
        "outputId": "d996094d-a78a-4d7f-df33-8ad3130a655a"
      },
      "execution_count": 5,
      "outputs": [
        {
          "output_type": "stream",
          "name": "stdout",
          "text": [
            "Looking in indexes: https://pypi.org/simple, https://us-python.pkg.dev/colab-wheels/public/simple/\n",
            "Collecting pyspark\n",
            "  Downloading pyspark-3.2.1.tar.gz (281.4 MB)\n",
            "\u001b[K     |████████████████████████████████| 281.4 MB 29 kB/s \n",
            "\u001b[?25hCollecting py4j==0.10.9.3\n",
            "  Downloading py4j-0.10.9.3-py2.py3-none-any.whl (198 kB)\n",
            "\u001b[K     |████████████████████████████████| 198 kB 63.7 MB/s \n",
            "\u001b[?25hBuilding wheels for collected packages: pyspark\n",
            "  Building wheel for pyspark (setup.py) ... \u001b[?25l\u001b[?25hdone\n",
            "  Created wheel for pyspark: filename=pyspark-3.2.1-py2.py3-none-any.whl size=281853642 sha256=144d3c473f1d588133284606cfd55175fe2addb94864bf6b7efa9b5c189e9b50\n",
            "  Stored in directory: /root/.cache/pip/wheels/9f/f5/07/7cd8017084dce4e93e84e92efd1e1d5334db05f2e83bcef74f\n",
            "Successfully built pyspark\n",
            "Installing collected packages: py4j, pyspark\n",
            "Successfully installed py4j-0.10.9.3 pyspark-3.2.1\n"
          ]
        }
      ]
    },
    {
      "cell_type": "code",
      "source": [
        "import pyspark\n",
        "from pyspark.sql import SparkSession"
      ],
      "metadata": {
        "id": "pPdVNz1jyZtR"
      },
      "execution_count": 6,
      "outputs": []
    },
    {
      "cell_type": "code",
      "source": [
        "spark = SparkSession.builder.appName('spark_ml').getOrCreate()\n",
        "sc = spark.sparkContext"
      ],
      "metadata": {
        "id": "faIplgpjycNJ"
      },
      "execution_count": 7,
      "outputs": []
    },
    {
      "cell_type": "markdown",
      "source": [
        "#imports"
      ],
      "metadata": {
        "id": "GvnBtGfD01PO"
      }
    },
    {
      "cell_type": "code",
      "source": [
        "import matplotlib.pyplot as plt\n",
        "import seaborn as sns\n",
        "import numpy as np"
      ],
      "metadata": {
        "id": "5tNOOW4qrDQk"
      },
      "execution_count": 272,
      "outputs": []
    },
    {
      "cell_type": "code",
      "source": [
        "from pyspark.sql.functions import col,isnan, when, count\n",
        "from pyspark.ml.feature import MinMaxScaler\n",
        "from pyspark.ml.feature import OneHotEncoder, StringIndexer, VectorAssembler\n",
        "from pyspark.ml import Pipeline\n",
        "from pyspark.sql.functions import udf\n",
        "from pyspark.sql.types import DoubleType\n",
        "from pyspark.ml.classification import LogisticRegression\n",
        "from pyspark.ml.evaluation import BinaryClassificationEvaluator\n",
        "from pyspark.ml.stat import Correlation"
      ],
      "metadata": {
        "id": "eTDBjdnW03GQ"
      },
      "execution_count": 252,
      "outputs": []
    },
    {
      "cell_type": "markdown",
      "source": [
        "#load data"
      ],
      "metadata": {
        "id": "Cla6SkjIymIl"
      }
    },
    {
      "cell_type": "code",
      "source": [
        "df = spark.read.csv(customer_file_path, inferSchema=True, header=True)"
      ],
      "metadata": {
        "id": "6YivWD58yo4j"
      },
      "execution_count": 10,
      "outputs": []
    },
    {
      "cell_type": "code",
      "source": [
        "df.printSchema()"
      ],
      "metadata": {
        "colab": {
          "base_uri": "https://localhost:8080/"
        },
        "id": "nmiAsiBgznEl",
        "outputId": "0e87ba1e-e63e-46d4-a6be-0d37860eefde"
      },
      "execution_count": 11,
      "outputs": [
        {
          "output_type": "stream",
          "name": "stdout",
          "text": [
            "root\n",
            " |-- customerID: string (nullable = true)\n",
            " |-- gender: string (nullable = true)\n",
            " |-- SeniorCitizen: double (nullable = true)\n",
            " |-- Partner: string (nullable = true)\n",
            " |-- Dependents: string (nullable = true)\n",
            " |-- tenure: double (nullable = true)\n",
            " |-- PhoneService: string (nullable = true)\n",
            " |-- MultipleLines: string (nullable = true)\n",
            " |-- InternetService: string (nullable = true)\n",
            " |-- OnlineSecurity: string (nullable = true)\n",
            " |-- OnlineBackup: string (nullable = true)\n",
            " |-- DeviceProtection: string (nullable = true)\n",
            " |-- TechSupport: string (nullable = true)\n",
            " |-- StreamingTV: string (nullable = true)\n",
            " |-- StreamingMovies: string (nullable = true)\n",
            " |-- Contract: string (nullable = true)\n",
            " |-- PaperlessBilling: string (nullable = true)\n",
            " |-- PaymentMethod: string (nullable = true)\n",
            " |-- MonthlyCharges: double (nullable = true)\n",
            " |-- TotalCharges: double (nullable = true)\n",
            " |-- Label: string (nullable = true)\n",
            "\n"
          ]
        }
      ]
    },
    {
      "cell_type": "markdown",
      "source": [
        "#Analyse data"
      ],
      "metadata": {
        "id": "3bxc16VBPAjN"
      }
    },
    {
      "cell_type": "markdown",
      "source": [
        "##basics"
      ],
      "metadata": {
        "id": "TK4T50e7qp6V"
      }
    },
    {
      "cell_type": "markdown",
      "source": [
        "تعداد‌ها به تعداد سطر‌های کل دیتافریم نمی‌خوره"
      ],
      "metadata": {
        "id": "zNk1JAGE3-Jx"
      }
    },
    {
      "cell_type": "code",
      "source": [
        "df.summary().show()"
      ],
      "metadata": {
        "colab": {
          "base_uri": "https://localhost:8080/"
        },
        "id": "Fog33jpT0siJ",
        "outputId": "b2e2effe-903f-4b3d-9ef9-41c1e577a25c"
      },
      "execution_count": 12,
      "outputs": [
        {
          "output_type": "stream",
          "name": "stdout",
          "text": [
            "+-------+----------+------+-------------------+-------+----------+-----------------+------------+-------------+---------------+--------------+------------+----------------+-----------+-----------+---------------+--------------+----------------+--------------------+------------------+------------------+------+\n",
            "|summary|customerID|gender|      SeniorCitizen|Partner|Dependents|           tenure|PhoneService|MultipleLines|InternetService|OnlineSecurity|OnlineBackup|DeviceProtection|TechSupport|StreamingTV|StreamingMovies|      Contract|PaperlessBilling|       PaymentMethod|    MonthlyCharges|      TotalCharges| Label|\n",
            "+-------+----------+------+-------------------+-------+----------+-----------------+------------+-------------+---------------+--------------+------------+----------------+-----------+-----------+---------------+--------------+----------------+--------------------+------------------+------------------+------+\n",
            "|  count|    229737|229755|             229724| 229765|    229748|           229765|      229721|       229727|         229760|        229760|      229747|          229736|     229726|     229741|         229771|        229760|          229733|              229744|            229747|            229739|229782|\n",
            "|   mean|      null|  null|0.21505371663387368|   null|      null|49.43501838835332|        null|         null|           null|          null|        null|            null|       null|       null|           null|          null|            null|                null|126.33354646633663|3700.3237047256403|  null|\n",
            "| stddev|      null|  null| 0.8971977539088777|   null|      null|36.63299614293801|        null|         null|           null|          null|        null|            null|       null|       null|           null|          null|            null|                null| 856.9228133633615|2326.0362634043245|  null|\n",
            "|    min|0002-ORFBO|Female|                0.0|     No|        No|           -598.0|          No|           No|            DSL|            No|          No|              No|         No|         No|             No|Month-to-month|              No|Bank transfer (au...|             18.25|              18.8|    No|\n",
            "|    25%|      null|  null|                0.0|   null|      null|             37.0|        null|         null|           null|          null|        null|            null|       null|       null|           null|          null|            null|                null|              45.2|           1502.25|  null|\n",
            "|    50%|      null|  null|                0.0|   null|      null|             56.0|        null|         null|           null|          null|        null|            null|       null|       null|           null|          null|            null|                null|             78.95|            3533.6|  null|\n",
            "|    75%|      null|  null|                0.0|   null|      null|             68.0|        null|         null|           null|          null|        null|            null|       null|       null|           null|          null|            null|                null|              97.0|            5676.0|  null|\n",
            "|    max|9995-HOTOH|  Male|               17.0|    Yes|       Yes|             72.0|         Yes|          Yes|             No|           Yes|         Yes|             Yes|        Yes|        Yes|            Yes|      Two year|             Yes|        Mailed check|           14990.0|            8684.8|   Yes|\n",
            "+-------+----------+------+-------------------+-------+----------+-----------------+------------+-------------+---------------+--------------+------------+----------------+-----------+-----------+---------------+--------------+----------------+--------------------+------------------+------------------+------+\n",
            "\n"
          ]
        }
      ]
    },
    {
      "cell_type": "code",
      "source": [
        "df.count()"
      ],
      "metadata": {
        "colab": {
          "base_uri": "https://localhost:8080/"
        },
        "id": "4K-B7v123fRZ",
        "outputId": "f2654953-6530-4dd8-c00a-5c5cbb2f1651"
      },
      "execution_count": 13,
      "outputs": [
        {
          "output_type": "execute_result",
          "data": {
            "text/plain": [
              "229990"
            ]
          },
          "metadata": {},
          "execution_count": 13
        }
      ]
    },
    {
      "cell_type": "markdown",
      "source": [
        "شمردن نال‌ها"
      ],
      "metadata": {
        "id": "-3ySSyFe4LMT"
      }
    },
    {
      "cell_type": "code",
      "source": [
        "df.select([count(when(isnan(c) | col(c).isNull(), c)).alias(c) for c in df.columns]).show()"
      ],
      "metadata": {
        "colab": {
          "base_uri": "https://localhost:8080/"
        },
        "id": "Yg9k5wU82TUp",
        "outputId": "a41c9a6c-f42d-48a6-f3db-7b7de376fa88"
      },
      "execution_count": 14,
      "outputs": [
        {
          "output_type": "stream",
          "name": "stdout",
          "text": [
            "+----------+------+-------------+-------+----------+------+------------+-------------+---------------+--------------+------------+----------------+-----------+-----------+---------------+--------+----------------+-------------+--------------+------------+-----+\n",
            "|customerID|gender|SeniorCitizen|Partner|Dependents|tenure|PhoneService|MultipleLines|InternetService|OnlineSecurity|OnlineBackup|DeviceProtection|TechSupport|StreamingTV|StreamingMovies|Contract|PaperlessBilling|PaymentMethod|MonthlyCharges|TotalCharges|Label|\n",
            "+----------+------+-------------+-------+----------+------+------------+-------------+---------------+--------------+------------+----------------+-----------+-----------+---------------+--------+----------------+-------------+--------------+------------+-----+\n",
            "|       253|   235|          266|    225|       242|   225|         269|          263|            230|           230|         243|             254|        264|        249|            219|     230|             257|          246|           243|         251|  208|\n",
            "+----------+------+-------------+-------+----------+------+------------+-------------+---------------+--------------+------------+----------------+-----------+-----------+---------------+--------+----------------+-------------+--------------+------------+-----+\n",
            "\n"
          ]
        }
      ]
    },
    {
      "cell_type": "code",
      "source": [
        "categorical_cols = {'gender', 'Partner', 'Dependents', 'PhoneService', \n",
        "                    'MultipleLines', 'InternetService', 'OnlineSecurity', \n",
        "                    'OnlineBackup', 'DeviceProtection', 'TechSupport', \n",
        "                    'StreamingTV', 'StreamingMovies', 'PaperlessBilling', \n",
        "                    'PaymentMethod', 'Label', \"Contract\"}"
      ],
      "metadata": {
        "id": "M7d4BjcbYq_1"
      },
      "execution_count": 254,
      "outputs": []
    },
    {
      "cell_type": "code",
      "source": [
        "stages = list()\n",
        "for col in categorical_cols:\n",
        "    string_indexer = StringIndexer(inputCol=col, outputCol=col+\"Index\")\n",
        "    one_hot = OneHotEncoder(inputCols=[string_indexer.getOutputCol()], outputCols=[col+'CVect'])\n",
        "    stages += [string_indexer, one_hot]\n",
        "\n",
        "pipeline = Pipeline(stages=stages)\n",
        "normalized_model = pipeline.fit(df)\n",
        "df2 = normalized_model.transform(df)"
      ],
      "metadata": {
        "id": "f7ViiqPBYwEe"
      },
      "execution_count": 258,
      "outputs": []
    },
    {
      "cell_type": "code",
      "source": [
        "vector_col = \"corr_features\"\n",
        "columns = [col+\"CVect\" for col in categorical_cols] + ['tenure', 'SeniorCitizen', 'MonthlyCharges', 'TotalCharges']\n",
        "assembler = VectorAssembler(inputCols=columns, outputCol=vector_col)\n",
        "df_vector = assembler.transform(df2).select(vector_col)\n",
        "matrix = Correlation.corr(df_vector, vector_col)"
      ],
      "metadata": {
        "colab": {
          "base_uri": "https://localhost:8080/"
        },
        "id": "Sp5PBN1mYRXC",
        "outputId": "397a3ee0-e173-48e8-a9f8-ffcdb42e1b14"
      },
      "execution_count": 259,
      "outputs": [
        {
          "output_type": "stream",
          "name": "stderr",
          "text": [
            "/usr/local/lib/python3.7/dist-packages/pyspark/sql/context.py:127: FutureWarning: Deprecated in 3.0.0. Use SparkSession.builder.getOrCreate() instead.\n",
            "  FutureWarning\n"
          ]
        }
      ]
    },
    {
      "cell_type": "code",
      "source": [
        "corr = matrix.collect()[0][matrix.columns[0]].toArray()\n",
        "sns.heatmap(corr, \n",
        "            xticklabels=columns,\n",
        "            yticklabels=columns)"
      ],
      "metadata": {
        "colab": {
          "base_uri": "https://localhost:8080/",
          "height": 391
        },
        "id": "fLoWPBe-eyT4",
        "outputId": "767823fa-2cbd-4aaa-9942-519cfbb41533"
      },
      "execution_count": 273,
      "outputs": [
        {
          "output_type": "execute_result",
          "data": {
            "text/plain": [
              "<matplotlib.axes._subplots.AxesSubplot at 0x7f13211fba10>"
            ]
          },
          "metadata": {},
          "execution_count": 273
        },
        {
          "output_type": "display_data",
          "data": {
            "text/plain": [
              "<Figure size 432x288 with 2 Axes>"
            ],
            "image/png": "[encoded data removed]"
          },
          "metadata": {
            "needs_background": "light"
          }
        }
      ]
    },
    {
      "cell_type": "markdown",
      "source": [
        "##relation between seniorCitizen and phone and internet service"
      ],
      "metadata": {
        "id": "ekcxzzTsQDLy"
      }
    },
    {
      "cell_type": "markdown",
      "source": [
        "طبق نام ستون این ستون برای نشان دادن اینکه این فرد سالخورده است یا نه اما مقادیر ۱۴ و ۱۷ برای آن اشتباه است"
      ],
      "metadata": {
        "id": "lYa9Ly58R3CV"
      }
    },
    {
      "cell_type": "code",
      "source": [
        "df.select('SeniorCitizen').groupBy('SeniorCitizen').count().show()"
      ],
      "metadata": {
        "colab": {
          "base_uri": "https://localhost:8080/"
        },
        "id": "yMvtReOsQub1",
        "outputId": "a92f659b-593e-4e89-8757-6addaae18917"
      },
      "execution_count": 15,
      "outputs": [
        {
          "output_type": "stream",
          "name": "stdout",
          "text": [
            "+-------------+------+\n",
            "|SeniorCitizen| count|\n",
            "+-------------+------+\n",
            "|          0.0|190739|\n",
            "|         null|   266|\n",
            "|          1.0| 38185|\n",
            "|         14.0|   794|\n",
            "|         17.0|     6|\n",
            "+-------------+------+\n",
            "\n"
          ]
        }
      ]
    },
    {
      "cell_type": "markdown",
      "source": [
        "حدس: بیشتر افراد سالخورده سرویس موبایل و یا سرویس اینترنت ندارند. طبق نتایج پایین حدس رد شد."
      ],
      "metadata": {
        "id": "tuop8aBnT8zl"
      }
    },
    {
      "cell_type": "code",
      "source": [
        "df.select(['SeniorCitizen', 'PhoneService']).\\\n",
        "filter((df.SeniorCitizen == 1) | (df.SeniorCitizen == 0)).\\\n",
        "groupBy(['SeniorCitizen', 'PhoneService']).count().show()"
      ],
      "metadata": {
        "colab": {
          "base_uri": "https://localhost:8080/"
        },
        "id": "mWDUSOZTPCyL",
        "outputId": "a3fc30a8-d8c9-43eb-9100-7ac09936851c"
      },
      "execution_count": 16,
      "outputs": [
        {
          "output_type": "stream",
          "name": "stdout",
          "text": [
            "+-------------+------------+------+\n",
            "|SeniorCitizen|PhoneService| count|\n",
            "+-------------+------------+------+\n",
            "|          0.0|        null|   142|\n",
            "|          1.0|        null|    42|\n",
            "|          1.0|         Yes| 34867|\n",
            "|          0.0|          No| 18416|\n",
            "|          1.0|          No|  3276|\n",
            "|          0.0|         Yes|172181|\n",
            "+-------------+------------+------+\n",
            "\n"
          ]
        }
      ]
    },
    {
      "cell_type": "code",
      "source": [
        "df.select(['SeniorCitizen', 'InternetService']).\\\n",
        "filter((df.SeniorCitizen == 1) | (df.SeniorCitizen == 0)).\\\n",
        "groupBy(['SeniorCitizen', 'InternetService']).count().show()"
      ],
      "metadata": {
        "colab": {
          "base_uri": "https://localhost:8080/"
        },
        "id": "YFoFv304UkFK",
        "outputId": "a24fb161-98d0-496b-f70f-98bd53da8b64"
      },
      "execution_count": 17,
      "outputs": [
        {
          "output_type": "stream",
          "name": "stdout",
          "text": [
            "+-------------+---------------+-----+\n",
            "|SeniorCitizen|InternetService|count|\n",
            "+-------------+---------------+-----+\n",
            "|          0.0|           null|  127|\n",
            "|          0.0|    Fiber optic|74959|\n",
            "|          1.0|           null|   26|\n",
            "|          1.0|    Fiber optic|27215|\n",
            "|          0.0|             No|44578|\n",
            "|          1.0|            DSL| 8807|\n",
            "|          1.0|             No| 2137|\n",
            "|          0.0|            DSL|71075|\n",
            "+-------------+---------------+-----+\n",
            "\n"
          ]
        }
      ]
    },
    {
      "cell_type": "markdown",
      "source": [
        "کسانی که سرویس موبایل ندارند سرویس اینترنت فیبر ندارند بااینکه مقادیری نال می‌باشد ولی می‌توان نتیجه گرفت کسانی که سرویس موبایل ندارند حتما سرویس اینترنت دارند و کسانی که سرویس اینترنت ندارند حتما سرویس موبایل دارند."
      ],
      "metadata": {
        "id": "hDoMXZIOV5LP"
      }
    },
    {
      "cell_type": "code",
      "source": [
        "df.select(['PhoneService', 'InternetService']).\\\n",
        "groupBy(['PhoneService', 'InternetService']).count().show()"
      ],
      "metadata": {
        "colab": {
          "base_uri": "https://localhost:8080/"
        },
        "id": "hJZAmBU3VUBZ",
        "outputId": "0f4c827e-2b39-4c07-b00a-85772fe3091f"
      },
      "execution_count": 18,
      "outputs": [
        {
          "output_type": "stream",
          "name": "stdout",
          "text": [
            "+------------+---------------+------+\n",
            "|PhoneService|InternetService| count|\n",
            "+------------+---------------+------+\n",
            "|          No|            DSL| 21773|\n",
            "|        null|           null|    73|\n",
            "|         Yes|             No| 46859|\n",
            "|        null|    Fiber optic|    78|\n",
            "|         Yes|            DSL| 58290|\n",
            "|        null|             No|    58|\n",
            "|          No|           null|    44|\n",
            "|         Yes|           null|   113|\n",
            "|         Yes|    Fiber optic|102642|\n",
            "|        null|            DSL|    60|\n",
            "+------------+---------------+------+\n",
            "\n"
          ]
        }
      ]
    },
    {
      "cell_type": "markdown",
      "source": [
        "##relation between PhoneService and MultipleLines"
      ],
      "metadata": {
        "id": "F3MgW4W4XOKz"
      }
    },
    {
      "cell_type": "markdown",
      "source": [
        "اگر شخصی سرویس موبایل نداشته باشد باید در این دو ستون یکسان ثبت شود بنابراین نال‌ها به راحتی پر می‌شوند و حالت نقض هم وجود ندارد"
      ],
      "metadata": {
        "id": "WIl3FaGBXs0K"
      }
    },
    {
      "cell_type": "markdown",
      "source": [
        "بیشتر افرادی که سرویس موبایل دارند چند خطه‌اند."
      ],
      "metadata": {
        "id": "_K2LpcpeX74c"
      }
    },
    {
      "cell_type": "code",
      "source": [
        "df.select(['MultipleLines', 'PhoneService']).groupBy(['MultipleLines', 'PhoneService']).count().show()"
      ],
      "metadata": {
        "colab": {
          "base_uri": "https://localhost:8080/"
        },
        "id": "rboBljTiXY2J",
        "outputId": "253e11e3-e536-4b57-8862-777f0f8e76ba"
      },
      "execution_count": 19,
      "outputs": [
        {
          "output_type": "stream",
          "name": "stdout",
          "text": [
            "+----------------+------------+------+\n",
            "|   MultipleLines|PhoneService| count|\n",
            "+----------------+------------+------+\n",
            "|No phone service|        null|    44|\n",
            "|No phone service|          No| 21773|\n",
            "|             Yes|         Yes|125337|\n",
            "|            null|        null|    79|\n",
            "|              No|        null|    80|\n",
            "|            null|          No|    44|\n",
            "|            null|         Yes|   140|\n",
            "|             Yes|        null|    66|\n",
            "|              No|         Yes| 82427|\n",
            "+----------------+------------+------+\n",
            "\n"
          ]
        }
      ]
    },
    {
      "cell_type": "markdown",
      "source": [
        "## relation between InternetService and columns that looks need internet service"
      ],
      "metadata": {
        "id": "nMmUaFCgZIkq"
      }
    },
    {
      "cell_type": "code",
      "source": [
        "internet_count=df.select('InternetService').groupBy('InternetService').count().withColumn('total_count', col('count')).drop('count')\n",
        "internet_count.show()"
      ],
      "metadata": {
        "colab": {
          "base_uri": "https://localhost:8080/"
        },
        "id": "6gZCamHabhtP",
        "outputId": "da776856-d645-4f29-d4af-4da70658030e"
      },
      "execution_count": 20,
      "outputs": [
        {
          "output_type": "stream",
          "name": "stdout",
          "text": [
            "+---------------+-----------+\n",
            "|InternetService|total_count|\n",
            "+---------------+-----------+\n",
            "|           null|        230|\n",
            "|    Fiber optic|     102720|\n",
            "|             No|      46917|\n",
            "|            DSL|      80123|\n",
            "+---------------+-----------+\n",
            "\n"
          ]
        }
      ]
    },
    {
      "cell_type": "markdown",
      "source": [
        "طبق نتایج زیر برخی از نال ها مربوط به نداشتن سرویس اینترنت می‌توانند پر شوند.<br/>\n",
        "بیشتر افرادی که دی اس ال دارند امنیت دارند و بیشتر افرادی که فیبر دارند امنیت ندارند. "
      ],
      "metadata": {
        "id": "pVf5OOlLabgE"
      }
    },
    {
      "cell_type": "code",
      "source": [
        "df.select(['InternetService', 'OnlineSecurity']).groupBy(['InternetService', 'OnlineSecurity']).count().show()"
      ],
      "metadata": {
        "colab": {
          "base_uri": "https://localhost:8080/"
        },
        "id": "6QVIhlmHZyTL",
        "outputId": "9d8148b2-1888-483a-9fff-090633486d0f"
      },
      "execution_count": 21,
      "outputs": [
        {
          "output_type": "stream",
          "name": "stdout",
          "text": [
            "+---------------+-------------------+-----+\n",
            "|InternetService|     OnlineSecurity|count|\n",
            "+---------------+-------------------+-----+\n",
            "|            DSL|                Yes|51003|\n",
            "|    Fiber optic|                Yes|40755|\n",
            "|           null|               null|   65|\n",
            "|    Fiber optic|               null|   61|\n",
            "|             No|No internet service|46869|\n",
            "|           null|                 No|   72|\n",
            "|             No|               null|   48|\n",
            "|           null|                Yes|   42|\n",
            "|    Fiber optic|                 No|61904|\n",
            "|            DSL|               null|   56|\n",
            "|            DSL|                 No|29064|\n",
            "|           null|No internet service|   51|\n",
            "+---------------+-------------------+-----+\n",
            "\n"
          ]
        }
      ]
    },
    {
      "cell_type": "code",
      "source": [
        "df.select(['InternetService', 'OnlineSecurity']).\\\n",
        "groupBy(['InternetService', 'OnlineSecurity']).count().\\\n",
        "join(internet_count, ['InternetService']).\\\n",
        "withColumn('percent', col('count')*100/col('total_count')).\\\n",
        "show()"
      ],
      "metadata": {
        "colab": {
          "base_uri": "https://localhost:8080/"
        },
        "id": "ReHkje-Pb714",
        "outputId": "f86eb308-c933-48ad-fa53-523cdb12f47c"
      },
      "execution_count": 22,
      "outputs": [
        {
          "output_type": "stream",
          "name": "stdout",
          "text": [
            "+---------------+-------------------+-----+-----------+-------------------+\n",
            "|InternetService|     OnlineSecurity|count|total_count|            percent|\n",
            "+---------------+-------------------+-----+-----------+-------------------+\n",
            "|    Fiber optic|                 No|61904|     102720|  60.26479750778816|\n",
            "|    Fiber optic|               null|   61|     102720|0.05938473520249221|\n",
            "|    Fiber optic|                Yes|40755|     102720|  39.67581775700935|\n",
            "|             No|               null|   48|      46917|0.10230833173476565|\n",
            "|             No|No internet service|46869|      46917|  99.89769166826524|\n",
            "|            DSL|                 No|29064|      80123|  36.27422837387517|\n",
            "|            DSL|               null|   56|      80123|0.06989254021941266|\n",
            "|            DSL|                Yes|51003|      80123|  63.65587908590542|\n",
            "+---------------+-------------------+-----+-----------+-------------------+\n",
            "\n"
          ]
        }
      ]
    },
    {
      "cell_type": "markdown",
      "source": [
        "نال‌های مربوط به نداشتن سرویس اینترنتی راحت پر می‌شوند. بیشتر افراد بک‌آپ دارند. با نسبت ۶۰ به ۴۰ که برای هر دو نوع صدق می‌کند "
      ],
      "metadata": {
        "id": "VPIQccR6bWUV"
      }
    },
    {
      "cell_type": "code",
      "source": [
        "df.select(['InternetService', 'OnlineBackup']).groupBy(['InternetService', 'OnlineBackup']).count().show()"
      ],
      "metadata": {
        "colab": {
          "base_uri": "https://localhost:8080/"
        },
        "id": "nmcw3wPla13o",
        "outputId": "34ccc096-2948-4a3c-dd2e-422469872c78"
      },
      "execution_count": 23,
      "outputs": [
        {
          "output_type": "stream",
          "name": "stdout",
          "text": [
            "+---------------+-------------------+-----+\n",
            "|InternetService|       OnlineBackup|count|\n",
            "+---------------+-------------------+-----+\n",
            "|            DSL|                Yes|47760|\n",
            "|    Fiber optic|                Yes|61407|\n",
            "|           null|               null|   78|\n",
            "|    Fiber optic|               null|   61|\n",
            "|             No|No internet service|46868|\n",
            "|           null|                 No|   63|\n",
            "|             No|               null|   49|\n",
            "|           null|                Yes|   41|\n",
            "|    Fiber optic|                 No|41252|\n",
            "|            DSL|               null|   55|\n",
            "|            DSL|                 No|32308|\n",
            "|           null|No internet service|   48|\n",
            "+---------------+-------------------+-----+\n",
            "\n"
          ]
        }
      ]
    },
    {
      "cell_type": "code",
      "source": [
        "df.select(['InternetService', 'OnlineBackup']).\\\n",
        "groupBy(['InternetService', 'OnlineBackup']).count().\\\n",
        "join(internet_count, ['InternetService']).\\\n",
        "withColumn('percent', col('count')*100/col('total_count')).\\\n",
        "show()"
      ],
      "metadata": {
        "colab": {
          "base_uri": "https://localhost:8080/"
        },
        "id": "AxicpEuZfIov",
        "outputId": "d9f4bc54-a4b9-410b-93b3-8002e5562ca4"
      },
      "execution_count": 24,
      "outputs": [
        {
          "output_type": "stream",
          "name": "stdout",
          "text": [
            "+---------------+-------------------+-----+-----------+-------------------+\n",
            "|InternetService|       OnlineBackup|count|total_count|            percent|\n",
            "+---------------+-------------------+-----+-----------+-------------------+\n",
            "|    Fiber optic|                 No|41252|     102720|  40.15965732087228|\n",
            "|    Fiber optic|               null|   61|     102720|0.05938473520249221|\n",
            "|    Fiber optic|                Yes|61407|     102720|  59.78095794392523|\n",
            "|             No|               null|   49|      46917|0.10443975531257327|\n",
            "|             No|No internet service|46868|      46917|  99.89556024468743|\n",
            "|            DSL|                 No|32308|      80123|  40.32300338229972|\n",
            "|            DSL|               null|   55|      80123|  0.068644459144066|\n",
            "|            DSL|                Yes|47760|      80123|  59.60835215855622|\n",
            "+---------------+-------------------+-----+-----------+-------------------+\n",
            "\n"
          ]
        }
      ]
    },
    {
      "cell_type": "markdown",
      "source": [
        "بیشتر افراد بک آپ دارند پس بهتر از مقادیر نال با استفاده از مد پر شود (به جز دسته‌ی ذکر شده)"
      ],
      "metadata": {
        "id": "SscTjOazf7M-"
      }
    },
    {
      "cell_type": "code",
      "source": [
        "df.select('OnlineBackup').groupBy('OnlineBackup').count().withColumn('percent', col('count')*100/df.count()).show()"
      ],
      "metadata": {
        "colab": {
          "base_uri": "https://localhost:8080/"
        },
        "id": "Wt_pYQlUfdUo",
        "outputId": "f464f17f-ecca-4856-80b4-f6f29a84f8bd"
      },
      "execution_count": 25,
      "outputs": [
        {
          "output_type": "stream",
          "name": "stdout",
          "text": [
            "+-------------------+------+-------------------+\n",
            "|       OnlineBackup| count|            percent|\n",
            "+-------------------+------+-------------------+\n",
            "|               null|   243|0.10565676768555154|\n",
            "|                 No| 73623|  32.01139179964346|\n",
            "|                Yes|109208| 47.483803643636676|\n",
            "|No internet service| 46916| 20.399147789034306|\n",
            "+-------------------+------+-------------------+\n",
            "\n"
          ]
        }
      ]
    },
    {
      "cell_type": "markdown",
      "source": [
        "نتایج مانند مورد قبلی"
      ],
      "metadata": {
        "id": "kZUMH1IwguNZ"
      }
    },
    {
      "cell_type": "code",
      "source": [
        "df.select(['InternetService', 'DeviceProtection']).groupBy(['InternetService', 'DeviceProtection']).count().show()"
      ],
      "metadata": {
        "colab": {
          "base_uri": "https://localhost:8080/"
        },
        "id": "i157-t17buSY",
        "outputId": "d8126b8d-b451-4938-9f23-e44a7c5854cb"
      },
      "execution_count": 26,
      "outputs": [
        {
          "output_type": "stream",
          "name": "stdout",
          "text": [
            "+---------------+-------------------+-----+\n",
            "|InternetService|   DeviceProtection|count|\n",
            "+---------------+-------------------+-----+\n",
            "|            DSL|                Yes|48552|\n",
            "|    Fiber optic|                Yes|60058|\n",
            "|           null|               null|   76|\n",
            "|    Fiber optic|               null|   68|\n",
            "|             No|No internet service|46866|\n",
            "|             No|               null|   51|\n",
            "|           null|                 No|   75|\n",
            "|           null|                Yes|   35|\n",
            "|    Fiber optic|                 No|42594|\n",
            "|            DSL|               null|   59|\n",
            "|            DSL|                 No|31512|\n",
            "|           null|No internet service|   44|\n",
            "+---------------+-------------------+-----+\n",
            "\n"
          ]
        }
      ]
    },
    {
      "cell_type": "code",
      "source": [
        "df.select('DeviceProtection').groupBy('DeviceProtection').count().withColumn('percent', col('count')*100/df.count()).show()"
      ],
      "metadata": {
        "colab": {
          "base_uri": "https://localhost:8080/"
        },
        "id": "hl3Y4A2egn_h",
        "outputId": "1f9cdd08-40b5-4378-b147-07733f52d1f6"
      },
      "execution_count": 27,
      "outputs": [
        {
          "output_type": "stream",
          "name": "stdout",
          "text": [
            "+-------------------+------+-------------------+\n",
            "|   DeviceProtection| count|            percent|\n",
            "+-------------------+------+-------------------+\n",
            "|               null|   254|0.11043958432975347|\n",
            "|                 No| 74181| 32.254011043958435|\n",
            "|                Yes|108645|  47.23901039175616|\n",
            "|No internet service| 46910|  20.39653897995565|\n",
            "+-------------------+------+-------------------+\n",
            "\n"
          ]
        }
      ]
    },
    {
      "cell_type": "markdown",
      "source": [
        "بیشتر افرادی که دی اس ال دارند تک ساپورت دارند ولی سایر افراد که فیبر دارند دارای تک ساپورت نیستند"
      ],
      "metadata": {
        "id": "R9P_qqESg9gO"
      }
    },
    {
      "cell_type": "code",
      "source": [
        "df.select(['InternetService', 'TechSupport']).groupBy(['InternetService', 'TechSupport']).count().show()"
      ],
      "metadata": {
        "colab": {
          "base_uri": "https://localhost:8080/"
        },
        "id": "DTafgpyygx0D",
        "outputId": "8f5da239-438e-4724-e879-4c55b2c36613"
      },
      "execution_count": 28,
      "outputs": [
        {
          "output_type": "stream",
          "name": "stdout",
          "text": [
            "+---------------+-------------------+-----+\n",
            "|InternetService|        TechSupport|count|\n",
            "+---------------+-------------------+-----+\n",
            "|            DSL|                Yes|50669|\n",
            "|    Fiber optic|                Yes|41595|\n",
            "|           null|               null|   91|\n",
            "|    Fiber optic|               null|   52|\n",
            "|             No|No internet service|46860|\n",
            "|             No|               null|   57|\n",
            "|           null|                 No|   65|\n",
            "|           null|                Yes|   36|\n",
            "|    Fiber optic|                 No|61073|\n",
            "|            DSL|               null|   64|\n",
            "|            DSL|                 No|29390|\n",
            "|           null|No internet service|   38|\n",
            "+---------------+-------------------+-----+\n",
            "\n"
          ]
        }
      ]
    },
    {
      "cell_type": "markdown",
      "source": [
        "در کل به نظر می‌رسد نسبت این دو، برابر باشند بنابراین بهتر است بر اساس اینترنت سرویس پر شود"
      ],
      "metadata": {
        "id": "PqY1uNVjhRfk"
      }
    },
    {
      "cell_type": "code",
      "source": [
        "df.select('TechSupport').groupBy('TechSupport').count().withColumn('percent', col('count')*100/df.count()).show()"
      ],
      "metadata": {
        "colab": {
          "base_uri": "https://localhost:8080/"
        },
        "id": "yATrZ5UGhJwB",
        "outputId": "1725ad65-21e1-4d27-a581-bcad1e3cf568"
      },
      "execution_count": 29,
      "outputs": [
        {
          "output_type": "stream",
          "name": "stdout",
          "text": [
            "+-------------------+-----+-------------------+\n",
            "|        TechSupport|count|            percent|\n",
            "+-------------------+-----+-------------------+\n",
            "|               null|  264|0.11478759946084613|\n",
            "|                 No|90528|   39.3617113787556|\n",
            "|                Yes|92300|  40.13217965998522|\n",
            "|No internet service|46898|  20.39132136179834|\n",
            "+-------------------+-----+-------------------+\n",
            "\n"
          ]
        }
      ]
    },
    {
      "cell_type": "markdown",
      "source": [
        "طبق نتایج پایین دسته از نال ها بهتر است با مد پر شوند"
      ],
      "metadata": {
        "id": "dR3PLE-piB10"
      }
    },
    {
      "cell_type": "code",
      "source": [
        "df.select(['InternetService', 'StreamingTV']).groupBy(['InternetService', 'StreamingTV']).count().show()"
      ],
      "metadata": {
        "colab": {
          "base_uri": "https://localhost:8080/"
        },
        "id": "HHQtKL0SheRI",
        "outputId": "54f83c68-320a-4837-ce88-57bc808507b1"
      },
      "execution_count": 30,
      "outputs": [
        {
          "output_type": "stream",
          "name": "stdout",
          "text": [
            "+---------------+-------------------+-----+\n",
            "|InternetService|        StreamingTV|count|\n",
            "+---------------+-------------------+-----+\n",
            "|            DSL|                Yes|41715|\n",
            "|    Fiber optic|                Yes|70243|\n",
            "|           null|               null|   71|\n",
            "|    Fiber optic|               null|   66|\n",
            "|             No|No internet service|46870|\n",
            "|           null|                 No|   55|\n",
            "|             No|               null|   47|\n",
            "|           null|                Yes|   57|\n",
            "|    Fiber optic|                 No|32411|\n",
            "|            DSL|               null|   65|\n",
            "|            DSL|                 No|38343|\n",
            "|           null|No internet service|   47|\n",
            "+---------------+-------------------+-----+\n",
            "\n"
          ]
        }
      ]
    },
    {
      "cell_type": "code",
      "source": [
        "df.select('StreamingTV').groupBy('StreamingTV').count().withColumn('percent', col('count')*100/df.count()).show()"
      ],
      "metadata": {
        "colab": {
          "base_uri": "https://localhost:8080/"
        },
        "id": "GxvXdP_Ch06k",
        "outputId": "8539a975-709e-48ad-8a07-1ff927a9a0d8"
      },
      "execution_count": 31,
      "outputs": [
        {
          "output_type": "stream",
          "name": "stdout",
          "text": [
            "+-------------------+------+-------------------+\n",
            "|        StreamingTV| count|            percent|\n",
            "+-------------------+------+-------------------+\n",
            "|               null|   249|0.10826557676420714|\n",
            "|                 No| 70809|  30.78786034175399|\n",
            "|                Yes|112015|  48.70429149093439|\n",
            "|No internet service| 46917| 20.399582590547414|\n",
            "+-------------------+------+-------------------+\n",
            "\n"
          ]
        }
      ]
    },
    {
      "cell_type": "code",
      "source": [
        "df.select(['InternetService', 'StreamingMovies']).groupBy(['InternetService', 'StreamingMovies']).count().show()"
      ],
      "metadata": {
        "colab": {
          "base_uri": "https://localhost:8080/"
        },
        "id": "ebzY8ttBiZHE",
        "outputId": "0ae168e6-b2ad-4fcc-92e1-937ca75be632"
      },
      "execution_count": 32,
      "outputs": [
        {
          "output_type": "stream",
          "name": "stdout",
          "text": [
            "+---------------+-------------------+-----+\n",
            "|InternetService|    StreamingMovies|count|\n",
            "+---------------+-------------------+-----+\n",
            "|            DSL|                Yes|42658|\n",
            "|    Fiber optic|                Yes|70517|\n",
            "|           null|               null|   65|\n",
            "|    Fiber optic|               null|   55|\n",
            "|             No|No internet service|46866|\n",
            "|             No|               null|   51|\n",
            "|           null|                 No|   62|\n",
            "|           null|                Yes|   50|\n",
            "|    Fiber optic|                 No|32148|\n",
            "|            DSL|               null|   48|\n",
            "|            DSL|                 No|37417|\n",
            "|           null|No internet service|   53|\n",
            "+---------------+-------------------+-----+\n",
            "\n"
          ]
        }
      ]
    },
    {
      "cell_type": "code",
      "source": [
        "df.select('StreamingMovies').groupBy('StreamingMovies').count().withColumn('percent', col('count')*100/df.count()).show()"
      ],
      "metadata": {
        "colab": {
          "base_uri": "https://localhost:8080/"
        },
        "id": "pR8F16fjimWV",
        "outputId": "4ab44a90-8e9a-4748-d20a-52e2ef5293d5"
      },
      "execution_count": 33,
      "outputs": [
        {
          "output_type": "stream",
          "name": "stdout",
          "text": [
            "+-------------------+------+-------------------+\n",
            "|    StreamingMovies| count|            percent|\n",
            "+-------------------+------+-------------------+\n",
            "|               null|   219|0.09522153137092917|\n",
            "|                 No| 69627| 30.273924953258838|\n",
            "|                Yes|113225|   49.2304013217966|\n",
            "|No internet service| 46919| 20.400452193573635|\n",
            "+-------------------+------+-------------------+\n",
            "\n"
          ]
        }
      ]
    },
    {
      "cell_type": "markdown",
      "source": [
        "##relation between StreamingMovies and StreamingTV"
      ],
      "metadata": {
        "id": "YqIAxRQ7izxd"
      }
    },
    {
      "cell_type": "markdown",
      "source": [
        "رابطه‌ی خاصی دیده نشد"
      ],
      "metadata": {
        "id": "O_qbNwppjTq3"
      }
    },
    {
      "cell_type": "code",
      "source": [
        "df.select(['StreamingTV', 'StreamingMovies']).groupBy(['StreamingTV', 'StreamingMovies']).count().show()"
      ],
      "metadata": {
        "colab": {
          "base_uri": "https://localhost:8080/"
        },
        "id": "RQhKYieVi6jg",
        "outputId": "b940e9d1-18a7-4bd7-f264-f0a9e78f4e22"
      },
      "execution_count": 34,
      "outputs": [
        {
          "output_type": "stream",
          "name": "stdout",
          "text": [
            "+-------------------+-------------------+-----+\n",
            "|        StreamingTV|    StreamingMovies|count|\n",
            "+-------------------+-------------------+-----+\n",
            "|                Yes|                Yes|87531|\n",
            "|               null|               null|   72|\n",
            "|                 No|                 No|45136|\n",
            "|                Yes|                 No|24428|\n",
            "|No internet service|No internet service|46872|\n",
            "|                 No|               null|   46|\n",
            "|               null|                 No|   63|\n",
            "|               null|                Yes|   67|\n",
            "|                Yes|               null|   56|\n",
            "|                 No|                Yes|25627|\n",
            "|               null|No internet service|   47|\n",
            "|No internet service|               null|   45|\n",
            "+-------------------+-------------------+-----+\n",
            "\n"
          ]
        }
      ]
    },
    {
      "cell_type": "markdown",
      "source": [
        "##relation between OnlineSecurity and OnlineBackup and DeviceProtection"
      ],
      "metadata": {
        "id": "sdJToEa7jZBN"
      }
    },
    {
      "cell_type": "code",
      "source": [
        "df.select(['OnlineSecurity', 'OnlineBackup']).groupBy(['OnlineSecurity', 'OnlineBackup']).count().show()"
      ],
      "metadata": {
        "colab": {
          "base_uri": "https://localhost:8080/"
        },
        "id": "GjQ_YvJcjo-9",
        "outputId": "e6b445a9-d356-4c53-ecc5-4aaa8232e2d6"
      },
      "execution_count": 35,
      "outputs": [
        {
          "output_type": "stream",
          "name": "stdout",
          "text": [
            "+-------------------+-------------------+-----+\n",
            "|     OnlineSecurity|       OnlineBackup|count|\n",
            "+-------------------+-------------------+-----+\n",
            "|                Yes|                Yes|59862|\n",
            "|               null|               null|   61|\n",
            "|                 No|                 No|41668|\n",
            "|                Yes|                 No|31884|\n",
            "|No internet service|No internet service|46866|\n",
            "|                 No|               null|   74|\n",
            "|               null|                 No|   71|\n",
            "|                Yes|               null|   54|\n",
            "|               null|                Yes|   48|\n",
            "|                 No|                Yes|49298|\n",
            "|No internet service|               null|   54|\n",
            "|               null|No internet service|   50|\n",
            "+-------------------+-------------------+-----+\n",
            "\n"
          ]
        }
      ]
    },
    {
      "cell_type": "code",
      "source": [
        "df.select(['OnlineSecurity', 'DeviceProtection']).groupBy(['OnlineSecurity', 'DeviceProtection']).count().show()"
      ],
      "metadata": {
        "colab": {
          "base_uri": "https://localhost:8080/"
        },
        "id": "dXP5ZlBYmPx7",
        "outputId": "82c8af42-f00a-4673-ea79-eb8f2f61d107"
      },
      "execution_count": 36,
      "outputs": [
        {
          "output_type": "stream",
          "name": "stdout",
          "text": [
            "+-------------------+-------------------+-----+\n",
            "|     OnlineSecurity|   DeviceProtection|count|\n",
            "+-------------------+-------------------+-----+\n",
            "|                Yes|                Yes|59738|\n",
            "|               null|               null|   72|\n",
            "|                 No|                 No|42091|\n",
            "|                Yes|                 No|32014|\n",
            "|No internet service|No internet service|46860|\n",
            "|                 No|               null|   74|\n",
            "|               null|                 No|   76|\n",
            "|               null|                Yes|   32|\n",
            "|                Yes|               null|   48|\n",
            "|                 No|                Yes|48875|\n",
            "|No internet service|               null|   60|\n",
            "|               null|No internet service|   50|\n",
            "+-------------------+-------------------+-----+\n",
            "\n"
          ]
        }
      ]
    },
    {
      "cell_type": "code",
      "source": [
        "df.select(['DeviceProtection', 'OnlineBackup']).groupBy(['DeviceProtection', 'OnlineBackup']).count().show()"
      ],
      "metadata": {
        "colab": {
          "base_uri": "https://localhost:8080/"
        },
        "id": "5Zf5_XCSmelp",
        "outputId": "f2ff7ddd-f4b0-43f6-9887-530a4a5e3210"
      },
      "execution_count": 37,
      "outputs": [
        {
          "output_type": "stream",
          "name": "stdout",
          "text": [
            "+-------------------+-------------------+-----+\n",
            "|   DeviceProtection|       OnlineBackup|count|\n",
            "+-------------------+-------------------+-----+\n",
            "|                Yes|                Yes|69810|\n",
            "|               null|               null|   73|\n",
            "|                 No|                 No|34745|\n",
            "|                Yes|                 No|38802|\n",
            "|No internet service|No internet service|46858|\n",
            "|               null|                 No|   76|\n",
            "|                 No|               null|   85|\n",
            "|                Yes|               null|   33|\n",
            "|               null|                Yes|   47|\n",
            "|                 No|                Yes|39351|\n",
            "|No internet service|               null|   52|\n",
            "|               null|No internet service|   58|\n",
            "+-------------------+-------------------+-----+\n",
            "\n"
          ]
        }
      ]
    },
    {
      "cell_type": "markdown",
      "source": [
        "طبق نتایج بیشتر افراد از بین این سه مورد حداقل ۲ مورد را دارند. جایگاه بعدی برای افرادی هست که هر سه مورد را دارند جایگاه بعدی مربود به افرادی است هیچ مورد را ندارند و در آخر کسانی که فقط دیوایس پروتکشن دارند."
      ],
      "metadata": {
        "id": "r7MRegy3ndan"
      }
    },
    {
      "cell_type": "code",
      "source": [
        "df.select(['OnlineSecurity', 'OnlineBackup', 'DeviceProtection']).groupBy(['OnlineSecurity', 'OnlineBackup', 'DeviceProtection']).count().show()"
      ],
      "metadata": {
        "colab": {
          "base_uri": "https://localhost:8080/"
        },
        "id": "OFDdGl53mtKS",
        "outputId": "a0fd9a09-ab2d-4e22-e48c-8f14c12dcb46"
      },
      "execution_count": 38,
      "outputs": [
        {
          "output_type": "stream",
          "name": "stdout",
          "text": [
            "+-------------------+-------------------+-------------------+-----+\n",
            "|     OnlineSecurity|       OnlineBackup|   DeviceProtection|count|\n",
            "+-------------------+-------------------+-------------------+-----+\n",
            "|                Yes|                Yes|                 No|19014|\n",
            "|                Yes|                Yes|               null|   12|\n",
            "|                Yes|               null|                Yes|    5|\n",
            "|               null|                Yes|                Yes|   13|\n",
            "|               null|               null|               null|   22|\n",
            "|                 No|                 No|               null|   32|\n",
            "|                 No|               null|                 No|   35|\n",
            "|               null|                 No|                 No|   36|\n",
            "|               null|                Yes|                 No|   21|\n",
            "|                Yes|               null|                 No|   31|\n",
            "|                Yes|                 No|               null|   18|\n",
            "|                 No|                Yes|                Yes|28961|\n",
            "|                Yes|                Yes|                Yes|40836|\n",
            "|No internet service|               null|No internet service|   42|\n",
            "|No internet service|No internet service|               null|   48|\n",
            "|               null|No internet service|No internet service|   40|\n",
            "|                Yes|                 No|                Yes|18897|\n",
            "|                 No|                 No|                 No|21740|\n",
            "|                 No|                 No|                Yes|19896|\n",
            "|               null|                 No|               null|   26|\n",
            "+-------------------+-------------------+-------------------+-----+\n",
            "only showing top 20 rows\n",
            "\n"
          ]
        }
      ]
    },
    {
      "cell_type": "markdown",
      "source": [
        "##relation between Partner and Dependents and SeniorCitizen"
      ],
      "metadata": {
        "id": "E3YfLv7EVgTh"
      }
    },
    {
      "cell_type": "markdown",
      "source": [
        "حدس: کسی که پارنتر داره صد در صد خویشاوند نیز دارد. رد شد<br/>\n",
        "اما بیشتر کسانی که پارتنر ندارند خوشاوند هم ندارند و بیشتر کسانی که خویشاوند دارند پارتنر هم دارند "
      ],
      "metadata": {
        "id": "vmiR--MMV0RM"
      }
    },
    {
      "cell_type": "code",
      "source": [
        "df.select(['Partner', 'Dependents']).groupBy(['Partner', 'Dependents']).count().show()"
      ],
      "metadata": {
        "colab": {
          "base_uri": "https://localhost:8080/"
        },
        "id": "aSH6yM8eVqRT",
        "outputId": "62fdb1f9-6c58-4651-be2a-46002e7ca22a"
      },
      "execution_count": 39,
      "outputs": [
        {
          "output_type": "stream",
          "name": "stdout",
          "text": [
            "+-------+----------+-----+\n",
            "|Partner|Dependents|count|\n",
            "+-------+----------+-----+\n",
            "|    Yes|       Yes|73033|\n",
            "|   null|      null|   64|\n",
            "|     No|        No|76884|\n",
            "|    Yes|        No|71007|\n",
            "|   null|        No|   99|\n",
            "|     No|      null|  101|\n",
            "|    Yes|      null|   77|\n",
            "|   null|       Yes|   62|\n",
            "|     No|       Yes| 8663|\n",
            "+-------+----------+-----+\n",
            "\n"
          ]
        }
      ]
    },
    {
      "cell_type": "markdown",
      "source": [
        "بیشتر افراد پارتنر دارند پس بهتر است با مد پر شود"
      ],
      "metadata": {
        "id": "I24mmMXYXcei"
      }
    },
    {
      "cell_type": "code",
      "source": [
        "df.select(['Partner', 'SeniorCitizen']).groupBy(['Partner', 'SeniorCitizen']).count().show()"
      ],
      "metadata": {
        "colab": {
          "base_uri": "https://localhost:8080/"
        },
        "id": "oONuRTCPWEP-",
        "outputId": "18dfaeb1-2242-452d-bd0d-0f66a2f25fe2"
      },
      "execution_count": 40,
      "outputs": [
        {
          "output_type": "stream",
          "name": "stdout",
          "text": [
            "+-------+-------------+------+\n",
            "|Partner|SeniorCitizen| count|\n",
            "+-------+-------------+------+\n",
            "|   null|          0.0|   127|\n",
            "|    Yes|          0.0|119647|\n",
            "|   null|         null|    70|\n",
            "|    Yes|         14.0|   534|\n",
            "|   null|          1.0|    28|\n",
            "|    Yes|         17.0|     6|\n",
            "|     No|          0.0| 70965|\n",
            "|     No|         null|   101|\n",
            "|    Yes|         null|    95|\n",
            "|     No|         14.0|   260|\n",
            "|     No|          1.0| 14322|\n",
            "|    Yes|          1.0| 23835|\n",
            "+-------+-------------+------+\n",
            "\n"
          ]
        }
      ]
    },
    {
      "cell_type": "markdown",
      "source": [
        "بیشتر افراد خویشاوند ندارند پس بهتر است با مد پر شود"
      ],
      "metadata": {
        "id": "NtcqNupOXGym"
      }
    },
    {
      "cell_type": "code",
      "source": [
        "df.select(['SeniorCitizen', 'Dependents']).groupBy(['SeniorCitizen', 'Dependents']).count().show()"
      ],
      "metadata": {
        "colab": {
          "base_uri": "https://localhost:8080/"
        },
        "id": "liHxFhGxWY1w",
        "outputId": "ef832e82-7350-4d4b-d237-2d3e3b26569b"
      },
      "execution_count": 41,
      "outputs": [
        {
          "output_type": "stream",
          "name": "stdout",
          "text": [
            "+-------------+----------+------+\n",
            "|SeniorCitizen|Dependents| count|\n",
            "+-------------+----------+------+\n",
            "|          0.0|      null|   133|\n",
            "|         17.0|        No|     6|\n",
            "|         null|      null|    72|\n",
            "|          1.0|      null|    37|\n",
            "|         14.0|       Yes|   288|\n",
            "|          1.0|       Yes|  4079|\n",
            "|          0.0|        No|113286|\n",
            "|          1.0|        No| 34069|\n",
            "|         null|        No|   123|\n",
            "|         null|       Yes|    71|\n",
            "|          0.0|       Yes| 77320|\n",
            "|         14.0|        No|   506|\n",
            "+-------------+----------+------+\n",
            "\n"
          ]
        }
      ]
    },
    {
      "cell_type": "code",
      "source": [
        "df.select('Dependents').groupBy('Dependents').count().show()"
      ],
      "metadata": {
        "colab": {
          "base_uri": "https://localhost:8080/"
        },
        "id": "2n-QIaKEW61u",
        "outputId": "d0047f6a-e1b0-4ebd-b334-376431bf7e45"
      },
      "execution_count": 42,
      "outputs": [
        {
          "output_type": "stream",
          "name": "stdout",
          "text": [
            "+----------+------+\n",
            "|Dependents| count|\n",
            "+----------+------+\n",
            "|      null|   242|\n",
            "|        No|147990|\n",
            "|       Yes| 81758|\n",
            "+----------+------+\n",
            "\n"
          ]
        }
      ]
    },
    {
      "cell_type": "markdown",
      "source": [
        "##relations between tenure and MonthlyCharges and TotalCharges"
      ],
      "metadata": {
        "id": "V20ZOktPpywx"
      }
    },
    {
      "cell_type": "code",
      "source": [
        "tenure_list = [each.tenure for each in df.select('tenure').filter(~col('tenure').isNull()).collect()]"
      ],
      "metadata": {
        "id": "aXxDPGtBsimW"
      },
      "execution_count": 43,
      "outputs": []
    },
    {
      "cell_type": "markdown",
      "source": [
        "مقادیر منفی غیرقابل قبوله"
      ],
      "metadata": {
        "id": "a4c_88sHxHmZ"
      }
    },
    {
      "cell_type": "code",
      "source": [
        "min(tenure_list), max(tenure_list)"
      ],
      "metadata": {
        "colab": {
          "base_uri": "https://localhost:8080/"
        },
        "id": "Jrpc4CBzw9nE",
        "outputId": "f9608713-f950-41ef-e26c-5ade56a4614b"
      },
      "execution_count": 44,
      "outputs": [
        {
          "output_type": "execute_result",
          "data": {
            "text/plain": [
              "(-598.0, 72.0)"
            ]
          },
          "metadata": {},
          "execution_count": 44
        }
      ]
    },
    {
      "cell_type": "code",
      "source": [
        "plt.boxplot(tenure_list)"
      ],
      "metadata": {
        "colab": {
          "base_uri": "https://localhost:8080/",
          "height": 0
        },
        "id": "IfvodZU4sWhO",
        "outputId": "593b152b-fba1-419c-c61b-118a64a4bf18"
      },
      "execution_count": 45,
      "outputs": [
        {
          "output_type": "execute_result",
          "data": {
            "text/plain": [
              "{'boxes': [<matplotlib.lines.Line2D at 0x7f13234d9110>],\n",
              " 'caps': [<matplotlib.lines.Line2D at 0x7f1325ce11d0>,\n",
              "  <matplotlib.lines.Line2D at 0x7f1325ce1710>],\n",
              " 'fliers': [<matplotlib.lines.Line2D at 0x7f1325ceb210>],\n",
              " 'means': [],\n",
              " 'medians': [<matplotlib.lines.Line2D at 0x7f1325ce1c90>],\n",
              " 'whiskers': [<matplotlib.lines.Line2D at 0x7f13234d9710>,\n",
              "  <matplotlib.lines.Line2D at 0x7f13234d9c50>]}"
            ]
          },
          "metadata": {},
          "execution_count": 45
        },
        {
          "output_type": "display_data",
          "data": {
            "text/plain": [
              "<Figure size 432x288 with 1 Axes>"
            ],
            "image/png": "[encoded data removed]"
          },
          "metadata": {
            "needs_background": "light"
          }
        }
      ]
    },
    {
      "cell_type": "code",
      "source": [
        "plt.hist(tenure_list, bins=50)"
      ],
      "metadata": {
        "colab": {
          "base_uri": "https://localhost:8080/",
          "height": 0
        },
        "id": "h81qQGwZwOBV",
        "outputId": "0d40b32c-5841-4ca8-881b-10724c1a7df0"
      },
      "execution_count": 46,
      "outputs": [
        {
          "output_type": "execute_result",
          "data": {
            "text/plain": [
              "(array([1.48000e+02, 1.60000e+02, 2.80000e+01, 0.00000e+00, 1.24000e+02,\n",
              "        1.40000e+02, 0.00000e+00, 0.00000e+00, 0.00000e+00, 0.00000e+00,\n",
              "        0.00000e+00, 0.00000e+00, 0.00000e+00, 0.00000e+00, 0.00000e+00,\n",
              "        0.00000e+00, 0.00000e+00, 0.00000e+00, 0.00000e+00, 0.00000e+00,\n",
              "        0.00000e+00, 0.00000e+00, 0.00000e+00, 0.00000e+00, 0.00000e+00,\n",
              "        0.00000e+00, 0.00000e+00, 0.00000e+00, 0.00000e+00, 0.00000e+00,\n",
              "        0.00000e+00, 0.00000e+00, 0.00000e+00, 0.00000e+00, 0.00000e+00,\n",
              "        0.00000e+00, 0.00000e+00, 0.00000e+00, 0.00000e+00, 0.00000e+00,\n",
              "        0.00000e+00, 0.00000e+00, 0.00000e+00, 0.00000e+00, 2.40900e+03,\n",
              "        1.63950e+04, 2.42080e+04, 3.44270e+04, 4.72570e+04, 1.04469e+05]),\n",
              " array([-598. , -584.6, -571.2, -557.8, -544.4, -531. , -517.6, -504.2,\n",
              "        -490.8, -477.4, -464. , -450.6, -437.2, -423.8, -410.4, -397. ,\n",
              "        -383.6, -370.2, -356.8, -343.4, -330. , -316.6, -303.2, -289.8,\n",
              "        -276.4, -263. , -249.6, -236.2, -222.8, -209.4, -196. , -182.6,\n",
              "        -169.2, -155.8, -142.4, -129. , -115.6, -102.2,  -88.8,  -75.4,\n",
              "         -62. ,  -48.6,  -35.2,  -21.8,   -8.4,    5. ,   18.4,   31.8,\n",
              "          45.2,   58.6,   72. ]),\n",
              " <a list of 50 Patch objects>)"
            ]
          },
          "metadata": {},
          "execution_count": 46
        },
        {
          "output_type": "display_data",
          "data": {
            "text/plain": [
              "<Figure size 432x288 with 1 Axes>"
            ],
            "image/png": "[encoded data removed]"
          },
          "metadata": {
            "needs_background": "light"
          }
        }
      ]
    },
    {
      "cell_type": "markdown",
      "source": [
        "نشون میده یه سری مقادیر غیر قابل قبوله برای شارژ ماهیانه چون حتی از مجموع هم بالاتره"
      ],
      "metadata": {
        "id": "MTrUPaKtKXj9"
      }
    },
    {
      "cell_type": "code",
      "source": [
        "MonthlyCharges_list = [each.MonthlyCharges for each in df.select('MonthlyCharges').filter(~col('MonthlyCharges').isNull()).collect()]"
      ],
      "metadata": {
        "id": "75JCGXivxTmv"
      },
      "execution_count": 47,
      "outputs": []
    },
    {
      "cell_type": "code",
      "source": [
        "plt.boxplot(MonthlyCharges_list)"
      ],
      "metadata": {
        "colab": {
          "base_uri": "https://localhost:8080/",
          "height": 0
        },
        "id": "uX8xpbOwxdT9",
        "outputId": "e2f9f074-09cf-40a3-c73c-ada10d457bf4"
      },
      "execution_count": 48,
      "outputs": [
        {
          "output_type": "execute_result",
          "data": {
            "text/plain": [
              "{'boxes': [<matplotlib.lines.Line2D at 0x7f13291a82d0>],\n",
              " 'caps': [<matplotlib.lines.Line2D at 0x7f1326504950>,\n",
              "  <matplotlib.lines.Line2D at 0x7f1326504990>],\n",
              " 'fliers': [<matplotlib.lines.Line2D at 0x7f13264f0250>],\n",
              " 'means': [],\n",
              " 'medians': [<matplotlib.lines.Line2D at 0x7f1326504c90>],\n",
              " 'whiskers': [<matplotlib.lines.Line2D at 0x7f13264e5710>,\n",
              "  <matplotlib.lines.Line2D at 0x7f13264e5b50>]}"
            ]
          },
          "metadata": {},
          "execution_count": 48
        },
        {
          "output_type": "display_data",
          "data": {
            "text/plain": [
              "<Figure size 432x288 with 1 Axes>"
            ],
            "image/png": "[encoded data removed]"
          },
          "metadata": {
            "needs_background": "light"
          }
        }
      ]
    },
    {
      "cell_type": "code",
      "source": [
        "min(MonthlyCharges_list), max(MonthlyCharges_list)"
      ],
      "metadata": {
        "colab": {
          "base_uri": "https://localhost:8080/"
        },
        "id": "TTPEdQrqxtLJ",
        "outputId": "7f154362-0032-44ec-fee6-f6d070449a0e"
      },
      "execution_count": 49,
      "outputs": [
        {
          "output_type": "execute_result",
          "data": {
            "text/plain": [
              "(18.25, 14990.0)"
            ]
          },
          "metadata": {},
          "execution_count": 49
        }
      ]
    },
    {
      "cell_type": "code",
      "source": [
        "plt.hist(MonthlyCharges_list, bins=5)"
      ],
      "metadata": {
        "colab": {
          "base_uri": "https://localhost:8080/",
          "height": 0
        },
        "id": "ISdS2_D_xkiM",
        "outputId": "6ecbec14-4713-415d-b2f2-eb347315722c"
      },
      "execution_count": 50,
      "outputs": [
        {
          "output_type": "execute_result",
          "data": {
            "text/plain": [
              "(array([2.28747e+05, 0.00000e+00, 2.80000e+01, 3.74000e+02, 5.98000e+02]),\n",
              " array([   18.25,  3012.6 ,  6006.95,  9001.3 , 11995.65, 14990.  ]),\n",
              " <a list of 5 Patch objects>)"
            ]
          },
          "metadata": {},
          "execution_count": 50
        },
        {
          "output_type": "display_data",
          "data": {
            "text/plain": [
              "<Figure size 432x288 with 1 Axes>"
            ],
            "image/png": "[encoded data removed]"
          },
          "metadata": {
            "needs_background": "light"
          }
        }
      ]
    },
    {
      "cell_type": "code",
      "source": [
        "TotalCharges_list = [each.TotalCharges for each in df.select('TotalCharges').filter(~col('TotalCharges').isNull()).collect()]"
      ],
      "metadata": {
        "id": "WHwWcvUYyCZy"
      },
      "execution_count": 51,
      "outputs": []
    },
    {
      "cell_type": "code",
      "source": [
        "plt.boxplot(TotalCharges_list)"
      ],
      "metadata": {
        "colab": {
          "base_uri": "https://localhost:8080/",
          "height": 0
        },
        "id": "B3tWGuZMyNi5",
        "outputId": "5b83b4b1-e1e5-4c05-c71f-6ab69fe72137"
      },
      "execution_count": 52,
      "outputs": [
        {
          "output_type": "execute_result",
          "data": {
            "text/plain": [
              "{'boxes': [<matplotlib.lines.Line2D at 0x7f1323410190>],\n",
              " 'caps': [<matplotlib.lines.Line2D at 0x7f1323418250>,\n",
              "  <matplotlib.lines.Line2D at 0x7f1323418790>],\n",
              " 'fliers': [<matplotlib.lines.Line2D at 0x7f132381f290>],\n",
              " 'means': [],\n",
              " 'medians': [<matplotlib.lines.Line2D at 0x7f1323418d10>],\n",
              " 'whiskers': [<matplotlib.lines.Line2D at 0x7f1323410790>,\n",
              "  <matplotlib.lines.Line2D at 0x7f1323410cd0>]}"
            ]
          },
          "metadata": {},
          "execution_count": 52
        },
        {
          "output_type": "display_data",
          "data": {
            "text/plain": [
              "<Figure size 432x288 with 1 Axes>"
            ],
            "image/png": "[encoded data removed]"
          },
          "metadata": {
            "needs_background": "light"
          }
        }
      ]
    },
    {
      "cell_type": "code",
      "source": [
        "plt.hist(TotalCharges_list, bins=5)"
      ],
      "metadata": {
        "colab": {
          "base_uri": "https://localhost:8080/",
          "height": 0
        },
        "id": "iAMYh9YeyQr7",
        "outputId": "4e004fef-c191-43b6-fa40-b25b7ad53d4e"
      },
      "execution_count": 53,
      "outputs": [
        {
          "output_type": "execute_result",
          "data": {
            "text/plain": [
              "(array([67846., 45625., 46584., 45335., 24349.]),\n",
              " array([  18.8, 1752. , 3485.2, 5218.4, 6951.6, 8684.8]),\n",
              " <a list of 5 Patch objects>)"
            ]
          },
          "metadata": {},
          "execution_count": 53
        },
        {
          "output_type": "display_data",
          "data": {
            "text/plain": [
              "<Figure size 432x288 with 1 Axes>"
            ],
            "image/png": "[encoded data removed]"
          },
          "metadata": {
            "needs_background": "light"
          }
        }
      ]
    },
    {
      "cell_type": "code",
      "source": [
        "condition = ((~col('TotalCharges').isNull())&(~col('MonthlyCharges').isNull())&(~col('tenure').isNull())&((~col('Label').isNull()))&\n",
        "             (col('MonthlyCharges')<1000) & (col('tenure')>0))"
      ],
      "metadata": {
        "id": "SGcBETwcI2Nn"
      },
      "execution_count": 54,
      "outputs": []
    },
    {
      "cell_type": "code",
      "source": [
        "tenure_list = [each.tenure for each in df.select('tenure').filter(condition).collect()]\n",
        "MonthlyCharges_list = [each.MonthlyCharges for each in df.select('MonthlyCharges').filter(condition).collect()]\n",
        "TotalCharges_list = [each.TotalCharges for each in df.select('TotalCharges').filter(condition).collect()]\n",
        "label_list = [each.Label for each in df.select('Label').filter(condition).collect()]"
      ],
      "metadata": {
        "id": "nEIvYCazJeWR"
      },
      "execution_count": 55,
      "outputs": []
    },
    {
      "cell_type": "code",
      "source": [
        "colors = {'No': 'red', \"Yes\": 'yellow'}\n",
        "# plt.figure(figsize=(20, 10))\n",
        "plt.scatter(MonthlyCharges_list, TotalCharges_list, c=[colors[x] for x in label_list])"
      ],
      "metadata": {
        "colab": {
          "base_uri": "https://localhost:8080/",
          "height": 0
        },
        "id": "VQKW798VJ1gL",
        "outputId": "f7a3f94d-1aa9-49d1-d786-66829ca9cb32"
      },
      "execution_count": 56,
      "outputs": [
        {
          "output_type": "execute_result",
          "data": {
            "text/plain": [
              "<matplotlib.collections.PathCollection at 0x7f132427af10>"
            ]
          },
          "metadata": {},
          "execution_count": 56
        },
        {
          "output_type": "display_data",
          "data": {
            "text/plain": [
              "<Figure size 432x288 with 1 Axes>"
            ],
            "image/png": "[encoded data removed]"
          },
          "metadata": {
            "needs_background": "light"
          }
        }
      ]
    },
    {
      "cell_type": "markdown",
      "source": [
        "تقریبا رو یک خط راست قرار گرفته اگه دقیقا از فرمول پیروی کنه میشه توتال چارچ رو حذف کرد چون اطلاعاتی که میده تقریبا یکیه"
      ],
      "metadata": {
        "id": "cRbCtENVPtWp"
      }
    },
    {
      "cell_type": "code",
      "source": [
        "plt.scatter([x*y for x, y in zip(MonthlyCharges_list, tenure_list)], TotalCharges_list, c=[colors[x] for x in label_list])"
      ],
      "metadata": {
        "colab": {
          "base_uri": "https://localhost:8080/",
          "height": 0
        },
        "id": "PzLnVzi_KgNb",
        "outputId": "f17cb331-1c7a-401c-d5e5-dcce74671d4f"
      },
      "execution_count": 57,
      "outputs": [
        {
          "output_type": "execute_result",
          "data": {
            "text/plain": [
              "<matplotlib.collections.PathCollection at 0x7f132fc3a910>"
            ]
          },
          "metadata": {},
          "execution_count": 57
        },
        {
          "output_type": "display_data",
          "data": {
            "text/plain": [
              "<Figure size 432x288 with 1 Axes>"
            ],
            "image/png": "[encoded data removed]"
          },
          "metadata": {
            "needs_background": "light"
          }
        }
      ]
    },
    {
      "cell_type": "code",
      "source": [
        "line_condition = (col('tenure')*col('MonthlyCharges')==col('TotalCharges'))\n",
        "df.filter(condition & line_condition).count()"
      ],
      "metadata": {
        "colab": {
          "base_uri": "https://localhost:8080/"
        },
        "id": "57pvOXdeQfNl",
        "outputId": "f216fab9-6e68-4f88-d06a-1bb17d839f2c"
      },
      "execution_count": 58,
      "outputs": [
        {
          "output_type": "execute_result",
          "data": {
            "text/plain": [
              "626"
            ]
          },
          "metadata": {},
          "execution_count": 58
        }
      ]
    },
    {
      "cell_type": "markdown",
      "source": [
        "طبق نتایج دقیقا برابر نیست که نشون میده می‌تونه تغییراتی شارژ ماهیانه در ماه‌های مختلف داشته باشه ولی مقادیر نال رو تقریبا میشه با این قانون پر کرد و بقیه موارد رو با میانگین"
      ],
      "metadata": {
        "id": "_gyf-HbpRCuk"
      }
    },
    {
      "cell_type": "code",
      "source": [
        "df.filter(condition & (~line_condition)).count()"
      ],
      "metadata": {
        "colab": {
          "base_uri": "https://localhost:8080/"
        },
        "id": "kmaByUX7Q7HG",
        "outputId": "af6e6ecc-24cb-428a-ada3-5d785eb51dfd"
      },
      "execution_count": 59,
      "outputs": [
        {
          "output_type": "execute_result",
          "data": {
            "text/plain": [
              "227159"
            ]
          },
          "metadata": {},
          "execution_count": 59
        }
      ]
    },
    {
      "cell_type": "code",
      "source": [
        "condition = ((col('TotalCharges').isNull())&(col('MonthlyCharges').isNull())&(col('tenure').isNull()))\n",
        "df.filter(condition).count()"
      ],
      "metadata": {
        "colab": {
          "base_uri": "https://localhost:8080/"
        },
        "id": "rceMev7CRaOz",
        "outputId": "575e7c5e-bac6-48bf-bb1c-6e917871c5a0"
      },
      "execution_count": 60,
      "outputs": [
        {
          "output_type": "execute_result",
          "data": {
            "text/plain": [
              "15"
            ]
          },
          "metadata": {},
          "execution_count": 60
        }
      ]
    },
    {
      "cell_type": "markdown",
      "source": [
        "##relation between PaperlessBilling and PaymentMethod"
      ],
      "metadata": {
        "id": "TFfdWNrmdEpI"
      }
    },
    {
      "cell_type": "markdown",
      "source": [
        "حدس: فقط برای میل چک ستون دیگر حالت خیر دارد. حدس رد شد اما فقط توی حالت میلدچک هست که بیشتر مقدار نه هستش بقیه موارد توی حالت یس قرار دارند"
      ],
      "metadata": {
        "id": "7qwYGscBdhG0"
      }
    },
    {
      "cell_type": "code",
      "source": [
        "df.select(['PaymentMethod', 'PaperlessBilling']).groupBy(['PaymentMethod', 'PaperlessBilling']).count().show()"
      ],
      "metadata": {
        "colab": {
          "base_uri": "https://localhost:8080/"
        },
        "id": "4gum50U1dQza",
        "outputId": "f7a6cd9c-170b-45c3-dd96-74cc9163a715"
      },
      "execution_count": 61,
      "outputs": [
        {
          "output_type": "stream",
          "name": "stdout",
          "text": [
            "+--------------------+----------------+-----+\n",
            "|       PaymentMethod|PaperlessBilling|count|\n",
            "+--------------------+----------------+-----+\n",
            "|Credit card (auto...|            null|   31|\n",
            "|                null|            null|   84|\n",
            "|Credit card (auto...|              No|27988|\n",
            "|        Mailed check|            null|   23|\n",
            "|Bank transfer (au...|              No|28453|\n",
            "|        Mailed check|             Yes|14159|\n",
            "|Bank transfer (au...|            null|   48|\n",
            "|Credit card (auto...|             Yes|38439|\n",
            "|                null|              No|   40|\n",
            "|                null|             Yes|  122|\n",
            "|    Electronic check|              No|15351|\n",
            "|    Electronic check|             Yes|44615|\n",
            "|Bank transfer (au...|             Yes|39270|\n",
            "|    Electronic check|            null|   71|\n",
            "|        Mailed check|              No|21296|\n",
            "+--------------------+----------------+-----+\n",
            "\n"
          ]
        }
      ]
    },
    {
      "cell_type": "code",
      "source": [
        "df.select('PaymentMethod').groupBy('PaymentMethod').count().show()"
      ],
      "metadata": {
        "colab": {
          "base_uri": "https://localhost:8080/"
        },
        "id": "DPipcNpmdurR",
        "outputId": "eafd73a9-7110-4008-fe71-fa7b9561c9d2"
      },
      "execution_count": 62,
      "outputs": [
        {
          "output_type": "stream",
          "name": "stdout",
          "text": [
            "+--------------------+-----+\n",
            "|       PaymentMethod|count|\n",
            "+--------------------+-----+\n",
            "|Credit card (auto...|66458|\n",
            "|                null|  246|\n",
            "|        Mailed check|35478|\n",
            "|Bank transfer (au...|67771|\n",
            "|    Electronic check|60037|\n",
            "+--------------------+-----+\n",
            "\n"
          ]
        }
      ]
    },
    {
      "cell_type": "code",
      "source": [
        "df.select('PaperlessBilling').groupBy('PaperlessBilling').count().show()"
      ],
      "metadata": {
        "colab": {
          "base_uri": "https://localhost:8080/"
        },
        "id": "gRcvdXoXe0Nx",
        "outputId": "c0cd8390-abbf-49b2-fd51-df03c981545f"
      },
      "execution_count": 63,
      "outputs": [
        {
          "output_type": "stream",
          "name": "stdout",
          "text": [
            "+----------------+------+\n",
            "|PaperlessBilling| count|\n",
            "+----------------+------+\n",
            "|            null|   257|\n",
            "|              No| 93128|\n",
            "|             Yes|136605|\n",
            "+----------------+------+\n",
            "\n"
          ]
        }
      ]
    },
    {
      "cell_type": "markdown",
      "source": [
        "## relation between PaymentMethod and Contract"
      ],
      "metadata": {
        "id": "LpgZPVusfsvx"
      }
    },
    {
      "cell_type": "markdown",
      "source": [
        "طبق نتایج زیر:\n",
        "\n",
        "*   بیشتر در حالت پرداخت با الکترونیک چک ماه به ماه قرار داد هستش\n",
        "*   برای باقی حالت‌ها قرارداد بیشتر دو ساله ست\n",
        "*   توی حالت قرار داد یکساله و دوساله کریدت کارت بیشترین و توی حالت ماه به ماه میلد چک بالاترین تعداد رو داره\n",
        "\n"
      ],
      "metadata": {
        "id": "TLWhyUXSgKNl"
      }
    },
    {
      "cell_type": "code",
      "source": [
        "df.select(['PaymentMethod', 'Contract']).groupBy(['PaymentMethod', 'Contract']).count().show()"
      ],
      "metadata": {
        "colab": {
          "base_uri": "https://localhost:8080/"
        },
        "id": "OQ_wnJSif0kC",
        "outputId": "d5eeced9-369e-4263-aead-992799803cf0"
      },
      "execution_count": 64,
      "outputs": [
        {
          "output_type": "stream",
          "name": "stdout",
          "text": [
            "+--------------------+--------------+-----+\n",
            "|       PaymentMethod|      Contract|count|\n",
            "+--------------------+--------------+-----+\n",
            "|Credit card (auto...|          null|   32|\n",
            "|        Mailed check|      One year| 9939|\n",
            "|                null|Month-to-month|   59|\n",
            "|        Mailed check|      Two year|16487|\n",
            "|                null|          null|   70|\n",
            "|                null|      One year|   24|\n",
            "|        Mailed check|          null|   23|\n",
            "|Bank transfer (au...|      One year|18007|\n",
            "|Bank transfer (au...|Month-to-month|14745|\n",
            "|                null|      Two year|   93|\n",
            "|Bank transfer (au...|          null|   44|\n",
            "|Bank transfer (au...|      Two year|34975|\n",
            "|    Electronic check|      Two year|10375|\n",
            "|Credit card (auto...|      One year|18263|\n",
            "|Credit card (auto...|      Two year|35043|\n",
            "|    Electronic check|          null|   61|\n",
            "|        Mailed check|Month-to-month| 9029|\n",
            "|    Electronic check|Month-to-month|33469|\n",
            "|Credit card (auto...|Month-to-month|13120|\n",
            "|    Electronic check|      One year|16132|\n",
            "+--------------------+--------------+-----+\n",
            "\n"
          ]
        }
      ]
    },
    {
      "cell_type": "markdown",
      "source": [
        "#data preprocess and feature engineering"
      ],
      "metadata": {
        "id": "Ib7Ly4TD1Dwl"
      }
    },
    {
      "cell_type": "markdown",
      "source": [
        "##missing value and outlier handling"
      ],
      "metadata": {
        "id": "P4CdcatayVTg"
      }
    },
    {
      "cell_type": "markdown",
      "source": [
        "###customerID"
      ],
      "metadata": {
        "id": "oFg10ofm5C_2"
      }
    },
    {
      "cell_type": "markdown",
      "source": [
        "تعداد مقادیر نال در این ستون"
      ],
      "metadata": {
        "id": "83TvXg405agl"
      }
    },
    {
      "cell_type": "code",
      "source": [
        "df.select(count(when(isnan(\"customerID\") | col(\"customerID\").isNull(), \"customerID\")).alias('customerID')).show()"
      ],
      "metadata": {
        "colab": {
          "base_uri": "https://localhost:8080/"
        },
        "id": "jFIKe2OC5G55",
        "outputId": "b61c319c-dedd-41ec-a191-08c3f460f877"
      },
      "execution_count": 65,
      "outputs": [
        {
          "output_type": "stream",
          "name": "stdout",
          "text": [
            "+----------+\n",
            "|customerID|\n",
            "+----------+\n",
            "|       253|\n",
            "+----------+\n",
            "\n"
          ]
        }
      ]
    },
    {
      "cell_type": "markdown",
      "source": [
        "چون یکمی غیرعادی است که آیدی یا شناسه نال باشد چند ستون از آن چک می‌شود"
      ],
      "metadata": {
        "id": "6aS63jFo4bLt"
      }
    },
    {
      "cell_type": "code",
      "source": [
        "df.filter(col('customerID').isNull()).show()"
      ],
      "metadata": {
        "colab": {
          "base_uri": "https://localhost:8080/"
        },
        "id": "Uza_gP1W28XV",
        "outputId": "42111f47-ed9a-442f-a688-9eb579e14b62"
      },
      "execution_count": 66,
      "outputs": [
        {
          "output_type": "stream",
          "name": "stdout",
          "text": [
            "+----------+------+-------------+-------+----------+------+------------+-------------+---------------+-------------------+-------------------+-------------------+-------------------+-------------------+-------------------+--------------+----------------+--------------------+--------------+------------+-----+\n",
            "|customerID|gender|SeniorCitizen|Partner|Dependents|tenure|PhoneService|MultipleLines|InternetService|     OnlineSecurity|       OnlineBackup|   DeviceProtection|        TechSupport|        StreamingTV|    StreamingMovies|      Contract|PaperlessBilling|       PaymentMethod|MonthlyCharges|TotalCharges|Label|\n",
            "+----------+------+-------------+-------+----------+------+------------+-------------+---------------+-------------------+-------------------+-------------------+-------------------+-------------------+-------------------+--------------+----------------+--------------------+--------------+------------+-----+\n",
            "|      null|Female|          0.0|     No|        No|  36.0|          No|         null|            DSL|                Yes|                 No|                 No|               null|                 No|               null|      Two year|              No|Bank transfer (au...|          null|     1126.35|   No|\n",
            "|      null|  Male|         null|    Yes|      null|  72.0|         Yes|          Yes|             No|No internet service|No internet service|No internet service|               null|No internet service|               null|      Two year|             Yes|Bank transfer (au...|         23.55|        null|   No|\n",
            "|      null|Female|         null|    Yes|        No|  null|        null|          Yes|    Fiber optic|                 No|                 No|               null|               null|               null|                 No|Month-to-month|             Yes|    Electronic check|          76.5|     2868.15|  Yes|\n",
            "|      null|Female|          0.0|   null|      null|  null|         Yes|           No|             No|No internet service|No internet service|No internet service|               null|               null|               null|          null|              No|        Mailed check|         20.65|      835.15|   No|\n",
            "|      null|Female|         null|    Yes|      null|  null|        null|          Yes|    Fiber optic|                 No|                 No|                 No|                 No|                 No|                 No|          null|            null|    Electronic check|          76.5|        null| null|\n",
            "|      null|  Male|          0.0|     No|        No|   2.0|         Yes|           No|            DSL|                 No|                 No|                 No|                 No|                 No|                 No|          null|              No|                null|         44.35|       81.25|  Yes|\n",
            "|      null|Female|          0.0|    Yes|       Yes|  64.0|          No|         null|            DSL|                 No|                Yes|                 No|                Yes|               null|                Yes|      Two year|             Yes|                null|          54.6|      3423.5|   No|\n",
            "|      null|  null|         null|     No|      null|  71.0|          No|         null|            DSL|                Yes|                Yes|                 No|               null|               null|                Yes|      One year|            null|                null|         56.45|     3985.35|   No|\n",
            "|      null|  null|          1.0|   null|        No|  27.0|        null|          Yes|    Fiber optic|               null|                 No|               null|                 No|                 No|                 No|          null|             Yes|    Electronic check|          null|        null|  Yes|\n",
            "|      null|  Male|          0.0|     No|      null|  null|         Yes|         null|             No|No internet service|               null|No internet service|               null|No internet service|No internet service|          null|             Yes|                null|          null|        null|   No|\n",
            "|      null|  null|          0.0|    Yes|       Yes|  56.0|        null|          Yes|    Fiber optic|                 No|                 No|                Yes|               null|                Yes|                Yes|          null|             Yes|Credit card (auto...|          99.8|     5515.45|   No|\n",
            "|      null|Female|          0.0|    Yes|      null|  10.0|        null|          Yes|    Fiber optic|                Yes|                 No|                 No|                 No|                Yes|               null|          null|            null|                null|        100.25|        null|  Yes|\n",
            "|      null|  null|          0.0|     No|        No|  67.0|         Yes|           No|            DSL|                 No|               null|               null|                Yes|                 No|                 No|      Two year|            null|                null|         50.55|      3260.1|   No|\n",
            "|      null|Female|          0.0|     No|        No|  41.0|        null|         null|             No|No internet service|No internet service|               null|No internet service|No internet service|No internet service|      Two year|              No|        Mailed check|          null|      835.15|   No|\n",
            "|      null|  null|         null|   null|        No|  null|         Yes|         null|           null|                 No|               null|                Yes|                 No|                Yes|               null|Month-to-month|             Yes|    Electronic check|          null|      3954.1|   No|\n",
            "|      null|Female|          0.0|   null|        No|  null|        null|           No|             No|No internet service|No internet service|No internet service|No internet service|No internet service|               null|      Two year|              No|        Mailed check|         20.65|      835.15|   No|\n",
            "|      null|  null|          0.0|     No|        No|  43.0|         Yes|         null|    Fiber optic|                 No|                Yes|                Yes|               null|                Yes|               null|Month-to-month|             Yes|    Electronic check|          null|      3954.1|   No|\n",
            "|      null|Female|          0.0|    Yes|       Yes|  64.0|         Yes|           No|           null|No internet service|               null|No internet service|               null|No internet service|               null|      Two year|              No|        Mailed check|          20.2|        null|   No|\n",
            "|      null|  null|          0.0|   null|        No|   6.0|         Yes|           No|           null|No internet service|               null|No internet service|               null|No internet service|No internet service|Month-to-month|              No|        Mailed check|          20.7|        null|   No|\n",
            "|      null|  null|         null|     No|        No|  71.0|          No|         null|            DSL|                Yes|               null|                 No|                 No|               null|                Yes|          null|            null|    Electronic check|         56.45|     3985.35|   No|\n",
            "+----------+------+-------------+-------+----------+------+------------+-------------+---------------+-------------------+-------------------+-------------------+-------------------+-------------------+-------------------+--------------+----------------+--------------------+--------------+------------+-----+\n",
            "only showing top 20 rows\n",
            "\n"
          ]
        }
      ]
    },
    {
      "cell_type": "markdown",
      "source": [
        "مقادیر نال با مقدار دیگری پر نمی‌شود زیرا این ستون در انتها برای آموزش مدل حذف خواهد شد زیرا مدل براساس پارامترها تصمیم میگیرد برای برچسب دهی و این ستون شناسه ی مشتری می‌باشد و مقادیر تکراری در آن وجود ندارد"
      ],
      "metadata": {
        "id": "11lP5OIA5791"
      }
    },
    {
      "cell_type": "markdown",
      "source": [
        "###gender"
      ],
      "metadata": {
        "id": "4P1aoyVK6Gnf"
      }
    },
    {
      "cell_type": "code",
      "source": [
        "df.select('gender').distinct().collect()"
      ],
      "metadata": {
        "colab": {
          "base_uri": "https://localhost:8080/"
        },
        "id": "oDW9OpTc6TFE",
        "outputId": "6423d1d2-19db-4ac9-b6cc-96195cc2b0bd"
      },
      "execution_count": 67,
      "outputs": [
        {
          "output_type": "execute_result",
          "data": {
            "text/plain": [
              "[Row(gender=None), Row(gender='Female'), Row(gender='Male')]"
            ]
          },
          "metadata": {},
          "execution_count": 67
        }
      ]
    },
    {
      "cell_type": "code",
      "source": [
        "df.groupBy('gender').count().show()"
      ],
      "metadata": {
        "colab": {
          "base_uri": "https://localhost:8080/"
        },
        "id": "nRpYDHxr6pz6",
        "outputId": "a9d109b3-df77-41d2-cf9a-a4796af1b623"
      },
      "execution_count": 68,
      "outputs": [
        {
          "output_type": "stream",
          "name": "stdout",
          "text": [
            "+------+------+\n",
            "|gender| count|\n",
            "+------+------+\n",
            "|  null|   235|\n",
            "|Female|113452|\n",
            "|  Male|116303|\n",
            "+------+------+\n",
            "\n"
          ]
        }
      ]
    },
    {
      "cell_type": "code",
      "source": [
        "mode_gender = df.groupBy('gender').count().agg({'count': 'max'}).join(df.groupBy('gender').count()).filter(col('max(count)')==col('count'))\n",
        "mode_gender = mode_gender.select('gender').collect()[0].gender\n",
        "mode_gender"
      ],
      "metadata": {
        "colab": {
          "base_uri": "https://localhost:8080/",
          "height": 0
        },
        "id": "AQmgo83l_aew",
        "outputId": "9fa72222-5079-4aba-f308-911a66b0fe2f"
      },
      "execution_count": 69,
      "outputs": [
        {
          "output_type": "execute_result",
          "data": {
            "text/plain": [
              "'Male'"
            ],
            "application/vnd.google.colaboratory.intrinsic+json": {
              "type": "string"
            }
          },
          "metadata": {},
          "execution_count": 69
        }
      ]
    },
    {
      "cell_type": "code",
      "source": [
        "df = df.fillna(mode_gender, subset=[\"gender\"])"
      ],
      "metadata": {
        "id": "oHlmEqzhAU0y"
      },
      "execution_count": 70,
      "outputs": []
    },
    {
      "cell_type": "markdown",
      "source": [
        "به‌دلیل وجود دو مقدار یونیک، می‌توان مقادیر را به صفر و یک نگاشت کرد<br/>\n",
        "\n",
        "\n",
        "*   Male => 0\n",
        "*   Female => 1\n",
        "\n"
      ],
      "metadata": {
        "id": "IKylVjSvCsZD"
      }
    },
    {
      "cell_type": "code",
      "source": [
        "# df = df.withColumn(\"gender\", when(df[\"gender\"] == 'Male', 0).otherwise(1))"
      ],
      "metadata": {
        "id": "PkiBJ2taChUK"
      },
      "execution_count": 71,
      "outputs": []
    },
    {
      "cell_type": "markdown",
      "source": [
        "###SeniorCitizen"
      ],
      "metadata": {
        "id": "A5jUPqGRYnsj"
      }
    },
    {
      "cell_type": "code",
      "source": [
        "df.select('SeniorCitizen').groupBy('SeniorCitizen').count().show()"
      ],
      "metadata": {
        "colab": {
          "base_uri": "https://localhost:8080/"
        },
        "id": "xLjm3D1EYv6u",
        "outputId": "f12abb3c-b545-405c-953e-5b3cc17d86df"
      },
      "execution_count": 72,
      "outputs": [
        {
          "output_type": "stream",
          "name": "stdout",
          "text": [
            "+-------------+------+\n",
            "|SeniorCitizen| count|\n",
            "+-------------+------+\n",
            "|          0.0|190739|\n",
            "|         null|   266|\n",
            "|          1.0| 38185|\n",
            "|         14.0|   794|\n",
            "|         17.0|     6|\n",
            "+-------------+------+\n",
            "\n"
          ]
        }
      ]
    },
    {
      "cell_type": "code",
      "source": [
        "df = df.withColumn(\"SeniorCitizen\", when((df.SeniorCitizen == 17.0) | (df.SeniorCitizen == 14.0), None).otherwise(col('SeniorCitizen')))"
      ],
      "metadata": {
        "id": "fUaaJqydZCxL"
      },
      "execution_count": 73,
      "outputs": []
    },
    {
      "cell_type": "code",
      "source": [
        "df = df.fillna(0, subset=[\"SeniorCitizen\"])"
      ],
      "metadata": {
        "id": "iVTj4OXfYpx5"
      },
      "execution_count": 74,
      "outputs": []
    },
    {
      "cell_type": "code",
      "source": [
        "df.select('SeniorCitizen').groupBy('SeniorCitizen').count().show()"
      ],
      "metadata": {
        "colab": {
          "base_uri": "https://localhost:8080/"
        },
        "id": "ga1v-bAuZaOw",
        "outputId": "9a7a8ef8-0b53-4335-aced-fd27604a97fd"
      },
      "execution_count": 75,
      "outputs": [
        {
          "output_type": "stream",
          "name": "stdout",
          "text": [
            "+-------------+------+\n",
            "|SeniorCitizen| count|\n",
            "+-------------+------+\n",
            "|          0.0|191805|\n",
            "|          1.0| 38185|\n",
            "+-------------+------+\n",
            "\n"
          ]
        }
      ]
    },
    {
      "cell_type": "markdown",
      "source": [
        "###Partner"
      ],
      "metadata": {
        "id": "0ofEHuTuob3O"
      }
    },
    {
      "cell_type": "markdown",
      "source": [
        "لازم به ران شدن سلول پایین نیست زیرا با مد پر می‌شود که همان یس است"
      ],
      "metadata": {
        "id": "wyrLxF8wpCkI"
      }
    },
    {
      "cell_type": "code",
      "source": [
        "df = df.withColumn(\"Partner\", when((isnan(\"Partner\") | col(\"Partner\").isNull()) & (df.Dependents == \"Yes\"), \"Yes\").otherwise(col('Partner')))"
      ],
      "metadata": {
        "id": "kSBQSL7YodV6"
      },
      "execution_count": 76,
      "outputs": []
    },
    {
      "cell_type": "code",
      "source": [
        "df.select('Partner').groupBy(\"Partner\").count().show()"
      ],
      "metadata": {
        "colab": {
          "base_uri": "https://localhost:8080/"
        },
        "id": "UJju5CECo4iT",
        "outputId": "88540833-b5e7-458d-caeb-7f79c6fa8d4f"
      },
      "execution_count": 77,
      "outputs": [
        {
          "output_type": "stream",
          "name": "stdout",
          "text": [
            "+-------+------+\n",
            "|Partner| count|\n",
            "+-------+------+\n",
            "|   null|   163|\n",
            "|     No| 85648|\n",
            "|    Yes|144179|\n",
            "+-------+------+\n",
            "\n"
          ]
        }
      ]
    },
    {
      "cell_type": "code",
      "source": [
        "df = df.fillna('Yes', ['Partner'])"
      ],
      "metadata": {
        "id": "YuJhEX2OpL2y"
      },
      "execution_count": 78,
      "outputs": []
    },
    {
      "cell_type": "code",
      "source": [
        "# df = df.withColumn(\"Partner\", when(df[\"Partner\"] == 'Yes', 1).otherwise(0))"
      ],
      "metadata": {
        "id": "FCbTFn60pXjU"
      },
      "execution_count": 79,
      "outputs": []
    },
    {
      "cell_type": "markdown",
      "source": [
        "###Dependents"
      ],
      "metadata": {
        "id": "Dw4TJziGpaUY"
      }
    },
    {
      "cell_type": "code",
      "source": [
        "df.select('Dependents').groupBy(\"Dependents\").count().show()"
      ],
      "metadata": {
        "colab": {
          "base_uri": "https://localhost:8080/"
        },
        "id": "kdOu77APpcxv",
        "outputId": "62fe9459-a22a-49fc-b612-a5c08d9f62f7"
      },
      "execution_count": 80,
      "outputs": [
        {
          "output_type": "stream",
          "name": "stdout",
          "text": [
            "+----------+------+\n",
            "|Dependents| count|\n",
            "+----------+------+\n",
            "|      null|   242|\n",
            "|        No|147990|\n",
            "|       Yes| 81758|\n",
            "+----------+------+\n",
            "\n"
          ]
        }
      ]
    },
    {
      "cell_type": "code",
      "source": [
        "df = df.fillna('No', ['Dependents'])"
      ],
      "metadata": {
        "id": "k6lFcVX-pkz2"
      },
      "execution_count": 81,
      "outputs": []
    },
    {
      "cell_type": "code",
      "source": [
        "df = df.withColumn(\"Dependents\", when(df[\"Dependents\"] == 'Yes', 'Yes').otherwise('No'))"
      ],
      "metadata": {
        "id": "YpSkDjURpqOA"
      },
      "execution_count": 82,
      "outputs": []
    },
    {
      "cell_type": "markdown",
      "source": [
        "###PhoneService"
      ],
      "metadata": {
        "id": "BMJzYRjFo6MW"
      }
    },
    {
      "cell_type": "code",
      "source": [
        "df = df.withColumn(\"PhoneService\", when((isnan(\"PhoneService\") | col(\"PhoneService\").isNull()) & (df.MultipleLines == \"No phone service\"), \"No\").otherwise(col('PhoneService')))"
      ],
      "metadata": {
        "id": "5kH1a9leo8JT"
      },
      "execution_count": 83,
      "outputs": []
    },
    {
      "cell_type": "code",
      "source": [
        "df = df.withColumn(\"PhoneService\", when((isnan(\"PhoneService\") | col(\"PhoneService\").isNull()) & (df.InternetService == \"No\"), \"Yes\").otherwise(col('PhoneService')))"
      ],
      "metadata": {
        "id": "OXDKgB2Rq1yI"
      },
      "execution_count": 84,
      "outputs": []
    },
    {
      "cell_type": "code",
      "source": [
        "df.groupBy('PhoneService').count().show()"
      ],
      "metadata": {
        "colab": {
          "base_uri": "https://localhost:8080/"
        },
        "id": "Somptbjdpua9",
        "outputId": "08cbc5cb-08a3-49de-9ef9-3c5d5140b138"
      },
      "execution_count": 85,
      "outputs": [
        {
          "output_type": "stream",
          "name": "stdout",
          "text": [
            "+------------+------+\n",
            "|PhoneService| count|\n",
            "+------------+------+\n",
            "|        null|   167|\n",
            "|          No| 21861|\n",
            "|         Yes|207962|\n",
            "+------------+------+\n",
            "\n"
          ]
        }
      ]
    },
    {
      "cell_type": "code",
      "source": [
        "df = df.fillna(\"Yes\", subset=[\"PhoneService\"])"
      ],
      "metadata": {
        "id": "T_GQ6ztIrQiR"
      },
      "execution_count": 86,
      "outputs": []
    },
    {
      "cell_type": "code",
      "source": [
        "# df = df.withColumn(\"PhoneService\", when(df[\"PhoneService\"] == 'No', 0).otherwise(1))"
      ],
      "metadata": {
        "id": "fuJzWEAjsXS6"
      },
      "execution_count": 87,
      "outputs": []
    },
    {
      "cell_type": "markdown",
      "source": [
        "###MultipleLines"
      ],
      "metadata": {
        "id": "uJ7hBRELrcdY"
      }
    },
    {
      "cell_type": "code",
      "source": [
        "df = df.withColumn(\"MultipleLines\", when((df.PhoneService == 0), \"No phone service\").otherwise(col('MultipleLines')))"
      ],
      "metadata": {
        "id": "Xu9mih05rfVJ"
      },
      "execution_count": 88,
      "outputs": []
    },
    {
      "cell_type": "code",
      "source": [
        "df.groupBy('MultipleLines').count().show()"
      ],
      "metadata": {
        "colab": {
          "base_uri": "https://localhost:8080/"
        },
        "id": "xFr6NtVUr1-a",
        "outputId": "5a2f79e5-ac0d-43dc-ca68-9aa9543a1183"
      },
      "execution_count": 89,
      "outputs": [
        {
          "output_type": "stream",
          "name": "stdout",
          "text": [
            "+----------------+------+\n",
            "|   MultipleLines| count|\n",
            "+----------------+------+\n",
            "|No phone service| 21817|\n",
            "|            null|   263|\n",
            "|              No| 82507|\n",
            "|             Yes|125403|\n",
            "+----------------+------+\n",
            "\n"
          ]
        }
      ]
    },
    {
      "cell_type": "code",
      "source": [
        "df = df.fillna(\"Yes\", subset=[\"MultipleLines\"])"
      ],
      "metadata": {
        "id": "HL1VJSygsP3W"
      },
      "execution_count": 90,
      "outputs": []
    },
    {
      "cell_type": "markdown",
      "source": [
        "نگاشتی برای پاسخ باینتری انجام میشود. برای افرادی که تلفن سرویس ندارند نیز نه در نظر گرفته می‌شود زیرا این اطلاع در ستون دیگر وجود دارد."
      ],
      "metadata": {
        "id": "HgTEd0kUviMy"
      }
    },
    {
      "cell_type": "code",
      "source": [
        "df = df.withColumn(\"MultipleLines\", when(df[\"MultipleLines\"] == 'No phone service', 'No').otherwise(col('MultipleLines')))"
      ],
      "metadata": {
        "id": "aHqDZVR_vZ_e"
      },
      "execution_count": 91,
      "outputs": []
    },
    {
      "cell_type": "markdown",
      "source": [
        "###InternetService"
      ],
      "metadata": {
        "id": "JzqAbK98v3Ci"
      }
    },
    {
      "cell_type": "code",
      "source": [
        "condition_no = ((df.OnlineSecurity == \"No internet service\")|\n",
        "                (df.OnlineBackup == \"No internet service\")|\n",
        "                (df.DeviceProtection == \"No internet service\")|\n",
        "                (df.TechSupport == \"No internet service\")|\n",
        "                (df.StreamingTV == \"No internet service\")|\n",
        "                (df.StreamingMovies == \"No internet service\"))"
      ],
      "metadata": {
        "id": "VmzSR49NwZgQ"
      },
      "execution_count": 92,
      "outputs": []
    },
    {
      "cell_type": "code",
      "source": [
        "df = df.withColumn(\"InternetService\", when((isnan(\"InternetService\") | col(\"InternetService\").isNull()) & condition_no, \"No\").otherwise(col('InternetService')))"
      ],
      "metadata": {
        "id": "Uf9VKDwkv2Qv"
      },
      "execution_count": 93,
      "outputs": []
    },
    {
      "cell_type": "code",
      "source": [
        "df = df.withColumn(\"InternetService\", when((isnan(\"InternetService\") | col(\"InternetService\").isNull()) & (df.PhoneService == \"No\"), \"Fiber optic\").otherwise(col('InternetService')))"
      ],
      "metadata": {
        "id": "ye3T1azKxTfk"
      },
      "execution_count": 94,
      "outputs": []
    },
    {
      "cell_type": "code",
      "source": [
        "df.groupBy('InternetService').count().show()"
      ],
      "metadata": {
        "colab": {
          "base_uri": "https://localhost:8080/"
        },
        "id": "7-5DKX3NxAu-",
        "outputId": "f1a674a0-d4b9-41c3-a2fa-1e56295e1a0b"
      },
      "execution_count": 95,
      "outputs": [
        {
          "output_type": "stream",
          "name": "stdout",
          "text": [
            "+---------------+------+\n",
            "|InternetService| count|\n",
            "+---------------+------+\n",
            "|           null|   103|\n",
            "|    Fiber optic|102776|\n",
            "|             No| 46988|\n",
            "|            DSL| 80123|\n",
            "+---------------+------+\n",
            "\n"
          ]
        }
      ]
    },
    {
      "cell_type": "code",
      "source": [
        "df = df.fillna(\"Fiber optic\", subset=[\"InternetService\"])"
      ],
      "metadata": {
        "id": "WXsFw4PbxP2_"
      },
      "execution_count": 96,
      "outputs": []
    },
    {
      "cell_type": "code",
      "source": [
        "df.groupBy('InternetService').count().show()"
      ],
      "metadata": {
        "colab": {
          "base_uri": "https://localhost:8080/"
        },
        "id": "RZCwKDN0xp8w",
        "outputId": "ac0a53bd-124d-499e-b03c-a36d6ffc62af"
      },
      "execution_count": 97,
      "outputs": [
        {
          "output_type": "stream",
          "name": "stdout",
          "text": [
            "+---------------+------+\n",
            "|InternetService| count|\n",
            "+---------------+------+\n",
            "|    Fiber optic|102879|\n",
            "|             No| 46988|\n",
            "|            DSL| 80123|\n",
            "+---------------+------+\n",
            "\n"
          ]
        }
      ]
    },
    {
      "cell_type": "markdown",
      "source": [
        "###TechSupport"
      ],
      "metadata": {
        "id": "DABKKW6ixtWQ"
      }
    },
    {
      "cell_type": "code",
      "source": [
        "df = df.withColumn(\"TechSupport\", when((isnan(\"TechSupport\") | col(\"TechSupport\").isNull()) & (df.InternetService == \"No\"), \"No internet service\").otherwise(col('TechSupport')))"
      ],
      "metadata": {
        "id": "l5rQ-dOTyVOo"
      },
      "execution_count": 98,
      "outputs": []
    },
    {
      "cell_type": "code",
      "source": [
        "df = df.withColumn(\"TechSupport\", when((isnan(\"TechSupport\") | col(\"TechSupport\").isNull()) & (df.InternetService == \"DSL\"), \"Yes\").otherwise(col('TechSupport')))\n",
        "df = df.withColumn(\"TechSupport\", when((isnan(\"TechSupport\") | col(\"TechSupport\").isNull()) & (df.InternetService == \"Fiber optic\"), \"No\").otherwise(col('TechSupport')))"
      ],
      "metadata": {
        "id": "5ONrrPay0mTq"
      },
      "execution_count": 99,
      "outputs": []
    },
    {
      "cell_type": "code",
      "source": [
        "df.groupBy('TechSupport').count().show()"
      ],
      "metadata": {
        "colab": {
          "base_uri": "https://localhost:8080/"
        },
        "id": "4u9oAG93z9Lm",
        "outputId": "be9f6304-e1b0-4ea9-de7b-6aba623442b5"
      },
      "execution_count": 100,
      "outputs": [
        {
          "output_type": "stream",
          "name": "stdout",
          "text": [
            "+-------------------+-----+\n",
            "|        TechSupport|count|\n",
            "+-------------------+-----+\n",
            "|                 No|90638|\n",
            "|                Yes|92364|\n",
            "|No internet service|46988|\n",
            "+-------------------+-----+\n",
            "\n"
          ]
        }
      ]
    },
    {
      "cell_type": "code",
      "source": [
        "df = df.withColumn(\"TechSupport\", when(df[\"TechSupport\"] == 'No internet service', 'No').otherwise(col('TechSupport')))"
      ],
      "metadata": {
        "id": "KNnx6xz40QdU"
      },
      "execution_count": 101,
      "outputs": []
    },
    {
      "cell_type": "markdown",
      "source": [
        "###OnlineSecurity"
      ],
      "metadata": {
        "id": "dUVfC6-D1QOY"
      }
    },
    {
      "cell_type": "code",
      "source": [
        "df = df.withColumn(\"OnlineSecurity\", when((isnan(\"OnlineSecurity\") | col(\"OnlineSecurity\").isNull()) & (df.InternetService == \"No\"), \"No internet service\").otherwise(col('OnlineSecurity')))"
      ],
      "metadata": {
        "id": "SJyhHEJvO6sc"
      },
      "execution_count": 102,
      "outputs": []
    },
    {
      "cell_type": "code",
      "source": [
        "df = df.withColumn(\"OnlineSecurity\", when((isnan(\"OnlineSecurity\") | col(\"OnlineSecurity\").isNull()) & (df.InternetService == \"DSL\"), \"Yes\").otherwise(col('OnlineSecurity')))\n",
        "df = df.withColumn(\"OnlineSecurity\", when((isnan(\"OnlineSecurity\") | col(\"OnlineSecurity\").isNull()) & (df.InternetService == \"Fiber optic\"), \"No\").otherwise(col('OnlineSecurity')))"
      ],
      "metadata": {
        "id": "74RVg5UuPP_c"
      },
      "execution_count": 103,
      "outputs": []
    },
    {
      "cell_type": "code",
      "source": [
        "df.groupBy('OnlineSecurity').count().show()"
      ],
      "metadata": {
        "colab": {
          "base_uri": "https://localhost:8080/"
        },
        "id": "gQ4FtDeBPja-",
        "outputId": "6fd4413b-3160-4fa0-eddb-26a80d7e8826"
      },
      "execution_count": 104,
      "outputs": [
        {
          "output_type": "stream",
          "name": "stdout",
          "text": [
            "+-------------------+-----+\n",
            "|     OnlineSecurity|count|\n",
            "+-------------------+-----+\n",
            "|                 No|91146|\n",
            "|                Yes|91856|\n",
            "|No internet service|46988|\n",
            "+-------------------+-----+\n",
            "\n"
          ]
        }
      ]
    },
    {
      "cell_type": "code",
      "source": [
        "df = df.withColumn(\"OnlineSecurity\", when(df[\"OnlineSecurity\"] == 'No internet service', 'No').otherwise(col('OnlineSecurity')))"
      ],
      "metadata": {
        "id": "NOkzUX8-PmSP"
      },
      "execution_count": 105,
      "outputs": []
    },
    {
      "cell_type": "markdown",
      "source": [
        "###OnlineBackup"
      ],
      "metadata": {
        "id": "yHvPOo0bP1U2"
      }
    },
    {
      "cell_type": "code",
      "source": [
        "df = df.withColumn(\"OnlineBackup\", when((isnan(\"OnlineBackup\") | col(\"OnlineBackup\").isNull()) & (df.InternetService == \"No\"), \"No internet service\").otherwise(col('OnlineBackup')))"
      ],
      "metadata": {
        "id": "9TbhmCTnP4Tx"
      },
      "execution_count": 106,
      "outputs": []
    },
    {
      "cell_type": "code",
      "source": [
        "df = df.fillna(\"Yes\", subset=[\"OnlineBackup\"])"
      ],
      "metadata": {
        "id": "CWR9nl-2QOx1"
      },
      "execution_count": 107,
      "outputs": []
    },
    {
      "cell_type": "code",
      "source": [
        "df = df.withColumn(\"OnlineBackup\", when(df[\"OnlineBackup\"] == 'No internet service', 'No').otherwise(col('OnlineBackup')))"
      ],
      "metadata": {
        "id": "0fjpRAEXQcQy"
      },
      "execution_count": 108,
      "outputs": []
    },
    {
      "cell_type": "markdown",
      "source": [
        "###DeviceProtection"
      ],
      "metadata": {
        "id": "yZSlmBRPQgEs"
      }
    },
    {
      "cell_type": "code",
      "source": [
        "df = df.withColumn(\"DeviceProtection\", when((isnan(\"DeviceProtection\") | col(\"DeviceProtection\").isNull()) & (df.InternetService == \"No\"), \"No internet service\").otherwise(col('DeviceProtection')))"
      ],
      "metadata": {
        "id": "nenyBV1HQjY1"
      },
      "execution_count": 109,
      "outputs": []
    },
    {
      "cell_type": "code",
      "source": [
        "df = df.fillna(\"Yes\", subset=[\"DeviceProtection\"])"
      ],
      "metadata": {
        "id": "CAIZnOHtQ0us"
      },
      "execution_count": 110,
      "outputs": []
    },
    {
      "cell_type": "code",
      "source": [
        "df = df.withColumn(\"DeviceProtection\", when(df[\"DeviceProtection\"] == 'No internet service', 'No').otherwise(col('DeviceProtection')))"
      ],
      "metadata": {
        "id": "M9rnnSrbQ19U"
      },
      "execution_count": 111,
      "outputs": []
    },
    {
      "cell_type": "markdown",
      "source": [
        "###StreamingTV"
      ],
      "metadata": {
        "id": "CpMRgsxERGwb"
      }
    },
    {
      "cell_type": "code",
      "source": [
        "df = df.withColumn(\"StreamingTV\", when((isnan(\"StreamingTV\") | col(\"StreamingTV\").isNull()) & (df.InternetService == \"No\"), \"No internet service\").otherwise(col('StreamingTV')))"
      ],
      "metadata": {
        "id": "KxmwK-4vRLaV"
      },
      "execution_count": 112,
      "outputs": []
    },
    {
      "cell_type": "code",
      "source": [
        "df = df.fillna(\"Yes\", subset=[\"StreamingTV\"])"
      ],
      "metadata": {
        "id": "4jL7cMlDRQb-"
      },
      "execution_count": 113,
      "outputs": []
    },
    {
      "cell_type": "code",
      "source": [
        "df = df.withColumn(\"StreamingTV\", when(df[\"StreamingTV\"] == 'No internet service', 'No').otherwise(col('StreamingTV')))"
      ],
      "metadata": {
        "id": "lIPVX6NURRmy"
      },
      "execution_count": 114,
      "outputs": []
    },
    {
      "cell_type": "markdown",
      "source": [
        "###StreamingMovies"
      ],
      "metadata": {
        "id": "PByit2qGRlZT"
      }
    },
    {
      "cell_type": "code",
      "source": [
        "df = df.withColumn(\"StreamingMovies\", when((isnan(\"StreamingMovies\") | col(\"StreamingMovies\").isNull()) & (df.InternetService == \"No\"), \"No internet service\").otherwise(col('StreamingMovies')))"
      ],
      "metadata": {
        "id": "bNZeVbdFRnfV"
      },
      "execution_count": 115,
      "outputs": []
    },
    {
      "cell_type": "code",
      "source": [
        "df = df.fillna(\"Yes\", subset=[\"StreamingMovies\"])"
      ],
      "metadata": {
        "id": "D8zWC7zgRpvO"
      },
      "execution_count": 116,
      "outputs": []
    },
    {
      "cell_type": "code",
      "source": [
        "df = df.withColumn(\"StreamingMovies\", when(df[\"StreamingMovies\"] == 'No internet service', 'No').otherwise(col('StreamingMovies')))"
      ],
      "metadata": {
        "id": "YpALa69JRr5U"
      },
      "execution_count": 117,
      "outputs": []
    },
    {
      "cell_type": "markdown",
      "source": [
        "###Contract"
      ],
      "metadata": {
        "id": "_HBoa0S2cW0l"
      }
    },
    {
      "cell_type": "code",
      "source": [
        "df.select('Contract').groupBy('Contract').count().show()"
      ],
      "metadata": {
        "colab": {
          "base_uri": "https://localhost:8080/"
        },
        "id": "yqQPCVQrcV26",
        "outputId": "2624e687-d56c-41d8-f8c4-7d42906bb7cc"
      },
      "execution_count": 118,
      "outputs": [
        {
          "output_type": "stream",
          "name": "stdout",
          "text": [
            "+--------------+-----+\n",
            "|      Contract|count|\n",
            "+--------------+-----+\n",
            "|Month-to-month|70422|\n",
            "|          null|  230|\n",
            "|      One year|62365|\n",
            "|      Two year|96973|\n",
            "+--------------+-----+\n",
            "\n"
          ]
        }
      ]
    },
    {
      "cell_type": "code",
      "source": [
        "df = df.withColumn(\"Contract\", when((isnan(\"Contract\") | col(\"Contract\").isNull()) &(df.PaymentMethod == \"Mailed check\"), \"Month-to-month\").otherwise(col('Contract')))"
      ],
      "metadata": {
        "id": "cje5V61jhdCB"
      },
      "execution_count": 119,
      "outputs": []
    },
    {
      "cell_type": "code",
      "source": [
        "df = df.fillna('Two year', ['Contract'])"
      ],
      "metadata": {
        "id": "OmKktmHycy59"
      },
      "execution_count": 120,
      "outputs": []
    },
    {
      "cell_type": "markdown",
      "source": [
        "###PaymentMethod"
      ],
      "metadata": {
        "id": "BA3XKWLFfKMm"
      }
    },
    {
      "cell_type": "code",
      "source": [
        "df.select('PaymentMethod').groupBy('PaymentMethod').count().show()"
      ],
      "metadata": {
        "colab": {
          "base_uri": "https://localhost:8080/"
        },
        "id": "97Zgemy3fLhl",
        "outputId": "6a9b02a3-e75d-4d65-d5db-f0a2e3304ba4"
      },
      "execution_count": 121,
      "outputs": [
        {
          "output_type": "stream",
          "name": "stdout",
          "text": [
            "+--------------------+-----+\n",
            "|       PaymentMethod|count|\n",
            "+--------------------+-----+\n",
            "|Credit card (auto...|66458|\n",
            "|                null|  246|\n",
            "|        Mailed check|35478|\n",
            "|Bank transfer (au...|67771|\n",
            "|    Electronic check|60037|\n",
            "+--------------------+-----+\n",
            "\n"
          ]
        }
      ]
    },
    {
      "cell_type": "code",
      "source": [
        "df = df.withColumn(\"PaymentMethod\", when((isnan(\"PaymentMethod\") | col(\"PaymentMethod\").isNull()) &(df.Contract == \"Month-to-month\"), \"Mailed check\").otherwise(col('PaymentMethod')))\n",
        "df = df.withColumn(\"PaymentMethod\", when((isnan(\"PaymentMethod\") | col(\"PaymentMethod\").isNull()) &(df.Contract != \"Month-to-month\"), \"Credit card (automatic)\").otherwise(col('PaymentMethod')))"
      ],
      "metadata": {
        "id": "wyU_imWRifE_"
      },
      "execution_count": 122,
      "outputs": []
    },
    {
      "cell_type": "code",
      "source": [
        "df = df.fillna('Bank transfer (automatic)', ['PaymentMethod'])"
      ],
      "metadata": {
        "id": "PRpIUZVjfOAP"
      },
      "execution_count": 123,
      "outputs": []
    },
    {
      "cell_type": "code",
      "source": [
        "df.select('PaymentMethod').groupBy('PaymentMethod').count().show()"
      ],
      "metadata": {
        "colab": {
          "base_uri": "https://localhost:8080/"
        },
        "id": "Ws2x566GjNnb",
        "outputId": "657313fe-96cc-4bbd-d937-6411d8fa4d2d"
      },
      "execution_count": 124,
      "outputs": [
        {
          "output_type": "stream",
          "name": "stdout",
          "text": [
            "+--------------------+-----+\n",
            "|       PaymentMethod|count|\n",
            "+--------------------+-----+\n",
            "|Credit card (auto...|66645|\n",
            "|        Mailed check|35537|\n",
            "|Bank transfer (au...|67771|\n",
            "|    Electronic check|60037|\n",
            "+--------------------+-----+\n",
            "\n"
          ]
        }
      ]
    },
    {
      "cell_type": "markdown",
      "source": [
        "###PaperlessBilling"
      ],
      "metadata": {
        "id": "ty3fTdVejTDy"
      }
    },
    {
      "cell_type": "code",
      "source": [
        "df = df.withColumn(\"PaperlessBilling\", when((isnan(\"PaperlessBilling\") | col(\"PaperlessBilling\").isNull()) &(df.Contract == \"PaymentMethod\"), \"No\").otherwise(col('PaperlessBilling')))"
      ],
      "metadata": {
        "id": "xH5d4_hkjYxA"
      },
      "execution_count": 125,
      "outputs": []
    },
    {
      "cell_type": "code",
      "source": [
        "df = df.fillna('Yes', ['PaperlessBilling'])"
      ],
      "metadata": {
        "id": "m4gLvpwyj2Lq"
      },
      "execution_count": 126,
      "outputs": []
    },
    {
      "cell_type": "code",
      "source": [
        "df.select('PaperlessBilling').groupBy('PaperlessBilling').count().show()"
      ],
      "metadata": {
        "colab": {
          "base_uri": "https://localhost:8080/"
        },
        "id": "sQWLAElHj9Fq",
        "outputId": "32bd9916-2b90-4ff5-cacf-ee139bc02eef"
      },
      "execution_count": 127,
      "outputs": [
        {
          "output_type": "stream",
          "name": "stdout",
          "text": [
            "+----------------+------+\n",
            "|PaperlessBilling| count|\n",
            "+----------------+------+\n",
            "|              No| 93128|\n",
            "|             Yes|136862|\n",
            "+----------------+------+\n",
            "\n"
          ]
        }
      ]
    },
    {
      "cell_type": "code",
      "source": [
        "# df = df.withColumn(\"PaperlessBilling\", when(df[\"PaperlessBilling\"] == 'Yes', 1).otherwise(0))"
      ],
      "metadata": {
        "id": "lv_NoyuKuTft"
      },
      "execution_count": 128,
      "outputs": []
    },
    {
      "cell_type": "markdown",
      "source": [
        "###tenure and MonthlyCharges and TotalCharges"
      ],
      "metadata": {
        "id": "KoWjvyYRlYA5"
      }
    },
    {
      "cell_type": "code",
      "source": [
        "df.select(['tenure', 'MonthlyCharges', 'TotalCharges']).summary().show()"
      ],
      "metadata": {
        "colab": {
          "base_uri": "https://localhost:8080/"
        },
        "id": "V9Meau3wlezz",
        "outputId": "bcd22827-bd3c-413b-c9e6-9f113784ca4b"
      },
      "execution_count": 129,
      "outputs": [
        {
          "output_type": "stream",
          "name": "stdout",
          "text": [
            "+-------+-----------------+------------------+------------------+\n",
            "|summary|           tenure|    MonthlyCharges|      TotalCharges|\n",
            "+-------+-----------------+------------------+------------------+\n",
            "|  count|           229765|            229747|            229739|\n",
            "|   mean|49.43501838835332|126.33354646633663|3700.3237047256403|\n",
            "| stddev|36.63299614293801| 856.9228133633615|2326.0362634043245|\n",
            "|    min|           -598.0|             18.25|              18.8|\n",
            "|    25%|             37.0|              45.2|           1502.25|\n",
            "|    50%|             56.0|             78.95|            3533.6|\n",
            "|    75%|             68.0|              97.0|            5676.0|\n",
            "|    max|             72.0|           14990.0|            8684.8|\n",
            "+-------+-----------------+------------------+------------------+\n",
            "\n"
          ]
        }
      ]
    },
    {
      "cell_type": "markdown",
      "source": [
        "همانطور که قبلا بررسی شد مقادیر غیرقابل قبول را نال می‌کنیم تا بقیه موارد پر شود"
      ],
      "metadata": {
        "id": "wcl5KVc_lwsK"
      }
    },
    {
      "cell_type": "code",
      "source": [
        "df = df.withColumn('tenure', when(col('tenure')<0, None).otherwise(col('tenure')))\n",
        "df = df.withColumn('MonthlyCharges', when(col('MonthlyCharges')>200, None).otherwise(col('MonthlyCharges')))"
      ],
      "metadata": {
        "id": "j53eXvl5lwHL"
      },
      "execution_count": 130,
      "outputs": []
    },
    {
      "cell_type": "code",
      "source": [
        "condition = (isnan(\"tenure\") | col(\"tenure\").isNull())& (~col('MonthlyCharges').isNull()) & (~col('TotalCharges').isNull())\n",
        "df = df.withColumn('tenure', when(condition, col('TotalCharges')/col('MonthlyCharges')).otherwise(col('tenure'))).\\\n",
        "        withColumn(\"tenure\",col(\"tenure\").cast(\"integer\"))\n",
        "mean_tenure = df.select('tenure').agg({'tenure': 'avg'}).collect()[0]['avg(tenure)']\n",
        "df = df.fillna(mean_tenure, ['tenure'])"
      ],
      "metadata": {
        "id": "R4KoFMnfmQT6"
      },
      "execution_count": 131,
      "outputs": []
    },
    {
      "cell_type": "code",
      "source": [
        "condition = (isnan(\"MonthlyCharges\") | col(\"MonthlyCharges\").isNull())& (~col('TotalCharges').isNull()) & (~col('tenure').isNull())\n",
        "df = df.withColumn('MonthlyCharges', when(condition, col('TotalCharges')/col('tenure')).otherwise(col('MonthlyCharges')))\n",
        "mean_MonthlyCharges = df.select('MonthlyCharges').agg({'MonthlyCharges': 'avg'}).collect()[0]['avg(MonthlyCharges)']\n",
        "df = df.fillna(mean_MonthlyCharges, ['MonthlyCharges'])"
      ],
      "metadata": {
        "id": "FNYLmFr7osDH"
      },
      "execution_count": 132,
      "outputs": []
    },
    {
      "cell_type": "code",
      "source": [
        "condition = (isnan(\"TotalCharges\") | col(\"TotalCharges\").isNull())& (~col('MonthlyCharges').isNull()) & (~col('tenure').isNull())\n",
        "df = df.withColumn('TotalCharges', when(condition, col('MonthlyCharges')*col('tenure')).otherwise(col('TotalCharges')))\n",
        "mean_TotalCharges = df.select('TotalCharges').agg({'TotalCharges': 'avg'}).collect()[0]['avg(TotalCharges)']\n",
        "df = df.fillna(mean_TotalCharges, ['TotalCharges'])"
      ],
      "metadata": {
        "id": "K1xNt5WBo7Su"
      },
      "execution_count": 133,
      "outputs": []
    },
    {
      "cell_type": "markdown",
      "source": [
        "###Label"
      ],
      "metadata": {
        "id": "4mu2p4-PuJwL"
      }
    },
    {
      "cell_type": "markdown",
      "source": [
        "مقادیر برچسب تنها دارای مقادیر نال است که به دلیل اینکه قرار است مدل بر اساس این برچسب‌ها آموزش ببیند مقادیر آن‌ها باید واقعی باشد بنابراین برای آموزش و ارزیابی از دیتاست بدون این موارد استفاده می شود"
      ],
      "metadata": {
        "id": "IYplnjbKs4fx"
      }
    },
    {
      "cell_type": "code",
      "source": [
        "df = df.filter(~col('Label').isNull())"
      ],
      "metadata": {
        "id": "xv69qem7uLnJ"
      },
      "execution_count": 134,
      "outputs": []
    },
    {
      "cell_type": "code",
      "source": [
        "# df = df.withColumn(\"Label\", when(df[\"Label\"] == 'Yes', 1).otherwise(0))"
      ],
      "metadata": {
        "id": "BHT9pFLwuO4D"
      },
      "execution_count": 135,
      "outputs": []
    },
    {
      "cell_type": "markdown",
      "source": [
        "##normalize and map multichoice to number"
      ],
      "metadata": {
        "id": "90308vbEpe3z"
      }
    },
    {
      "cell_type": "code",
      "source": [
        "df.select([count(when(isnan(c) | col(c).isNull(), c)).alias(c) for c in df.columns]).show()"
      ],
      "metadata": {
        "colab": {
          "base_uri": "https://localhost:8080/"
        },
        "id": "2LkCOOIRplfP",
        "outputId": "9acf905b-0a65-455b-95b6-22d457249f56"
      },
      "execution_count": 136,
      "outputs": [
        {
          "output_type": "stream",
          "name": "stdout",
          "text": [
            "+----------+------+-------------+-------+----------+------+------------+-------------+---------------+--------------+------------+----------------+-----------+-----------+---------------+--------+----------------+-------------+--------------+------------+-----+\n",
            "|customerID|gender|SeniorCitizen|Partner|Dependents|tenure|PhoneService|MultipleLines|InternetService|OnlineSecurity|OnlineBackup|DeviceProtection|TechSupport|StreamingTV|StreamingMovies|Contract|PaperlessBilling|PaymentMethod|MonthlyCharges|TotalCharges|Label|\n",
            "+----------+------+-------------+-------+----------+------+------------+-------------+---------------+--------------+------------+----------------+-----------+-----------+---------------+--------+----------------+-------------+--------------+------------+-----+\n",
            "|       193|     0|            0|      0|         0|     0|           0|            0|              0|             0|           0|               0|          0|          0|              0|       0|               0|            0|             0|           0|    0|\n",
            "+----------+------+-------------+-------+----------+------+------------+-------------+---------------+--------------+------------+----------------+-----------+-----------+---------------+--------+----------------+-------------+--------------+------------+-----+\n",
            "\n"
          ]
        }
      ]
    },
    {
      "cell_type": "code",
      "source": [
        "df = df.drop('customerID')"
      ],
      "metadata": {
        "id": "vj2Ms9fA5Mb9"
      },
      "execution_count": 137,
      "outputs": []
    },
    {
      "cell_type": "markdown",
      "source": [
        "ستون های کتگوریکال:\n",
        "\n",
        "\n",
        "*   InternetService\n",
        "*   Contract\n",
        "*   PaymentMethod<br/>\n",
        "قرارداد را می‌توان با مقادیر ترتیبی پر کرد و بقیه موارد را به‌صورت one-hot\n",
        "\n"
      ],
      "metadata": {
        "id": "HsuiKohvtq_P"
      }
    },
    {
      "cell_type": "markdown",
      "source": [
        "ستون قرارداد براساس ماه تبدیل به عدد میشه که معنی و اختلاف اونا بیشتر مشخص باشه"
      ],
      "metadata": {
        "id": "QEKU54eM1-1b"
      }
    },
    {
      "cell_type": "code",
      "source": [
        "df = df.withColumn(\"Contract\", when(df[\"Contract\"] == 'Month-to-month', 1).\\\n",
        "                   when(col('Contract')=='One year', 12).otherwise(24))"
      ],
      "metadata": {
        "id": "l5MFYIv8tmya"
      },
      "execution_count": 138,
      "outputs": []
    },
    {
      "cell_type": "code",
      "source": [
        "df.printSchema()"
      ],
      "metadata": {
        "colab": {
          "base_uri": "https://localhost:8080/"
        },
        "id": "zBZMIUTB3a1y",
        "outputId": "b9442ee6-9b3b-4dcf-eb35-72b772331588"
      },
      "execution_count": 139,
      "outputs": [
        {
          "output_type": "stream",
          "name": "stdout",
          "text": [
            "root\n",
            " |-- gender: string (nullable = false)\n",
            " |-- SeniorCitizen: double (nullable = false)\n",
            " |-- Partner: string (nullable = false)\n",
            " |-- Dependents: string (nullable = false)\n",
            " |-- tenure: integer (nullable = true)\n",
            " |-- PhoneService: string (nullable = false)\n",
            " |-- MultipleLines: string (nullable = false)\n",
            " |-- InternetService: string (nullable = false)\n",
            " |-- OnlineSecurity: string (nullable = true)\n",
            " |-- OnlineBackup: string (nullable = false)\n",
            " |-- DeviceProtection: string (nullable = false)\n",
            " |-- TechSupport: string (nullable = true)\n",
            " |-- StreamingTV: string (nullable = false)\n",
            " |-- StreamingMovies: string (nullable = false)\n",
            " |-- Contract: integer (nullable = false)\n",
            " |-- PaperlessBilling: string (nullable = false)\n",
            " |-- PaymentMethod: string (nullable = false)\n",
            " |-- MonthlyCharges: double (nullable = false)\n",
            " |-- TotalCharges: double (nullable = false)\n",
            " |-- Label: string (nullable = true)\n",
            "\n"
          ]
        }
      ]
    },
    {
      "cell_type": "code",
      "source": [
        "categorical_cols = {'gender', 'Partner', 'Dependents', 'PhoneService', \n",
        "                    'MultipleLines', 'InternetService', 'OnlineSecurity', \n",
        "                    'OnlineBackup', 'DeviceProtection', 'TechSupport', \n",
        "                    'StreamingTV', 'StreamingMovies', 'PaperlessBilling', \n",
        "                    'PaymentMethod', 'Label'}\n",
        "one_hot_cols = {'PaymentMethod', 'InternetService'}\n",
        "numeric_cols = {\"tenure\", \"TotalCharges\", \"MonthlyCharges\", \"Contract\"}"
      ],
      "metadata": {
        "id": "YpiF-t2z2WLx"
      },
      "execution_count": 203,
      "outputs": []
    },
    {
      "cell_type": "code",
      "source": [
        "stages = list()\n",
        "for col in categorical_cols:\n",
        "    string_indexer = StringIndexer(inputCol=col, outputCol=col+\"Index\")\n",
        "    stages.append(string_indexer)\n",
        "    if col in one_hot_cols:\n",
        "      stages.append(OneHotEncoder(inputCols=[string_indexer.getOutputCol()], outputCols=[col+'CVect']))\n",
        "\n",
        "for col in numeric_cols:\n",
        "    assembler = VectorAssembler(inputCols=[col],outputCol=col+'Vect')\n",
        "    scaler = MinMaxScaler(inputCol=col+'Vect', outputCol=col+'Scaled')\n",
        "    stages += [assembler, scaler]"
      ],
      "metadata": {
        "id": "xaupXX7-5RXo"
      },
      "execution_count": 228,
      "outputs": []
    },
    {
      "cell_type": "code",
      "source": [
        "features = [col+'Index' for col in categorical_cols if col not in list(one_hot_cols)+['Label']] + [col+'CVect' for col in one_hot_cols] + [col+'Scaled' for col in numeric_cols]"
      ],
      "metadata": {
        "id": "5vcGskOW9a2a"
      },
      "execution_count": 229,
      "outputs": []
    },
    {
      "cell_type": "code",
      "source": [
        "feaure_assembler = VectorAssembler(inputCols=features, outputCol=\"features\")\n",
        "stages.append(feaure_assembler)"
      ],
      "metadata": {
        "id": "valjXlYW98dz"
      },
      "execution_count": 230,
      "outputs": []
    },
    {
      "cell_type": "code",
      "source": [
        "pipeline = Pipeline(stages=stages)\n",
        "normalized_model = pipeline.fit(df)\n",
        "normalized_df = normalized_model.transform(df)"
      ],
      "metadata": {
        "id": "ygrv8QbSCHX5"
      },
      "execution_count": 231,
      "outputs": []
    },
    {
      "cell_type": "code",
      "source": [
        "\n",
        "matrix = Correlation.corr(normalized_df, \"features\")"
      ],
      "metadata": {
        "id": "cy6Ctp8zX9IN"
      },
      "execution_count": null,
      "outputs": []
    },
    {
      "cell_type": "code",
      "source": [
        "normalized_df.printSchema()"
      ],
      "metadata": {
        "colab": {
          "base_uri": "https://localhost:8080/"
        },
        "id": "jTSKUej7xYqX",
        "outputId": "7ce4efab-182b-40b9-9b9f-39c783d9800a"
      },
      "execution_count": 239,
      "outputs": [
        {
          "output_type": "stream",
          "name": "stdout",
          "text": [
            "root\n",
            " |-- gender: string (nullable = false)\n",
            " |-- SeniorCitizen: double (nullable = false)\n",
            " |-- Partner: string (nullable = false)\n",
            " |-- Dependents: string (nullable = false)\n",
            " |-- tenure: integer (nullable = true)\n",
            " |-- PhoneService: string (nullable = false)\n",
            " |-- MultipleLines: string (nullable = false)\n",
            " |-- InternetService: string (nullable = false)\n",
            " |-- OnlineSecurity: string (nullable = true)\n",
            " |-- OnlineBackup: string (nullable = false)\n",
            " |-- DeviceProtection: string (nullable = false)\n",
            " |-- TechSupport: string (nullable = true)\n",
            " |-- StreamingTV: string (nullable = false)\n",
            " |-- StreamingMovies: string (nullable = false)\n",
            " |-- Contract: integer (nullable = false)\n",
            " |-- PaperlessBilling: string (nullable = false)\n",
            " |-- PaymentMethod: string (nullable = false)\n",
            " |-- MonthlyCharges: double (nullable = false)\n",
            " |-- TotalCharges: double (nullable = false)\n",
            " |-- Label: string (nullable = true)\n",
            " |-- StreamingMoviesIndex: double (nullable = false)\n",
            " |-- PhoneServiceIndex: double (nullable = false)\n",
            " |-- DeviceProtectionIndex: double (nullable = false)\n",
            " |-- PartnerIndex: double (nullable = false)\n",
            " |-- StreamingTVIndex: double (nullable = false)\n",
            " |-- InternetServiceIndex: double (nullable = false)\n",
            " |-- InternetServiceCVect: vector (nullable = true)\n",
            " |-- PaperlessBillingIndex: double (nullable = false)\n",
            " |-- TechSupportIndex: double (nullable = false)\n",
            " |-- PaymentMethodIndex: double (nullable = false)\n",
            " |-- PaymentMethodCVect: vector (nullable = true)\n",
            " |-- OnlineBackupIndex: double (nullable = false)\n",
            " |-- MultipleLinesIndex: double (nullable = false)\n",
            " |-- OnlineSecurityIndex: double (nullable = false)\n",
            " |-- genderIndex: double (nullable = false)\n",
            " |-- LabelIndex: double (nullable = false)\n",
            " |-- DependentsIndex: double (nullable = false)\n",
            " |-- tenureVect: vector (nullable = true)\n",
            " |-- tenureScaled: vector (nullable = true)\n",
            " |-- ContractVect: vector (nullable = true)\n",
            " |-- ContractScaled: vector (nullable = true)\n",
            " |-- TotalChargesVect: vector (nullable = true)\n",
            " |-- TotalChargesScaled: vector (nullable = true)\n",
            " |-- MonthlyChargesVect: vector (nullable = true)\n",
            " |-- MonthlyChargesScaled: vector (nullable = true)\n",
            " |-- features: vector (nullable = true)\n",
            "\n"
          ]
        }
      ]
    },
    {
      "cell_type": "markdown",
      "source": [
        "##Model"
      ],
      "metadata": {
        "id": "FpBQlKhi5e3K"
      }
    },
    {
      "cell_type": "markdown",
      "source": [
        "split train and test data"
      ],
      "metadata": {
        "id": "Q_4JcWT76Eqj"
      }
    },
    {
      "cell_type": "code",
      "source": [
        "train, test = normalized_df.randomSplit([0.8, 0.2], 42)"
      ],
      "metadata": {
        "id": "1rsX110F5kbs"
      },
      "execution_count": 240,
      "outputs": []
    },
    {
      "cell_type": "code",
      "source": [
        "train.count()"
      ],
      "metadata": {
        "colab": {
          "base_uri": "https://localhost:8080/"
        },
        "id": "fnctiwO25eJp",
        "outputId": "ebb4176f-a012-4ec2-8a81-29473738b5c9"
      },
      "execution_count": 241,
      "outputs": [
        {
          "output_type": "execute_result",
          "data": {
            "text/plain": [
              "183784"
            ]
          },
          "metadata": {},
          "execution_count": 241
        }
      ]
    },
    {
      "cell_type": "code",
      "source": [
        "test.count()"
      ],
      "metadata": {
        "colab": {
          "base_uri": "https://localhost:8080/"
        },
        "id": "OdDeYcC76mfk",
        "outputId": "3c055a1e-f8f9-44ff-9332-c7eb366315a9"
      },
      "execution_count": 242,
      "outputs": [
        {
          "output_type": "execute_result",
          "data": {
            "text/plain": [
              "45998"
            ]
          },
          "metadata": {},
          "execution_count": 242
        }
      ]
    },
    {
      "cell_type": "code",
      "source": [
        "logistic_regression = LogisticRegression(featuresCol='features', labelCol='LabelIndex', maxIter=30)\n",
        "lr_trained_model = logistic_regression.fit(train)"
      ],
      "metadata": {
        "id": "pmvtmz3I6bgJ"
      },
      "execution_count": 244,
      "outputs": []
    },
    {
      "cell_type": "code",
      "source": [
        "print(\"Coefficients: \\n\" + str(lr_trained_model.coefficientMatrix))\n",
        "print(\"Intercept: \" + str(lr_trained_model.interceptVector))"
      ],
      "metadata": {
        "colab": {
          "base_uri": "https://localhost:8080/"
        },
        "id": "UpkC1JxQzYpX",
        "outputId": "25b57f7e-6f3f-4645-8b9e-ccc11e810633"
      },
      "execution_count": 245,
      "outputs": [
        {
          "output_type": "stream",
          "name": "stdout",
          "text": [
            "Coefficients: \n",
            "DenseMatrix([[ 0.29380077,  0.6561055 , -0.08668471, -0.03321732,  0.3073023 ,\n",
            "              -0.25121711, -0.33632481, -0.09129763, -0.31351645, -0.35578358,\n",
            "              -0.09646559, -0.2241024 ,  0.22685211,  0.23968432,  0.61231666,\n",
            "               1.63079464,  0.86742372, -2.43591014, -1.32456309,  0.88660905,\n",
            "               0.18292253]])\n",
            "Intercept: [-1.5614847744136728]\n"
          ]
        }
      ]
    },
    {
      "cell_type": "code",
      "source": [
        "beta = np.sort(lr_trained_model.coefficients)\n",
        "plt.plot(beta)\n",
        "plt.ylabel('Beta Coefficients')\n",
        "plt.show()"
      ],
      "metadata": {
        "colab": {
          "base_uri": "https://localhost:8080/",
          "height": 265
        },
        "id": "o1dZQDncyXRd",
        "outputId": "c250cebf-1820-472c-fd95-44c641a676d7"
      },
      "execution_count": 246,
      "outputs": [
        {
          "output_type": "display_data",
          "data": {
            "text/plain": [
              "<Figure size 432x288 with 1 Axes>"
            ],
            "image/png": "[encoded data removed]"
          },
          "metadata": {
            "needs_background": "light"
          }
        }
      ]
    },
    {
      "cell_type": "code",
      "source": [
        "trainingSummary = lr_trained_model.summary\n",
        "roc = trainingSummary.roc.toPandas()\n",
        "plt.plot(roc['FPR'],roc['TPR'])\n",
        "plt.ylabel('False Positive Rate')\n",
        "plt.xlabel('True Positive Rate')\n",
        "plt.title('ROC Curve')\n",
        "plt.show()\n",
        "print('Training set areaUnderROC: ' + str(trainingSummary.areaUnderROC))"
      ],
      "metadata": {
        "colab": {
          "base_uri": "https://localhost:8080/",
          "height": 347
        },
        "id": "rmj-uh-iU2-4",
        "outputId": "a8a99bd5-f6e1-4128-dc0d-5f8325ca182e"
      },
      "execution_count": 247,
      "outputs": [
        {
          "output_type": "stream",
          "name": "stderr",
          "text": [
            "/usr/local/lib/python3.7/dist-packages/pyspark/sql/context.py:127: FutureWarning: Deprecated in 3.0.0. Use SparkSession.builder.getOrCreate() instead.\n",
            "  FutureWarning\n"
          ]
        },
        {
          "output_type": "display_data",
          "data": {
            "text/plain": [
              "<Figure size 432x288 with 1 Axes>"
            ],
            "image/png": "[encoded data removed]"
          },
          "metadata": {
            "needs_background": "light"
          }
        },
        {
          "output_type": "stream",
          "name": "stdout",
          "text": [
            "Training set areaUnderROC: 0.8433126860227483\n"
          ]
        }
      ]
    },
    {
      "cell_type": "code",
      "source": [
        "pr = trainingSummary.pr.toPandas()\n",
        "plt.plot(pr['recall'],pr['precision'])\n",
        "plt.ylabel('Precision')\n",
        "plt.xlabel('Recall')\n",
        "plt.show()"
      ],
      "metadata": {
        "colab": {
          "base_uri": "https://localhost:8080/",
          "height": 314
        },
        "id": "s93mgZSmU88J",
        "outputId": "13da7d66-2ab2-42b1-ae3a-c82f14bca1f7"
      },
      "execution_count": 248,
      "outputs": [
        {
          "output_type": "stream",
          "name": "stderr",
          "text": [
            "/usr/local/lib/python3.7/dist-packages/pyspark/sql/context.py:127: FutureWarning: Deprecated in 3.0.0. Use SparkSession.builder.getOrCreate() instead.\n",
            "  FutureWarning\n"
          ]
        },
        {
          "output_type": "display_data",
          "data": {
            "text/plain": [
              "<Figure size 432x288 with 1 Axes>"
            ],
            "image/png": "[encoded data removed]"
          },
          "metadata": {
            "needs_background": "light"
          }
        }
      ]
    },
    {
      "cell_type": "code",
      "source": [
        "predictions = lr_trained_model.transform(test)\n",
        "evaluator = BinaryClassificationEvaluator(labelCol='LabelIndex')\n",
        "print('Test Area Under ROC', evaluator.evaluate(predictions))"
      ],
      "metadata": {
        "colab": {
          "base_uri": "https://localhost:8080/"
        },
        "id": "jRTioH73U9u1",
        "outputId": "7c67a55d-baf0-4a7b-b3fc-d6e8df2b1f48"
      },
      "execution_count": 251,
      "outputs": [
        {
          "output_type": "stream",
          "name": "stdout",
          "text": [
            "Test Area Under ROC 0.8411344648462572\n"
          ]
        }
      ]
    }
  ]
}